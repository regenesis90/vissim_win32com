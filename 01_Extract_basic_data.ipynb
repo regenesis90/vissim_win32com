{
 "cells": [
  {
   "cell_type": "markdown",
   "id": "07376ee2-e259-456e-9826-190dc13a0530",
   "metadata": {},
   "source": [
    "# Basic Data Extraction from Vissim 7 Simulation\n",
    "* 본 코드의 기능\n",
    "    * 특정 네트워크를 바탕으로 VISSIM 7에서 시뮬레이션 실행\n",
    "    * 네트워크로부터 각종 필수 데이터를 추출하여 .csv 파일로 저장"
   ]
  },
  {
   "cell_type": "markdown",
   "id": "a034bd85-f91e-4b6f-946c-0ac722d2a630",
   "metadata": {},
   "source": [
    "# Imports"
   ]
  },
  {
   "cell_type": "code",
   "execution_count": 17,
   "id": "c32e7acc-3e2b-40d4-a3e3-4374b02c5a6a",
   "metadata": {
    "execution": {
     "iopub.execute_input": "2022-01-28T03:46:07.770756Z",
     "iopub.status.busy": "2022-01-28T03:46:07.769759Z",
     "iopub.status.idle": "2022-01-28T03:46:09.539436Z",
     "shell.execute_reply": "2022-01-28T03:46:09.539436Z",
     "shell.execute_reply.started": "2022-01-28T03:46:07.770756Z"
    },
    "tags": []
   },
   "outputs": [],
   "source": [
    "import win32com.client as com\n",
    "\n",
    "from tqdm import tqdm\n",
    "import os\n",
    "\n",
    "import numpy as np\n",
    "import pandas as pd"
   ]
  },
  {
   "cell_type": "markdown",
   "id": "8aa3bad4-9129-4fe6-a1f2-ceaec962d916",
   "metadata": {},
   "source": [
    "# Load VISSIM file"
   ]
  },
  {
   "cell_type": "markdown",
   "id": "b35ae27f-e70f-4b96-871c-b421352b0cb0",
   "metadata": {},
   "source": [
    "## Open a new Vissim Window\n",
    "* COM Server 연결 => 새로운 VISSIM 창 열기(VISSIM이 실행됨)"
   ]
  },
  {
   "cell_type": "code",
   "execution_count": 3,
   "id": "7eeb504e-fc55-414c-8858-762d294776af",
   "metadata": {
    "execution": {
     "iopub.execute_input": "2022-01-28T03:41:05.884072Z",
     "iopub.status.busy": "2022-01-28T03:41:05.884072Z",
     "iopub.status.idle": "2022-01-28T03:41:13.042537Z",
     "shell.execute_reply": "2022-01-28T03:41:13.042537Z",
     "shell.execute_reply.started": "2022-01-28T03:41:05.884072Z"
    },
    "tags": []
   },
   "outputs": [],
   "source": [
    "Vissim = com.Dispatch('Vissim.Vissim-64.700') # Vissim = com.Dispatch() # Vissim 7 - 64 bit - VISSIM을 연다"
   ]
  },
  {
   "cell_type": "markdown",
   "id": "428f26e3-3405-4a5b-8427-e7ee14b9cc81",
   "metadata": {},
   "source": [
    "## Load a Vissim Network & Layout"
   ]
  },
  {
   "cell_type": "code",
   "execution_count": 4,
   "id": "99de1f63-0a54-477b-8d12-4a31609e6ff1",
   "metadata": {
    "execution": {
     "iopub.execute_input": "2022-01-28T03:41:13.042537Z",
     "iopub.status.busy": "2022-01-28T03:41:13.042537Z",
     "iopub.status.idle": "2022-01-28T03:41:13.077402Z",
     "shell.execute_reply": "2022-01-28T03:41:13.076406Z",
     "shell.execute_reply.started": "2022-01-28T03:41:13.042537Z"
    },
    "tags": []
   },
   "outputs": [],
   "source": [
    "network_folder_path = 'D:/OneDrive - 연세대학교 (Yonsei University)/Projects/Personal/03_VISSIM_win32com/network_example'"
   ]
  },
  {
   "cell_type": "code",
   "execution_count": 5,
   "id": "ca89d84c-4a74-49d4-b624-104f0aac681c",
   "metadata": {
    "execution": {
     "iopub.execute_input": "2022-01-28T03:41:13.080397Z",
     "iopub.status.busy": "2022-01-28T03:41:13.080397Z",
     "iopub.status.idle": "2022-01-28T03:41:16.215032Z",
     "shell.execute_reply": "2022-01-28T03:41:16.215032Z",
     "shell.execute_reply.started": "2022-01-28T03:41:13.080397Z"
    },
    "tags": []
   },
   "outputs": [
    {
     "name": "stdout",
     "output_type": "stream",
     "text": [
      "D:\\OneDrive - 연세대학교 (Yonsei University)\\Projects\\Personal\\03_VISSIM_win32com\\network_example\\COM_example.inpx\n"
     ]
    }
   ],
   "source": [
    "read_inpx_name = 'COM_example.inpx'\n",
    "read_inpx_path = os.path.abspath(os.path.join(network_folder_path, read_inpx_name)) # 네트워크 파일인 .inpx 로드\n",
    "\n",
    "print(read_inpx_path)\n",
    "\n",
    "flag_read_additionally = False # you can read network(elements) additionally, in this case set \"flag_read_additionally\" to true\n",
    "Vissim.LoadNet(read_inpx_path, flag_read_additionally) # 해당 파일을 오픈"
   ]
  },
  {
   "cell_type": "code",
   "execution_count": 6,
   "id": "9313c622-e15d-4dad-9f43-5248c546ab15",
   "metadata": {
    "execution": {
     "iopub.execute_input": "2022-01-28T03:41:16.215032Z",
     "iopub.status.busy": "2022-01-28T03:41:16.215032Z",
     "iopub.status.idle": "2022-01-28T03:41:17.082305Z",
     "shell.execute_reply": "2022-01-28T03:41:17.082305Z",
     "shell.execute_reply.started": "2022-01-28T03:41:16.215032Z"
    },
    "tags": []
   },
   "outputs": [
    {
     "name": "stdout",
     "output_type": "stream",
     "text": [
      "D:/OneDrive - 연세대학교 (Yonsei University)/Projects/Personal/03_VISSIM_win32com/network_example\\COM_example.layx\n"
     ]
    }
   ],
   "source": [
    "read_layx_name = 'COM_example.layx'\n",
    "read_layx_path = os.path.join(network_folder_path, read_layx_name) # 레이아웃 .layx 로드\n",
    "\n",
    "print(read_layx_path)\n",
    "\n",
    "Vissim.LoadLayout(read_layx_path)"
   ]
  },
  {
   "cell_type": "markdown",
   "id": "b7f5cc02-36dd-4c47-8894-50cb37e284ba",
   "metadata": {},
   "source": [
    "# Extract Data\n",
    "* Note: All of the following commands can also be executed during a simulation."
   ]
  },
  {
   "cell_type": "code",
   "execution_count": 43,
   "id": "36e5c0f6-2ef8-48eb-97ff-7410d177d1bb",
   "metadata": {
    "execution": {
     "iopub.execute_input": "2022-01-28T04:20:53.521951Z",
     "iopub.status.busy": "2022-01-28T04:20:53.521951Z",
     "iopub.status.idle": "2022-01-28T04:20:53.525927Z",
     "shell.execute_reply": "2022-01-28T04:20:53.524940Z",
     "shell.execute_reply.started": "2022-01-28T04:20:53.521951Z"
    },
    "tags": []
   },
   "outputs": [],
   "source": [
    "data_folder_path = 'D:/OneDrive - 연세대학교 (Yonsei University)/Projects/Personal/03_VISSIM_win32com/network_example/data'\n",
    "\n",
    "os.makedirs(data_folder_path, exist_ok = True)"
   ]
  },
  {
   "cell_type": "markdown",
   "id": "c5af5a49-35c4-4f7a-8096-abb9fc199170",
   "metadata": {},
   "source": [
    "## Links list"
   ]
  },
  {
   "cell_type": "code",
   "execution_count": 82,
   "id": "2e464a53-ce42-433a-be80-ce0bcd7bf20b",
   "metadata": {
    "execution": {
     "iopub.execute_input": "2022-01-28T04:39:51.664744Z",
     "iopub.status.busy": "2022-01-28T04:39:51.664744Z",
     "iopub.status.idle": "2022-01-28T04:39:51.700067Z",
     "shell.execute_reply": "2022-01-28T04:39:51.699066Z",
     "shell.execute_reply.started": "2022-01-28T04:39:51.664744Z"
    },
    "tags": []
   },
   "outputs": [],
   "source": [
    "link_att_list = ['No', 'Name', 'LinkBehavType', 'Level', 'NumLanes', 'Length2D']\n",
    "\n",
    "for i in range(len(link_att_list)):\n",
    "    globals()[f'link_tup_{i}'] = Vissim.Net.Links.GetMultiAttValues(link_att_list[i])\n",
    "    \n",
    "    link_local_df = pd.DataFrame.from_records(globals()[f'link_tup_{i}'], columns = ['Count', link_att_list[i]])\n",
    "    \n",
    "    if i == 0:\n",
    "        link_list_df = link_local_df\n",
    "    \n",
    "    else :\n",
    "        link_list_df = pd.merge(link_list_df, link_local_df, how = 'left', on = 'Count')\n",
    "\n",
    "save_link_name = 'links_list.csv'\n",
    "save_link_path = os.path.join(data_folder_path, save_link_name)\n",
    "\n",
    "link_list_df.to_csv(save_link_path, encoding = 'cp949')"
   ]
  },
  {
   "cell_type": "markdown",
   "id": "ea14a5e0-bebe-453e-ba72-18ac6c7ec401",
   "metadata": {},
   "source": [
    "## Veicle Inputs"
   ]
  },
  {
   "cell_type": "code",
   "execution_count": 83,
   "id": "ad0e6159-52b6-4104-b8d4-01fc150e5c5e",
   "metadata": {
    "execution": {
     "iopub.execute_input": "2022-01-28T04:39:53.972901Z",
     "iopub.status.busy": "2022-01-28T04:39:53.972901Z",
     "iopub.status.idle": "2022-01-28T04:39:54.011798Z",
     "shell.execute_reply": "2022-01-28T04:39:54.010799Z",
     "shell.execute_reply.started": "2022-01-28T04:39:53.972901Z"
    },
    "tags": []
   },
   "outputs": [],
   "source": [
    "VI_att_list = ['No', 'Name', 'Link', 'Volume(1)', 'Volume(2)', 'VehComp(1)', 'VehComp(2)']\n",
    "\n",
    "for i in range(len(VI_att_list)):\n",
    "    globals()[f'VI_tup_{i}'] = Vissim.Net.VehicleInputs.GetMultiAttValues(VI_att_list[i])\n",
    "    \n",
    "    VI_local_df = pd.DataFrame.from_records(globals()[f'VI_tup_{i}'], columns = ['Count', VI_att_list[i]])\n",
    "    \n",
    "    if i == 0:\n",
    "        VI_list_df = VI_local_df\n",
    "    \n",
    "    else :\n",
    "        VI_list_df = pd.merge(VI_list_df, VI_local_df, how = 'left', on = 'Count')\n",
    "\n",
    "save_VI_name = 'VI_list.csv'\n",
    "save_VI_path = os.path.join(data_folder_path, save_VI_name)\n",
    "\n",
    "VI_list_df.to_csv(save_VI_path, encoding = 'cp949')"
   ]
  },
  {
   "cell_type": "markdown",
   "id": "4f2f7f36-aca8-498e-a95a-44331772712a",
   "metadata": {},
   "source": [
    "## Vehicle Routes(Static)"
   ]
  },
  {
   "cell_type": "code",
   "execution_count": null,
   "id": "c9191072-4abe-463a-b4ae-6f3da84f25e1",
   "metadata": {},
   "outputs": [],
   "source": [
    "VehicleRoutingDecisionsStatic.ItemByKey(SVRD_number).VehRoutSta.ItemByKey(SVR_number)"
   ]
  },
  {
   "cell_type": "code",
   "execution_count": 87,
   "id": "ecffc1c3-6809-4058-8b9f-29b120c489de",
   "metadata": {
    "execution": {
     "iopub.execute_input": "2022-01-28T04:48:18.402283Z",
     "iopub.status.busy": "2022-01-28T04:48:18.402283Z",
     "iopub.status.idle": "2022-01-28T04:48:18.442446Z",
     "shell.execute_reply": "2022-01-28T04:48:18.441418Z",
     "shell.execute_reply.started": "2022-01-28T04:48:18.402283Z"
    },
    "tags": []
   },
   "outputs": [],
   "source": [
    "SVRD_att_list = ['No', 'Name', 'Link', 'Pos']\n",
    "SVR_att_list = ['VehRoutDec', 'No', 'Name', 'DestLink', 'DestPos', 'RelFlow(1)']\n",
    "\n",
    "# SVRD 리스트 뽑기\n",
    "for i in range(len(SVRD_att_list)):\n",
    "    globals()[f'SVRD_tup_{i}'] = Vissim.Net.VehicleRoutingDecisionsStatic.GetMultiAttValues(SVRD_att_list[i])\n",
    "    \n",
    "    SVRD_local_df = pd.DataFrame.from_records(globals()[f'SVRD_tup_{i}'], columns = ['Count', SVRD_att_list[i]])\n",
    "    \n",
    "    if i == 0:\n",
    "        SVRD_list_df = SVRD_local_df\n",
    "    \n",
    "    else :\n",
    "        SVRD_list_df = pd.merge(SVRD_list_df, SVRD_local_df, how = 'left', on = 'Count')\n",
    "\n",
    "for i in range(len(SVRD_list_df)):\n",
    "    \n",
    "save_SVRD_name = 'SVRD_list.csv'\n",
    "save_SVRD_path = os.path.join(data_folder_path, save_SVRD_name)\n",
    "\n",
    "SVRD_list_df.to_csv(save_SVRD_path, encoding = 'cp949')\n",
    "\n",
    "# 각 SVRD 별 SVR 리스트 뽑기\n",
    "SVRD_len = len(SVRD_list_df)\n",
    "\n",
    "for i in SVRD_len:\n",
    "    num = SVRD_list_df['No'][i]\n",
    "    ############################################################# 22.01.28 ONGOING\n",
    "    globals()[f'SVR_tup_{i}'] = Vissim.Net.VehicleRoutingDecision########sStatic.ItemByKey(num).GetMultiAttValues(SVR_att_list[i])\n",
    "    SVR_local_df = pd.DataFrame.from_records(globals()[f'SVR_tup_{i}'], columns = ['Count', SVR_att_list[i]])\n"
   ]
  },
  {
   "cell_type": "code",
   "execution_count": 107,
   "id": "3413fb92-5475-4b34-8735-7c8f9a522b9d",
   "metadata": {
    "execution": {
     "iopub.execute_input": "2022-01-28T05:00:55.561919Z",
     "iopub.status.busy": "2022-01-28T05:00:55.561919Z",
     "iopub.status.idle": "2022-01-28T05:00:55.567928Z",
     "shell.execute_reply": "2022-01-28T05:00:55.567928Z",
     "shell.execute_reply.started": "2022-01-28T05:00:55.561919Z"
    },
    "tags": []
   },
   "outputs": [
    {
     "name": "stdout",
     "output_type": "stream",
     "text": [
      "Help on IVehicleRoutingDecisionStaticContainer in module win32com.gen_py.75EA0BCC-9573-402B-8DC3-4DED4DDCD100x0x7x0.IVehicleRoutingDecisionStaticContainer object:\n",
      "\n",
      "class IVehicleRoutingDecisionStaticContainer(win32com.client.DispatchBaseClass)\n",
      " |  IVehicleRoutingDecisionStaticContainer(oobj=None)\n",
      " |  \n",
      " |  Interface representing a container of VehicleRoutingDecisionStatic objects\n",
      " |  \n",
      " |  Method resolution order:\n",
      " |      IVehicleRoutingDecisionStaticContainer\n",
      " |      win32com.client.DispatchBaseClass\n",
      " |      builtins.object\n",
      " |  \n",
      " |  Methods defined here:\n",
      " |  \n",
      " |  AttState(self, Attribute=<PyOleEmpty object at 0x0000020618F6BCF0>)\n",
      " |      Get attribute define state\n",
      " |  \n",
      " |  GetAll(self)\n",
      " |      Get all objects\n",
      " |  \n",
      " |  GetMultiAttValues(self, Attribut=<PyOleEmpty object at 0x0000020618F6BCF0>)\n",
      " |      Get all attribute values\n",
      " |  \n",
      " |  GetMultipleAttributes(self, AttrIDs=<PyOleEmpty object at 0x0000020618F6BCF0>)\n",
      " |      Get values of multiple attributes\n",
      " |  \n",
      " |  ItemByKey(self, Key=<PyOleEmpty object at 0x0000020618F6BCF0>)\n",
      " |      Get item by key\n",
      " |  \n",
      " |  SetAllAttValues(self, Attribut=<PyOleEmpty object at 0x0000020618F6BCF0>, newValue=<PyOleEmpty object at 0x0000020618F6BCF0>, add=False)\n",
      " |      Set one value for all objects\n",
      " |  \n",
      " |  SetMultiAttValues(self, Attribut=<PyOleEmpty object at 0x0000020618F6BCF0>, newValues=<PyOleEmpty object at 0x0000020618F6BCF0>, add=False)\n",
      " |      Set values for all objects\n",
      " |  \n",
      " |  SetMultipleAttributes(self, AttrIDs=<PyOleEmpty object at 0x0000020618F6BCF0>, value=<PyOleEmpty object at 0x0000020618F6BCF0>)\n",
      " |      Set values to multiple attributes\n",
      " |  \n",
      " |  __iter__(self)\n",
      " |      Return a Python iterator for this object\n",
      " |  \n",
      " |  __len__(self)\n",
      " |      #This class has Count() property - allow len(ob) to provide this\n",
      " |  \n",
      " |  __nonzero__(self)\n",
      " |      #This class has a __len__ - this is needed so 'if object:' always returns TRUE.\n",
      " |  \n",
      " |  ----------------------------------------------------------------------\n",
      " |  Data and other attributes defined here:\n",
      " |  \n",
      " |  CLSID = IID('{F71016CC-45B1-4841-B012-B1167D23CFFC}')\n",
      " |  \n",
      " |  coclass_clsid = None\n",
      " |  \n",
      " |  ----------------------------------------------------------------------\n",
      " |  Methods inherited from win32com.client.DispatchBaseClass:\n",
      " |  \n",
      " |  __eq__(self, other)\n",
      " |      Return self==value.\n",
      " |  \n",
      " |  __getattr__(self, attr)\n",
      " |  \n",
      " |  __init__(self, oobj=None)\n",
      " |      Initialize self.  See help(type(self)) for accurate signature.\n",
      " |  \n",
      " |  __ne__(self, other)\n",
      " |      Return self!=value.\n",
      " |  \n",
      " |  __repr__(self)\n",
      " |      Return repr(self).\n",
      " |  \n",
      " |  __setattr__(self, attr, value)\n",
      " |      Implement setattr(self, name, value).\n",
      " |  \n",
      " |  ----------------------------------------------------------------------\n",
      " |  Data descriptors inherited from win32com.client.DispatchBaseClass:\n",
      " |  \n",
      " |  __dict__\n",
      " |      dictionary for instance variables (if defined)\n",
      " |  \n",
      " |  __weakref__\n",
      " |      list of weak references to the object (if defined)\n",
      " |  \n",
      " |  ----------------------------------------------------------------------\n",
      " |  Data and other attributes inherited from win32com.client.DispatchBaseClass:\n",
      " |  \n",
      " |  __hash__ = None\n",
      "\n"
     ]
    }
   ],
   "source": [
    "help(Vissim.Net.VehicleRoutingDecisionsStatic)"
   ]
  },
  {
   "cell_type": "code",
   "execution_count": null,
   "id": "be071c03-1e9c-4ed2-a106-062a4de7c9d6",
   "metadata": {},
   "outputs": [],
   "source": [
    "ItemByKey(SVRD_number).VehRoutSta.ItemByKey(SVR_number)"
   ]
  },
  {
   "cell_type": "markdown",
   "id": "ca0f1ec3-aa40-4b34-8b61-582c93c9334a",
   "metadata": {},
   "source": [
    "## Signal Heads"
   ]
  },
  {
   "cell_type": "markdown",
   "id": "4fc1b2b2-bc1d-4888-8502-a2ee3420aab8",
   "metadata": {},
   "source": [
    "## Vehicle Travel Times"
   ]
  },
  {
   "cell_type": "markdown",
   "id": "ecffa901-4bc9-4876-afdf-d010f48560e0",
   "metadata": {},
   "source": [
    "## Vehicle Composition\n"
   ]
  },
  {
   "cell_type": "markdown",
   "id": "5c3cc368-d35d-45fa-a964-23b599ed9bf2",
   "metadata": {},
   "source": [
    "# Accessing Multiple Attributes\n",
    "* 모든 링크 번호, ... 등 출력하기"
   ]
  },
  {
   "cell_type": "code",
   "execution_count": 103,
   "id": "e06dc464-bd86-4ae5-8944-37712df78c2a",
   "metadata": {
    "execution": {
     "iopub.execute_input": "2022-01-27T06:17:22.854700Z",
     "iopub.status.busy": "2022-01-27T06:17:22.854700Z",
     "iopub.status.idle": "2022-01-27T06:17:22.982280Z",
     "shell.execute_reply": "2022-01-27T06:17:22.982280Z",
     "shell.execute_reply.started": "2022-01-27T06:17:22.854700Z"
    },
    "tags": []
   },
   "outputs": [],
   "source": [
    "# SetAllAttValues           Set all attributes of one object to one value:\n",
    "Attribute = \"Name\"\n",
    "Link_Name = \"All Links have the same Name\"\n",
    "Vissim.Net.Links.SetAllAttValues(Attribute, Link_Name)\n",
    "Attribute = \"CostPerKm\"\n",
    "Cost = 5.5\n",
    "Vissim.Net.Links.SetAllAttValues(Attribute, Cost)\n",
    "# Note the method SetAllAttValues has a 3rd optional input: Optional ByVal add As Boolean = False; Use only for numbers!\n",
    "Vissim.Net.Links.SetAllAttValues(Attribute, Cost, True) # setting the 3rd input to true, will add 5.5 to all previous costs!"
   ]
  }
 ],
 "metadata": {
  "kernelspec": {
   "display_name": "Python 3",
   "language": "python",
   "name": "python3"
  },
  "language_info": {
   "codemirror_mode": {
    "name": "ipython",
    "version": 3
   },
   "file_extension": ".py",
   "mimetype": "text/x-python",
   "name": "python",
   "nbconvert_exporter": "python",
   "pygments_lexer": "ipython3",
   "version": "3.8.8"
  }
 },
 "nbformat": 4,
 "nbformat_minor": 5
}
