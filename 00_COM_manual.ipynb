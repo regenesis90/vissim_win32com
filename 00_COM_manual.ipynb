{
 "cells": [
  {
   "cell_type": "code",
   "execution_count": null,
   "id": "b50d4b16-fa28-4e80-8e7f-a5d74d365e1b",
   "metadata": {},
   "outputs": [],
   "source": [
    "#==========================================================================\n",
    "# Python-Script for Vissim 6+\n",
    "# Copyright (C) PTV AG. All rights reserved.\n",
    "# Jochen Lohmiller 2015\n",
    "# -  -  -  -  -  -  -  -  -  -  -  -  -  -  -  -  -\n",
    "# Example of basic syntax - DO NOT MODIFY\n",
    "#==========================================================================\n",
    "\n",
    "# This scrips demonstrates how to use the COM interface in Python.\n",
    "# Basic commands for loading network and layout, reading and setting\n",
    "# attributes of network objects, running a simulations and getting\n",
    "# evaluations are shown. This example is also availible for the progamming\n",
    "# languages VBA, Matlab, C# and C++.\n",
    "# For information about the attributes and methods of Vissim objects, see\n",
    "# the COM manual, which is located in your Vissim installation folder:\n",
    "# \\Exe\\Vissim 7 - COM.chm\n",
    "# Standard: C:\\Program Files\\PTV Vision\\PTV Vissim 7\\Exe\\Vissim 7 - COM.chm\n",
    "#\n",
    "# Hint: You can easily see all attributes of the Vissim objects in the lists in\n",
    "# Vissim. If you set the language of Vissim to english, the name in the\n",
    "# headline of the list correspond to the commad to access via COM.\n",
    "# Example: If you want to access the number of lanes of a link go to Vissim\n",
    "# and see the headline of \"Number of lanes\" in the list, which is\n",
    "# \"NumLanes\". To access this attribut via COM use:\n",
    "# Vissim.Net.Links.ItemByKey(1).AttValue('NumLanes')"
   ]
  },
  {
   "cell_type": "markdown",
   "id": "6f69fad5-2b15-4314-90c1-2c2d9dd23583",
   "metadata": {},
   "source": [
    "# Imports"
   ]
  },
  {
   "cell_type": "code",
   "execution_count": 1,
   "id": "eead053f-5c21-4a0c-bdf2-0e24676e5e42",
   "metadata": {
    "execution": {
     "iopub.execute_input": "2022-01-27T03:07:45.660115Z",
     "iopub.status.busy": "2022-01-27T03:07:45.659120Z",
     "iopub.status.idle": "2022-01-27T03:07:45.689041Z",
     "shell.execute_reply": "2022-01-27T03:07:45.689041Z",
     "shell.execute_reply.started": "2022-01-27T03:07:45.660115Z"
    },
    "tags": []
   },
   "outputs": [],
   "source": [
    "import win32com.client as com\n",
    "import os"
   ]
  },
  {
   "cell_type": "markdown",
   "id": "789129f7-79af-4b85-9e14-fec7b7ec4fa3",
   "metadata": {},
   "source": [
    "# Load VISSIM files"
   ]
  },
  {
   "cell_type": "code",
   "execution_count": 2,
   "id": "51d2ba47-f004-4b2a-b4ec-81d5e87d765f",
   "metadata": {
    "execution": {
     "iopub.execute_input": "2022-01-27T03:07:46.739126Z",
     "iopub.status.busy": "2022-01-27T03:07:46.739126Z",
     "iopub.status.idle": "2022-01-27T03:07:53.697032Z",
     "shell.execute_reply": "2022-01-27T03:07:53.695037Z",
     "shell.execute_reply.started": "2022-01-27T03:07:46.739126Z"
    },
    "tags": []
   },
   "outputs": [],
   "source": [
    "## Connecting the COM Server => Open a new Vissim Window:\n",
    "Vissim = com.Dispatch('Vissim.Vissim-64.700') # Vissim = com.Dispatch() # Vissim 7 - 64 bit - VISSIM을 연다"
   ]
  },
  {
   "cell_type": "code",
   "execution_count": 4,
   "id": "25505e5c-7639-460e-9921-a682e8919d1f",
   "metadata": {
    "execution": {
     "iopub.execute_input": "2022-01-27T03:08:12.796298Z",
     "iopub.status.busy": "2022-01-27T03:08:12.796298Z",
     "iopub.status.idle": "2022-01-27T03:08:12.809263Z",
     "shell.execute_reply": "2022-01-27T03:08:12.809263Z",
     "shell.execute_reply.started": "2022-01-27T03:08:12.796298Z"
    },
    "tags": []
   },
   "outputs": [],
   "source": [
    "Path_of_COM_example_network = 'C:\\\\Users\\\\Public\\\\Documents\\\\PTV Vision\\\\PTV Vissim 7\\\\Examples Training\\\\COM\\\\Basic Commands\\\\'"
   ]
  },
  {
   "cell_type": "code",
   "execution_count": 5,
   "id": "38edeb82-ea43-4640-af76-2d748ae0f2c4",
   "metadata": {
    "execution": {
     "iopub.execute_input": "2022-01-27T03:08:13.299802Z",
     "iopub.status.busy": "2022-01-27T03:08:13.299802Z",
     "iopub.status.idle": "2022-01-27T03:08:17.488596Z",
     "shell.execute_reply": "2022-01-27T03:08:17.488596Z",
     "shell.execute_reply.started": "2022-01-27T03:08:13.299802Z"
    },
    "tags": []
   },
   "outputs": [],
   "source": [
    "## Load a Vissim Network:\n",
    "Filename = os.path.join(Path_of_COM_example_network, 'COM_example.inpx')\n",
    "flag_read_additionally  = False # you can read network(elements) additionally, in this case set \"flag_read_additionally\" to true\n",
    "Vissim.LoadNet(Filename, flag_read_additionally)\n",
    "\n",
    "## Load a Layout:\n",
    "Filename = os.path.join(Path_of_COM_example_network, 'COM_example.layx')\n",
    "Vissim.LoadLayout(Filename)"
   ]
  },
  {
   "cell_type": "markdown",
   "id": "3d7db510-a0e8-48c6-a4fa-2f69a824f7a7",
   "metadata": {},
   "source": [
    "# Read and Set attributes\n",
    "* Note: All of the following commands can also be executed during a simulation."
   ]
  },
  {
   "cell_type": "code",
   "execution_count": 6,
   "id": "ecce20d2-a169-4ba9-8d66-e17c32d57a9f",
   "metadata": {
    "execution": {
     "iopub.execute_input": "2022-01-27T03:09:54.892636Z",
     "iopub.status.busy": "2022-01-27T03:09:54.892636Z",
     "iopub.status.idle": "2022-01-27T03:09:54.947685Z",
     "shell.execute_reply": "2022-01-27T03:09:54.947685Z",
     "shell.execute_reply.started": "2022-01-27T03:09:54.892636Z"
    },
    "tags": []
   },
   "outputs": [
    {
     "name": "stdout",
     "output_type": "stream",
     "text": [
      "Name of Link(1):, Old Link Name\n"
     ]
    }
   ],
   "source": [
    "# Read Link Name:\n",
    "Link_number = 1\n",
    "Name_of_Link = Vissim.Net.Links.ItemByKey(Link_number).AttValue('Name')\n",
    "print(f'Name of Link({Link_number}):, {Name_of_Link}')"
   ]
  },
  {
   "cell_type": "code",
   "execution_count": 7,
   "id": "e7ba5981-14ed-4d08-871c-490a321a0301",
   "metadata": {
    "execution": {
     "iopub.execute_input": "2022-01-27T03:10:03.965252Z",
     "iopub.status.busy": "2022-01-27T03:10:03.965252Z",
     "iopub.status.idle": "2022-01-27T03:10:04.016114Z",
     "shell.execute_reply": "2022-01-27T03:10:04.016114Z",
     "shell.execute_reply.started": "2022-01-27T03:10:03.965252Z"
    },
    "tags": []
   },
   "outputs": [],
   "source": [
    "# Set Link Name:\n",
    "new_Name_of_Link = 'New Link Name'\n",
    "Vissim.Net.Links.ItemByKey(Link_number).SetAttValue('Name', new_Name_of_Link)"
   ]
  },
  {
   "cell_type": "code",
   "execution_count": 8,
   "id": "89e6ef63-6dbd-41e3-8924-9cef313904fe",
   "metadata": {
    "execution": {
     "iopub.execute_input": "2022-01-27T03:10:08.623388Z",
     "iopub.status.busy": "2022-01-27T03:10:08.622393Z",
     "iopub.status.idle": "2022-01-27T03:10:08.677248Z",
     "shell.execute_reply": "2022-01-27T03:10:08.677248Z",
     "shell.execute_reply.started": "2022-01-27T03:10:08.622393Z"
    },
    "tags": []
   },
   "outputs": [],
   "source": [
    "# Set a signal controller program:\n",
    "SC_number = 1 # SC = SignalController\n",
    "SignalController = Vissim.Net.SignalControllers.ItemByKey(SC_number)\n",
    "new_signal_programm_number = 2\n",
    "SignalController.SetAttValue('ProgNo', new_signal_programm_number)"
   ]
  },
  {
   "cell_type": "code",
   "execution_count": 9,
   "id": "9a974c49-2051-4103-bac3-46c03d3dfd19",
   "metadata": {
    "execution": {
     "iopub.execute_input": "2022-01-27T03:10:13.299837Z",
     "iopub.status.busy": "2022-01-27T03:10:13.299837Z",
     "iopub.status.idle": "2022-01-27T03:10:13.391152Z",
     "shell.execute_reply": "2022-01-27T03:10:13.391152Z",
     "shell.execute_reply.started": "2022-01-27T03:10:13.299837Z"
    },
    "tags": []
   },
   "outputs": [],
   "source": [
    "# Set relative flow of a static vehilce route of a static vehicle routing desision:\n",
    "SVRD_number         = 1 # SVRD = Static Vehicle Routing Desision\n",
    "SVR_number          = 1 # SVR = Static Vehicle Route (of a specific Static Vehicle Routing Desision)\n",
    "new_relativ_flow    = 0.6\n",
    "Vissim.Net.VehicleRoutingDecisionsStatic.ItemByKey(SVRD_number).VehRoutSta.ItemByKey(SVR_number).SetAttValue('RelFlow(1)', new_relativ_flow)\n",
    "# 'RelFlow(1)' means the first defined time interval; to access the third defined time interval: 'RelFlow(3)'"
   ]
  },
  {
   "cell_type": "code",
   "execution_count": 10,
   "id": "19a58b6f-0cde-4467-b287-0e25266c2a8a",
   "metadata": {
    "execution": {
     "iopub.execute_input": "2022-01-27T03:10:22.200063Z",
     "iopub.status.busy": "2022-01-27T03:10:22.200063Z",
     "iopub.status.idle": "2022-01-27T03:10:22.337580Z",
     "shell.execute_reply": "2022-01-27T03:10:22.337580Z",
     "shell.execute_reply.started": "2022-01-27T03:10:22.200063Z"
    },
    "tags": []
   },
   "outputs": [],
   "source": [
    "# Set vehicle input:\n",
    "VI_number   = 1 # VI = Vehicle Input\n",
    "new_volume  = 600 # vehicles per hour\n",
    "Vissim.Net.VehicleInputs.ItemByKey(VI_number).SetAttValue('Volume(1)', new_volume)\n",
    "# 'Volume(1)' means the first defined time interval\n",
    "# Hint: The Volumes of following intervals Volume(i) i = 2...n can only be\n",
    "# edited, if continous is deactivated: (otherwise error: \"AttValue failed: Object 2: Attribute Volume (300) is no subject to changes.\")\n",
    "Vissim.Net.VehicleInputs.ItemByKey(VI_number).SetAttValue('Cont(2)',     False)\n",
    "Vissim.Net.VehicleInputs.ItemByKey(VI_number).SetAttValue('Volume(2)',   400  )"
   ]
  },
  {
   "cell_type": "code",
   "execution_count": null,
   "id": "dd254432-69ad-4ded-aeb8-b18f891c56ca",
   "metadata": {},
   "outputs": [],
   "source": [
    "# Set vehicle composition:\n",
    "Veh_composition_number = 1\n",
    "Rel_Flows = Vissim.Net.VehicleCompositions.ItemByKey(Veh_composition_number).VehCompRelFlows.GetAll()\n",
    "Rel_Flows[0].SetAttValue('VehType',        100) # Changing the vehicle type\n",
    "Rel_Flows[0].SetAttValue('DesSpeedDistr',   50) # Changing the disired speeed distribution\n",
    "Rel_Flows[0].SetAttValue('RelFlow',        0.9) # Changing the relative flow\n",
    "Rel_Flows[1].SetAttValue('RelFlow',        0.1) # Changing the relative flow of the 2nd Relative Flow."
   ]
  },
  {
   "cell_type": "markdown",
   "id": "d588ccf8-3f10-4567-afba-8369d87e740c",
   "metadata": {},
   "source": [
    "# Accessing Multiple Attributes"
   ]
  },
  {
   "cell_type": "code",
   "execution_count": null,
   "id": "0225eb96-44fc-4fa9-bbf6-7667e8412caf",
   "metadata": {},
   "outputs": [],
   "source": [
    "# GetMultiAttValues         Read one attribut of all objects:\n",
    "Attribute = \"Name\"\n",
    "Name_of_Links = Vissim.Net.Links.GetMultiAttValues(Attribute)"
   ]
  },
  {
   "cell_type": "code",
   "execution_count": null,
   "id": "d9e24972-8547-4f3a-afcc-8beff719f536",
   "metadata": {},
   "outputs": [],
   "source": [
    "# SetMultiAttValues         Set one attribute of multiple (not necessarily all) objects\n",
    "Link_No_Name = ((1,\"New Link Name of Link #1\"), (2,\"New Link Name of Link #2\"), (4,\"New Link Name of Link #4\"))\n",
    "Vissim.Net.Links.SetMultiAttValues(Attribute, Link_No_Name) # 1st input is the Link number, 2nd the link name"
   ]
  },
  {
   "cell_type": "code",
   "execution_count": null,
   "id": "72b4f7a5-b7ef-4da4-892c-4b8a0aaf64cc",
   "metadata": {},
   "outputs": [],
   "source": [
    "# GetMultipleAttributes     Read multiple attributes of all objects:\n",
    "Attributes1 = (\"Name\", \"Length2D\")\n",
    "Name_Length_of_Links = Vissim.Net.Links.GetMultipleAttributes(Attributes1)"
   ]
  },
  {
   "cell_type": "code",
   "execution_count": null,
   "id": "5c31261f-f577-47ae-a227-94b80046f47b",
   "metadata": {},
   "outputs": [],
   "source": [
    "# SetMultipleAttributes     Set multiple attribute of multiple (always the first x) objects:\n",
    "Attributes2 = (\"Name\", \"CostPerKm\")\n",
    "Link_Name_Cost = ((\"Name1\", 12),(\"Name2\", 7),(\"Name3\", 5),(\"Name4\", 3))\n",
    "Vissim.Net.Links.SetMultipleAttributes(Attributes2, Link_Name_Cost)"
   ]
  },
  {
   "cell_type": "code",
   "execution_count": null,
   "id": "3e8d390e-8411-481f-ad0d-bd37a747f539",
   "metadata": {},
   "outputs": [],
   "source": [
    "# SetAllAttValues           Set all attributes of one object to one value:\n",
    "Attribute = \"Name\"\n",
    "Link_Name = \"All Links have the same Name\"\n",
    "Vissim.Net.Links.SetAllAttValues(Attribute, Link_Name)\n",
    "Attribute = \"CostPerKm\"\n",
    "Cost = 5.5\n",
    "Vissim.Net.Links.SetAllAttValues(Attribute, Cost)\n",
    "# Note the method SetAllAttValues has a 3rd optional input: Optional ByVal add As Boolean = False; Use only for numbers!\n",
    "Vissim.Net.Links.SetAllAttValues(Attribute, Cost, True) # setting the 3rd input to true, will add 5.5 to all previous costs!"
   ]
  },
  {
   "cell_type": "markdown",
   "id": "181dbabe-45d9-476d-848c-a097eef41f6a",
   "metadata": {},
   "source": [
    "# Simulation"
   ]
  },
  {
   "cell_type": "code",
   "execution_count": null,
   "id": "6d0ca927-c644-4930-b969-877df0b97b2f",
   "metadata": {},
   "outputs": [],
   "source": [
    "# Chose Random Seed\n",
    "Random_Seed = 42\n",
    "Vissim.Simulation.SetAttValue('RandSeed', Random_Seed)"
   ]
  },
  {
   "cell_type": "code",
   "execution_count": null,
   "id": "833d1413-ac9c-4ef1-a112-dea0692de2a6",
   "metadata": {},
   "outputs": [],
   "source": [
    "# To start a simulation you can run a single step:\n",
    "Vissim.Simulation.RunSingleStep()"
   ]
  },
  {
   "cell_type": "code",
   "execution_count": null,
   "id": "bb0a7b6a-cd1c-4d6c-b2ca-7e78b7a4f459",
   "metadata": {},
   "outputs": [],
   "source": [
    "# Or run the simulation continuous (it stops at breakpoint or end of simulation)\n",
    "End_of_simulation = 600 # Simulationsecond [s]\n",
    "Vissim.Simulation.SetAttValue('SimPeriod', End_of_simulation)\n",
    "Sim_break_at = 200 # Simulationsecond [s]\n",
    "Vissim.Simulation.SetAttValue('SimBreakAt', Sim_break_at)"
   ]
  },
  {
   "cell_type": "code",
   "execution_count": null,
   "id": "6d300ecb-e3e4-4f77-ad8f-4f89ccfe1730",
   "metadata": {},
   "outputs": [],
   "source": [
    "# Set maximum speed:\n",
    "Vissim.Simulation.SetAttValue('UseMaxSimSpeed', True)\n",
    "# Hint: to change the speed use: Vissim.Simulation.SetAttValue('SimSpeed', 10) # 10 => 10 Sim.sec. / s"
   ]
  },
  {
   "cell_type": "code",
   "execution_count": null,
   "id": "e469af5a-39e7-482a-8ac1-cafab222bd21",
   "metadata": {},
   "outputs": [],
   "source": [
    "Vissim.Simulation.RunContinuous()\n",
    "\n",
    "# To stop the simulation:\n",
    "Vissim.Simulation.Stop()"
   ]
  },
  {
   "cell_type": "markdown",
   "id": "23dd3770-22ea-4e3a-a07b-e0162dfbbb5a",
   "metadata": {},
   "source": [
    "# Access during simulation\n",
    "* Note: All of commands of \"Read and Set attributes (vehicles)\" can also be executed during a simulation\n",
    "* (e.g. changing signal controller program, setting relative flow of a static vehilce route, changing the vehicle input, changing the vehicle composition)."
   ]
  },
  {
   "cell_type": "code",
   "execution_count": null,
   "id": "ec102f88-0445-45f0-a51d-8c154a8b09ed",
   "metadata": {},
   "outputs": [],
   "source": [
    "Sim_break_at = 198 # Simulationsecond [s]\n",
    "Vissim.Simulation.SetAttValue('SimBreakAt', Sim_break_at)\n",
    "Vissim.Simulation.RunContinuous() # Start the simulation until SimBreakAt (198s)"
   ]
  },
  {
   "cell_type": "code",
   "execution_count": null,
   "id": "7f6b69ae-0028-4aaf-80e6-f90c41abbc29",
   "metadata": {},
   "outputs": [],
   "source": [
    "# Get the state of a signal head:\n",
    "SH_number = 1 # SH = SignalHead\n",
    "State_of_SH = Vissim.Net.SignalHeads.ItemByKey(SH_number).AttValue('State') # possible output: 'GREEN', 'RED', 'AMBER', 'REDAMBER'\n",
    "print 'Actual state of SignalHead(%d) is: %s' % (SH_number, State_of_SH)\n"
   ]
  },
  {
   "cell_type": "code",
   "execution_count": null,
   "id": "829e8f5b-7e19-4bb1-b252-415c921088d3",
   "metadata": {
    "tags": []
   },
   "outputs": [],
   "source": [
    "# Set the state of a signal controller:\n",
    "# Note: Once a state of a signal group is set, the attribute \"ContrByCOM\" is automatically set to True. Meaning the signal group will keep this state until another state is set by COM or the end of the simulation\n",
    "# To switch back to the defined signal controller, set the attribute signal \"ContrByCOM\" to False (example see below).\n",
    "SC_number = 1 # SC = SignalController\n",
    "SG_number = 1 # SG = SignalGroup\n",
    "SignalController = Vissim.Net.SignalControllers.ItemByKey(SC_number)\n",
    "SignalGroup = SignalController.SGs.ItemByKey(SG_number)\n",
    "new_state = \"GREEN\" #possible values: \"GREEN\", \"RED\", \"AMBER\", \"REDAMBER\"\n",
    "SignalGroup.SetAttValue(\"State\", new_state)\n",
    "# Note: The signal controller can only be called at whole simulation seconds, so the state will be set in Vissim at the next whole sim-second, here 199s"
   ]
  },
  {
   "cell_type": "code",
   "execution_count": null,
   "id": "1cc91304-ae24-4d9b-94a1-01d339feaf50",
   "metadata": {},
   "outputs": [],
   "source": [
    "# Simulate so that the new state is activ in the Vissim simulation:\n",
    "Sim_break_at = 200 # Simulationsecond [s]\n",
    "Vissim.Simulation.SetAttValue(\"SimBreakAt\", Sim_break_at)\n",
    "Vissim.Simulation.RunContinuous() # Start the simulation until SimBreakAt (200s)\n",
    "# Give the control back:\n",
    "SignalGroup.SetAttValue(\"ContrByCOM\", False)\n"
   ]
  },
  {
   "cell_type": "code",
   "execution_count": null,
   "id": "57a0697e-30d1-448e-8f86-6d4cbd8777c9",
   "metadata": {},
   "outputs": [],
   "source": [
    "# Information about all vehicles in the network (in the current simulation second):\n",
    "# In the following, 4 different methods to access attributes are shown:\n",
    "# Method #1: Loop over all Vehicles using \"GetAll\"\n",
    "# Method #2: Loop over all Vehicles using Object Enumeration\n",
    "# Method #3: Using the Iterator\n",
    "# Method #4: Accessing all attributes directly using \"GetMultiAttValues\" (fast way if you want the attributes of all vehicles)\n",
    "# Method #5: Accessing all attributes directly using \"GetMultipleAttributes\" (even more faster)\n",
    "# The result of the four methods is the same (except the format).\n",
    "\n",
    "# Method #1: Loop over all Vehicles:\n",
    "All_Vehicles = Vissim.Net.Vehicles.GetAll() # get all vehicles in the network at the actual simulation second\n",
    "for cnt_Veh in range(len(All_Vehicles)):\n",
    "    veh_number      = All_Vehicles[cnt_Veh].AttValue('No')\n",
    "    veh_type        = All_Vehicles[cnt_Veh].AttValue('VehType')\n",
    "    veh_speed       = All_Vehicles[cnt_Veh].AttValue('Speed')\n",
    "    veh_position    = All_Vehicles[cnt_Veh].AttValue('Pos')\n",
    "    veh_linklane    = All_Vehicles[cnt_Veh].AttValue('Lane')\n",
    "    print '%s  |  %s  |  %.2f  |  %.2f  |  %s' % (veh_number, veh_type, veh_speed, veh_position, veh_linklane)\n",
    "\n",
    "# Method #2: Loop over all Vehicles using Object Enumeration\n",
    "for Vehicle in Vissim.Net.Vehicles:\n",
    "    veh_number =    Vehicle.AttValue('No')\n",
    "    veh_type =      Vehicle.AttValue('VehType')\n",
    "    veh_speed =     Vehicle.AttValue('Speed')\n",
    "    veh_position =  Vehicle.AttValue('Pos')\n",
    "    veh_linklane =  Vehicle.AttValue('Lane')\n",
    "    print '%s  |  %s  |  %.2f  |  %.2f  |  %s' % (veh_number, veh_type, veh_speed, veh_position, veh_linklane)\n",
    "\n",
    "# Method #3: Using the Iterator\n",
    "Vehicles_Iterator = Vissim.Net.Vehicles.Iterator\n",
    "while Vehicles_Iterator.Valid:\n",
    "    Vehicle = Vehicles_Iterator.Item\n",
    "    veh_number =    Vehicle.AttValue('No')\n",
    "    veh_type =      Vehicle.AttValue('VehType')\n",
    "    veh_speed =     Vehicle.AttValue('Speed')\n",
    "    veh_position =  Vehicle.AttValue('Pos')\n",
    "    veh_linklane =  Vehicle.AttValue('Lane')\n",
    "    print '%s  |  %s  |  %.2f  |  %.2f  |  %s' % (veh_number, veh_type, veh_speed, veh_position, veh_linklane)\n",
    "    Vehicles_Iterator.Next()\n",
    "\n",
    "# Method #4: Accessing all Attributes directly using \"GetMultiAttValues\" (fastest way)\n",
    "veh_numbers     = Vissim.Net.Vehicles.GetMultiAttValues('No')      # Output 1. column:consecutive number; 2. column: AttValue\n",
    "veh_types       = Vissim.Net.Vehicles.GetMultiAttValues('VehType') # Output 1. column:consecutive number; 2. column: AttValue\n",
    "veh_speeds      = Vissim.Net.Vehicles.GetMultiAttValues('Speed')   # Output 1. column:consecutive number; 2. column: AttValue\n",
    "veh_positions   = Vissim.Net.Vehicles.GetMultiAttValues('Pos')     # Output 1. column:consecutive number; 2. column: AttValue\n",
    "veh_linklanes   = Vissim.Net.Vehicles.GetMultiAttValues('Lane')    # Output 1. column:consecutive number; 2. column: AttValue\n",
    "for cnt in range(len(veh_numbers)):\n",
    "    print '%s  |  %s  |  %.2f  |  %.2f  |  %s' % (veh_numbers[cnt][1], veh_types[cnt][1], veh_speeds[cnt][1], veh_positions[cnt][1], veh_linklanes[cnt][1]) # only display the 2nd column\n",
    "\n",
    "# Method #5: Accessing all attributes directly using \"GetMultipleAttributes\" (even more faster)\n",
    "all_veh_attributes = Vissim.Net.Vehicles.GetMultipleAttributes(('No', 'VehType', 'Speed', 'Pos', 'Lane'))\n",
    "for cnt in range(len(all_veh_attributes)):\n",
    "    print '%s  |  %s  |  %.2f  |  %.2f  |  %s' % (all_veh_attributes[cnt][0], all_veh_attributes[cnt][1], all_veh_attributes[cnt][2], all_veh_attributes[cnt][3], all_veh_attributes[cnt][4]) # only display the 2nd column"
   ]
  },
  {
   "cell_type": "code",
   "execution_count": null,
   "id": "e9b1a3ba-4b42-4f87-9d64-26c306fda937",
   "metadata": {},
   "outputs": [],
   "source": [
    "## Operations at one spezific vehicle:\n",
    "All_Vehicles    = Vissim.Net.Vehicles.GetAll() # get all vehicles in the network at the actual simulation second\n",
    "Vehicle         = All_Vehicles[0]\n",
    "# alternativly with ItemByKey:\n",
    "# veh_number = 66 # the same as: All_Vehicles[0].AttValue('No')\n",
    "# Vehicle = Vissim.Net.Vehicles.ItemByKey(veh_number)"
   ]
  },
  {
   "cell_type": "code",
   "execution_count": null,
   "id": "02214cf0-ef76-4673-856b-167f050a493d",
   "metadata": {},
   "outputs": [],
   "source": [
    "# Set desired speed to a vehicle:\n",
    "new_desspeed = 30\n",
    "Vehicle.SetAttValue('DesSpeed', new_desspeed)"
   ]
  },
  {
   "cell_type": "code",
   "execution_count": null,
   "id": "625ca1ee-159f-417e-873b-b18c2301cd90",
   "metadata": {},
   "outputs": [],
   "source": [
    "# Move a vehicle:\n",
    "link_number     = 1\n",
    "lane_number     = 1\n",
    "link_coordinate = 70\n",
    "Vehicle.MoveToLinkPosition(link_number, lane_number, link_coordinate) # This function will operate during the next simulation step\n",
    "# Hint: In earlier Vissim releases, the name of the function was: MoveToLinkCoordinate\n",
    "\n",
    "Vissim.Simulation.RunSingleStep() # Next Step, so that the vehicle gets moved."
   ]
  },
  {
   "cell_type": "code",
   "execution_count": null,
   "id": "744a26ef-db90-4721-acfe-6c2267e7f20f",
   "metadata": {},
   "outputs": [],
   "source": [
    "# Remove a vehicle:\n",
    "veh_number      = Vehicle.AttValue('No')\n",
    "Vissim.Net.Vehicles.RemoveVehicle(veh_number)\n"
   ]
  },
  {
   "cell_type": "code",
   "execution_count": null,
   "id": "d5146d4a-b083-4b7b-941b-a8cf145b8c35",
   "metadata": {},
   "outputs": [],
   "source": [
    "# Putting a new vehicle to the network:\n",
    "vehicle_type = 100\n",
    "desired_speed = 53 # unit according to the user setting in Vissim [km/h or mph]\n",
    "link = 1\n",
    "lane = 1\n",
    "xcoordinate = 15 # unit according to the user setting in Vissim [m or ft]\n",
    "interaction = True # optional boolean\n",
    "new_Vehicle = Vissim.Net.Vehicles.AddVehicleAtLinkPosition( vehicle_type, link, lane, xcoordinate, desired_speed, interaction)\n",
    "# Note: In earlier Vissim releases, the name of the function was: AddVehicleAtLinkCoordinate"
   ]
  },
  {
   "cell_type": "code",
   "execution_count": null,
   "id": "fec11ab1-8cae-42cb-a1ed-c6ae2e945c03",
   "metadata": {},
   "outputs": [],
   "source": [
    "# Make Screenshots of the intersection 2D and 3D:\n",
    "# ZoomTo:\n",
    "# Zooms the view to the rectangle defined by the two points  (x1, y1) and (x2,y2),  which  are  given  in  world coordinates.  If  the  rectangle  proportions  differ\n",
    "# from  the  proportions  of  the  network  window,  the  specified  rectangle  will  be centered in the network editor window.\n",
    "X1 = 250\n",
    "Y1 = 30\n",
    "X2 = 350\n",
    "Y2 = 135\n",
    "Vissim.Graphics.CurrentNetworkWindow.ZoomTo(X1, Y1, X2, Y2)"
   ]
  },
  {
   "cell_type": "code",
   "execution_count": null,
   "id": "7a3ab10c-fdb2-4bd6-87bf-d033015af4ab",
   "metadata": {},
   "outputs": [],
   "source": [
    "# Make a Screenshot in 2D:\n",
    "# It  creates  a  graphic  file  of  the  VISSIM  main  window  formatted  according  to its extension: PNG, TIFF, GIF, JPG, JPEG or BMP. A BMP file will be written if the extension can not be recognized.\n",
    "Filename_screenshot = \"screenshot2D.jpg\" # to set to a specific path: \"C:\\\\Screenshots\\\\screenshot2D.jpg\"\n",
    "sizeFactor = 1 # 1: orginal Size, 2: doubles size\n",
    "Vissim.Graphics.CurrentNetworkWindow.Screenshot(Filename_screenshot, sizeFactor)"
   ]
  },
  {
   "cell_type": "code",
   "execution_count": null,
   "id": "db1d4b31-3e4f-4992-a248-9c656a4ae752",
   "metadata": {},
   "outputs": [],
   "source": [
    "# Make a Screenshot in 3D:\n",
    "# Set 3D Mode:\n",
    "Vissim.Graphics.CurrentNetworkWindow.SetAttValue(\"3D\", 1)\n",
    "# Set the camera position (viewing angle):\n",
    "xPos = 270\n",
    "yPos = 30\n",
    "zPos = 15\n",
    "yawAngle = 45\n",
    "pitchAngle = 10\n",
    "Vissim.Graphics.CurrentNetworkWindow.SetCameraPositionAndAngle(xPos, yPos, zPos, yawAngle, pitchAngle)\n",
    "Filename_screenshot = \"screenshot3D.jpg\" # to set to a specific path: \"C:\\\\Screenshots\\\\screenshot3D.jpg\"\n",
    "Vissim.Graphics.CurrentNetworkWindow.Screenshot(Filename_screenshot, sizeFactor)"
   ]
  },
  {
   "cell_type": "code",
   "execution_count": null,
   "id": "e31c4b70-2d82-4288-bfd1-f45a605bd709",
   "metadata": {},
   "outputs": [],
   "source": [
    "# Set 2D Mode and old Network position:\n",
    "Vissim.Graphics.CurrentNetworkWindow.SetAttValue(\"3D\", 0)\n",
    "X1 = -10\n",
    "Y1 = -10\n",
    "X2 = 600\n",
    "Y2 = 300\n",
    "Vissim.Graphics.CurrentNetworkWindow.ZoomTo(X1, Y1, X2, Y2)"
   ]
  },
  {
   "cell_type": "code",
   "execution_count": null,
   "id": "903c13e7-4ecd-47ac-bfcd-06104e3f018d",
   "metadata": {},
   "outputs": [],
   "source": [
    "# Continue the simulation until end of simulation (get(Vissim.Simulation, 'AttValue', 'SimPeriod'))\n",
    "Vissim.Simulation.RunContinuous()"
   ]
  },
  {
   "cell_type": "markdown",
   "id": "78f3d601-347b-4abe-9a9e-8c0be58bd0a2",
   "metadata": {},
   "source": [
    "# Results of Simulations"
   ]
  },
  {
   "cell_type": "code",
   "execution_count": null,
   "id": "ec657cce-d89c-44f0-89be-3dada49269db",
   "metadata": {},
   "outputs": [],
   "source": [
    "# Run 3 Simulations at maximum speed:\n",
    "# Activate QuickMode:\n",
    "Vissim.Graphics.CurrentNetworkWindow.SetAttValue(\"QuickMode\",1)\n",
    "Vissim.SuspendUpdateGUI(); # stop updating of the complete Vissim workspace (network editor, list, chart and signal time table windows)\n",
    "# Alternativly, load a Layoutfile where dynamic elements (vehicles and pedestrians) are not visible:\n",
    "# Vissim.LoadLayout(os.path.join(Path_of_COM_example_network, 'COM_example_without_vehicles.layx')) # loading a layout where vehicles are not displayed => much faster simulation\n",
    "End_of_simulation = 600\n",
    "Vissim.Simulation.SetAttValue('SimPeriod', End_of_simulation)\n",
    "Sim_break_at = 0 # Simulationsecond [s] => 0 means no break!\n",
    "Vissim.Simulation.SetAttValue('SimBreakAt', Sim_break_at)\n",
    "# Set maximum speed:\n",
    "Vissim.Simulation.SetAttValue('UseMaxSimSpeed', True)\n",
    "\n",
    "for cnt_Sim in range(3):\n",
    "    Vissim.Simulation.SetAttValue('RandSeed', cnt_Sim + 1) # RandSeed 0 is not allowed\n",
    "    Vissim.Simulation.RunContinuous()\n",
    "Vissim.ResumeUpdateGUI(); # allow updating of the complete Vissim workspace (network editor, list, chart and signal time table windows)\n",
    "Vissim.Graphics.CurrentNetworkWindow.SetAttValue(\"QuickMode\",0) # deactivate QuickMode\n",
    "# Vissim.LoadLayout(os.path.join(Path_of_COM_example_network, 'COM_example.layx')) # loading a layout to display vehicles again"
   ]
  },
  {
   "cell_type": "code",
   "execution_count": null,
   "id": "e7772672-90a5-4b56-a16b-3d10a80fba3c",
   "metadata": {},
   "outputs": [],
   "source": [
    "# List of all Simulation runs:\n",
    "Attributes      = ['Timestamp', 'RandSeed', 'SimEnd']\n",
    "number_of_runs  = Vissim.Net.SimulationRuns.Count\n",
    "List_Sim_Runs   = Vissim.Net.SimulationRuns.GetMultipleAttributes(Attributes)\n",
    "for cnt_S in range(number_of_runs):\n",
    "    print '%s | %d | %d ' % (List_Sim_Runs[cnt_S][0], List_Sim_Runs[cnt_S][1], List_Sim_Runs[cnt_S][2])\n"
   ]
  },
  {
   "cell_type": "code",
   "execution_count": null,
   "id": "76a2267f-ae14-486c-a0a4-27f5df63c68e",
   "metadata": {},
   "outputs": [],
   "source": [
    "# Get the results of Vehicle Travel Time Measurements:\n",
    "Veh_TT_measurement_number = 2\n",
    "Veh_TT_measurement = Vissim.Net.VehicleTravelTimeMeasurements.ItemByKey(Veh_TT_measurement_number)\n",
    "# Syntax to get the travel times:\n",
    "#   Veh_TT_measurement.AttValue('TravTm(sub_attribut_1, sub_attribut_2, sub_attribut_3)')\n",
    "#\n",
    "# sub_attribut_1: SimulationRun\n",
    "#       1, 2, 3, ... Current:     the value of one sepcific simulation (number according to the atribute \"No\" of Simulation Runs (see List of Simulation Runs))\n",
    "#       Avg, StdDev, Min, Max:    aggregated value of all simulations runs: Avg, StdDev, Min, Max\n",
    "# sub_attribut_2: TimeInterval\n",
    "#       1, 2, 3, ... Last:        the value of one sepcific time intervall (number of time interval always starts at 1 (first time interval), 2 (2nd TI), 3 (3rd TI), ...)\n",
    "#       Avg, StdDev, Min, Max:    aggregated value of all time interval of one simulation: Avg, StdDev, Min, Max\n",
    "#       Total:                    sum of all time interval of one simulation\n",
    "# sub_attribut_3: VehicleClass\n",
    "#       10, 20 or All             values only from vehicles of the defined vehicle class number (accoring to the attribute \"No\" of Vehicle Classes)\n",
    "#                                 Note: You can only access the results of specific vehicle classes if you configurated it in Evaluation > Configuration > Result Attributes\n",
    "#\n",
    "# The value of on time intervall is the arithmetic mean of all single travel times of the vehicles.\n",
    "\n",
    "# Example #1:\n",
    "# Average of all simulations (1. input = Avg)\n",
    "# \tof the average of all time intervalls  (2. input = Avg)\n",
    "#   of all vehicle classes (3. input = All)\n",
    "TT      = Veh_TT_measurement.AttValue('TravTm(Avg,Avg,All)')\n",
    "No_Veh  = Veh_TT_measurement.AttValue('Vehs  (Avg,Avg,All)')\n",
    "print 'Average travel time all time intervalls of all simulation of all vehicle classes: %.2f (number of vehicles: %s)' % (TT, No_Veh)\n",
    "\n",
    "# Example #2:\n",
    "# Value of the Current simulation (1. input = Current)\n",
    "# \tof the maximum of all time intervalls (2. input = Max)\n",
    "#   of vehicle class HGV (3. input = 20)\n",
    "TT      = Veh_TT_measurement.AttValue('TravTm(Current,Max,20)')\n",
    "No_Veh  = Veh_TT_measurement.AttValue('Vehs  (Current,Max,20)')\n",
    "print 'Maximum travel time of all time intervalls of the current simulation of vehicle class HGV: %.2f (number of vehicles: %s)' % (TT, No_Veh)\n",
    "\n",
    "# Example #3: Note: A Travel times from 2nd simulation run must be availible\n",
    "# Value of the 2nd simulation (1. input = 2)\n",
    "# \tof the 1st time interval (2. input = 1)\n",
    "#   of all vehicle classes (3. input = All)\n",
    "# TT      = Veh_TT_measurement.AttValue('TravTm(2,1,All)')\n",
    "# No_Veh  = Veh_TT_measurement.AttValue('Vehs  (2,1,All)')\n",
    "# print 'Travel time of the 1st time interval of the 2nd simulation of all vehicle classes: %.2f (number of vehicles: %s)' % (TT, No_Veh)\n"
   ]
  },
  {
   "cell_type": "code",
   "execution_count": null,
   "id": "ece8e492-73e4-41cb-a83e-03b89edc72c3",
   "metadata": {},
   "outputs": [],
   "source": [
    "# Data Collection\n",
    "DC_measurement_number = 1\n",
    "DC_measurement = Vissim.Net.DataCollectionMeasurements.ItemByKey(DC_measurement_number)\n",
    "# Syntax to get the data:\n",
    "#   DC_measurement.AttValue('Vehs(sub_attribut_1, sub_attribut_2, sub_attribut_3)')\n",
    "#\n",
    "# sub_attribut_1: SimulationRun (same as described at Vehicle Travel Time Measurements)\n",
    "# sub_attribut_2: TimeInterval  (same as described at Vehicle Travel Time Measurements)\n",
    "# sub_attribut_3: VehicleClass  (same as described at Vehicle Travel Time Measurements)\n",
    "#\n",
    "# The value of on time intervall is the arithmetic mean of all single values of the vehicles.\n",
    "\n",
    "# Example #1:\n",
    "# Average value of all simulations (1. input = Avg)\n",
    "# \tof the 1st time interval (2. input = 1)\n",
    "#   of all vehicle classes (3. input = All)\n",
    "No_Veh          = DC_measurement.AttValue('Vehs        (Avg,1,All)') # number of vehicles\n",
    "Speed           = DC_measurement.AttValue('Speed       (Avg,1,All)') # Speed of vehicles\n",
    "Acceleration    = DC_measurement.AttValue('Acceleration(Avg,1,All)') # Acceleration of vehicles\n",
    "Length          = DC_measurement.AttValue('Length      (Avg,1,All)') # Length of vehicles\n",
    "print 'Data Collection #', DC_measurement_number, ': Average values of all Simulations runs of 1st time intervall of all vehicle classes:'\n",
    "print '#vehicles: %d; Speed: %.2f; Acceleration: %.2f; Length: %.2f' % (No_Veh, Speed, Acceleration, Length)\n",
    "\n"
   ]
  },
  {
   "cell_type": "code",
   "execution_count": null,
   "id": "a39b4115-0df0-402b-951d-ab734f32f378",
   "metadata": {},
   "outputs": [],
   "source": [
    "# Queue length\n",
    "# Syntax to get the data:\n",
    "#   QueueCounter.AttValue('QLen(sub_attribut_1, sub_attribut_2)')\n",
    "#\n",
    "# sub_attribut_1: SimulationRun (same as described at Vehicle Travel Time Measurements)\n",
    "# sub_attribut_2: TimeInterval  (same as described at Vehicle Travel Time Measurements)\n",
    "#\n",
    "\n",
    "\n",
    "# Example #1:\n",
    "# Average value of all simulations (1. input = Avg)\n",
    "# \tof the average of all time intervals (2. input = Avg)\n",
    "QC_number = 1\n",
    "maxQ = Vissim.Net.QueueCounters.ItemByKey(QC_number).AttValue('QLenMax(Avg, Avg)')\n",
    "print 'Average maximum Queue length of all simulations and time intervals of Queue Counter #%d: %.2f' % (QC_number, maxQ)\n"
   ]
  },
  {
   "cell_type": "code",
   "execution_count": null,
   "id": "8e1f43f0-9e4b-4181-8a25-d2768d7c4005",
   "metadata": {},
   "outputs": [],
   "source": [
    "## ========================================================================\n",
    "# Saving\n",
    "#==========================================================================\n",
    "Filename = os.path.join(Path_of_COM_example_network, 'COM_example_saved.inpx')\n",
    "Vissim.SaveNetAs(Filename)\n",
    "Filename = os.path.join(Path_of_COM_example_network, 'COM_example_saved.layx')\n",
    "Vissim.SaveLayout(Filename)"
   ]
  },
  {
   "cell_type": "code",
   "execution_count": null,
   "id": "150f7dc6-93e5-4c24-a19c-46e077c6fc92",
   "metadata": {},
   "outputs": [],
   "source": [
    "## ========================================================================\n",
    "# End Vissim\n",
    "#==========================================================================\n",
    "Vissim = None\n"
   ]
  }
 ],
 "metadata": {
  "kernelspec": {
   "display_name": "Python 3",
   "language": "python",
   "name": "python3"
  },
  "language_info": {
   "codemirror_mode": {
    "name": "ipython",
    "version": 3
   },
   "file_extension": ".py",
   "mimetype": "text/x-python",
   "name": "python",
   "nbconvert_exporter": "python",
   "pygments_lexer": "ipython3",
   "version": "3.8.8"
  }
 },
 "nbformat": 4,
 "nbformat_minor": 5
}
