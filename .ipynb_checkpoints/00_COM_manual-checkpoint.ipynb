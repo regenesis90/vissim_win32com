{
 "cells": [
  {
   "cell_type": "markdown",
   "id": "322c9fd1-2812-40e2-aa51-956ad5e042ec",
   "metadata": {},
   "source": [
    "# Python-Script for Vissim 7\n",
    "```\n",
    "Copyright (C) PTV AG. All rights reserved.\n",
    "# Jochen Lohmiller 2015\n",
    "```\n",
    "* 본 코드는 VISSIM 7 - 64bit 설치 시 첨부되어 있는 Python 코드를 국문 해석·주석 추가·개인의 사용목적에 맞도록 개량한 것입니다."
   ]
  },
  {
   "cell_type": "markdown",
   "id": "6f69fad5-2b15-4314-90c1-2c2d9dd23583",
   "metadata": {},
   "source": [
    "# Imports"
   ]
  },
  {
   "cell_type": "code",
   "execution_count": 11,
   "id": "eead053f-5c21-4a0c-bdf2-0e24676e5e42",
   "metadata": {
    "execution": {
     "iopub.execute_input": "2022-01-27T05:39:35.367742Z",
     "iopub.status.busy": "2022-01-27T05:39:35.367742Z",
     "iopub.status.idle": "2022-01-27T05:39:35.381705Z",
     "shell.execute_reply": "2022-01-27T05:39:35.381705Z",
     "shell.execute_reply.started": "2022-01-27T05:39:35.367742Z"
    },
    "tags": []
   },
   "outputs": [],
   "source": [
    "import win32com.client as com\n",
    "import os"
   ]
  },
  {
   "cell_type": "markdown",
   "id": "789129f7-79af-4b85-9e14-fec7b7ec4fa3",
   "metadata": {},
   "source": [
    "# Load VISSIM file"
   ]
  },
  {
   "cell_type": "markdown",
   "id": "8e3e9c4d-5d25-4997-a5c3-7e42cead84d4",
   "metadata": {},
   "source": [
    "## Open a new Vissim Window\n",
    "* COM Server 연결 => 새로운 VISSIM 창 열기(VISSIM이 실행됨)"
   ]
  },
  {
   "cell_type": "code",
   "execution_count": 12,
   "id": "51d2ba47-f004-4b2a-b4ec-81d5e87d765f",
   "metadata": {
    "execution": {
     "iopub.execute_input": "2022-01-27T05:39:37.504334Z",
     "iopub.status.busy": "2022-01-27T05:39:37.503333Z",
     "iopub.status.idle": "2022-01-27T05:39:44.711399Z",
     "shell.execute_reply": "2022-01-27T05:39:44.709403Z",
     "shell.execute_reply.started": "2022-01-27T05:39:37.504334Z"
    },
    "tags": []
   },
   "outputs": [],
   "source": [
    "Vissim = com.Dispatch('Vissim.Vissim-64.700') # Vissim = com.Dispatch() # Vissim 7 - 64 bit - VISSIM을 연다"
   ]
  },
  {
   "cell_type": "markdown",
   "id": "c92ff12d-083d-47fe-a8d9-4ffe96366181",
   "metadata": {},
   "source": [
    "## Load a Vissim Network & Layout"
   ]
  },
  {
   "cell_type": "code",
   "execution_count": 39,
   "id": "25505e5c-7639-460e-9921-a682e8919d1f",
   "metadata": {
    "execution": {
     "iopub.execute_input": "2022-01-27T05:48:15.267294Z",
     "iopub.status.busy": "2022-01-27T05:48:15.267294Z",
     "iopub.status.idle": "2022-01-27T05:48:15.282884Z",
     "shell.execute_reply": "2022-01-27T05:48:15.282884Z",
     "shell.execute_reply.started": "2022-01-27T05:48:15.267294Z"
    },
    "tags": []
   },
   "outputs": [],
   "source": [
    "network_folder_path = 'D:/OneDrive - 연세대학교 (Yonsei University)/Projects/Personal/03_VISSIM_win32com/network_example'"
   ]
  },
  {
   "cell_type": "code",
   "execution_count": 40,
   "id": "d68b926b-c34a-41d0-909b-ad6ea9ad87d2",
   "metadata": {
    "execution": {
     "iopub.execute_input": "2022-01-27T05:48:15.825558Z",
     "iopub.status.busy": "2022-01-27T05:48:15.824566Z",
     "iopub.status.idle": "2022-01-27T05:48:15.838520Z",
     "shell.execute_reply": "2022-01-27T05:48:15.838520Z",
     "shell.execute_reply.started": "2022-01-27T05:48:15.824566Z"
    },
    "tags": []
   },
   "outputs": [
    {
     "name": "stdout",
     "output_type": "stream",
     "text": [
      "D:\\OneDrive - 연세대학교 (Yonsei University)\\Projects\\Personal\\03_VISSIM_win32com\\network_example\\COM_example.inpx\n"
     ]
    }
   ],
   "source": [
    "read_inpx_name = 'COM_example.inpx'\n",
    "read_inpx_path = os.path.abspath(os.path.join(network_folder_path, read_inpx_name)) # 네트워크 파일인 .inpx 로드\n",
    "\n",
    "print(read_inpx_path)\n",
    "\n",
    "flag_read_additionally = False # you can read network(elements) additionally, in this case set \"flag_read_additionally\" to true\n",
    "Vissim.LoadNet(read_inpx_path, flag_read_additionally) # 해당 파일을 오픈"
   ]
  },
  {
   "cell_type": "code",
   "execution_count": 43,
   "id": "38edeb82-ea43-4640-af76-2d748ae0f2c4",
   "metadata": {
    "execution": {
     "iopub.execute_input": "2022-01-27T05:49:39.357530Z",
     "iopub.status.busy": "2022-01-27T05:49:39.357530Z",
     "iopub.status.idle": "2022-01-27T05:49:40.276962Z",
     "shell.execute_reply": "2022-01-27T05:49:40.276962Z",
     "shell.execute_reply.started": "2022-01-27T05:49:39.357530Z"
    },
    "tags": []
   },
   "outputs": [
    {
     "name": "stdout",
     "output_type": "stream",
     "text": [
      "D:/OneDrive - 연세대학교 (Yonsei University)/Projects/Personal/03_VISSIM_win32com/network_example\\COM_example.layx\n"
     ]
    }
   ],
   "source": [
    "read_layx_name = 'COM_example.layx'\n",
    "read_layx_path = os.path.join(network_folder_path, read_layx_name) # 레이아웃 .layx 로드\n",
    "\n",
    "print(read_layx_path)\n",
    "\n",
    "Vissim.LoadLayout(read_layx_path)"
   ]
  },
  {
   "cell_type": "markdown",
   "id": "3d7db510-a0e8-48c6-a4fa-2f69a824f7a7",
   "metadata": {},
   "source": [
    "# Read and Set attributes\n",
    "* Note: All of the following commands can also be executed during a simulation."
   ]
  },
  {
   "cell_type": "markdown",
   "id": "caa7b5e5-4878-4432-91ed-81d63200cfd8",
   "metadata": {},
   "source": [
    "## Read Link Name\n",
    "* 지정한 링크 번호별로 Links List의 값을 불러옴"
   ]
  },
  {
   "cell_type": "code",
   "execution_count": 47,
   "id": "ecce20d2-a169-4ba9-8d66-e17c32d57a9f",
   "metadata": {
    "execution": {
     "iopub.execute_input": "2022-01-27T05:54:42.900834Z",
     "iopub.status.busy": "2022-01-27T05:54:42.900834Z",
     "iopub.status.idle": "2022-01-27T05:54:42.916781Z",
     "shell.execute_reply": "2022-01-27T05:54:42.916428Z",
     "shell.execute_reply.started": "2022-01-27T05:54:42.900834Z"
    },
    "tags": []
   },
   "outputs": [
    {
     "name": "stdout",
     "output_type": "stream",
     "text": [
      "Name of Link : 1, Link Behavior Type : 1, Lane Number : 1, Link Length : 212.71(m)\n"
     ]
    }
   ],
   "source": [
    "Link_number = 1 # 링크 번호(No)를 넣음\n",
    "\n",
    "Name_of_Link = Vissim.Net.Links.ItemByKey(Link_number).AttValue('Name')\n",
    "Link_behavior_type = Vissim.Net.Links.ItemByKey(Link_number).AttValue('LinkBehavType')\n",
    "Lane_num = Vissim.Net.Links.ItemByKey(Link_number).AttValue('NumLanes') # 차로수\n",
    "Link_length = Vissim.Net.Links.ItemByKey(Link_number).AttValue('Length2D') # 링크 길이\n",
    "\n",
    "print(f'Name of Link : {Name_of_Link}, Link Behavior Type : {Link_behavior_type}, Lane Number : {Lane_num}, Link Length : {round(Link_length, 2)}(m)')"
   ]
  },
  {
   "cell_type": "markdown",
   "id": "a3a4b178-3a01-4c6e-a157-2917f21901a8",
   "metadata": {},
   "source": [
    "## Set Link Name\n",
    "* 링크 이름(Name)을 재설정"
   ]
  },
  {
   "cell_type": "code",
   "execution_count": 48,
   "id": "e7ba5981-14ed-4d08-871c-490a321a0301",
   "metadata": {
    "execution": {
     "iopub.execute_input": "2022-01-27T05:55:05.699118Z",
     "iopub.status.busy": "2022-01-27T05:55:05.699118Z",
     "iopub.status.idle": "2022-01-27T05:55:05.747344Z",
     "shell.execute_reply": "2022-01-27T05:55:05.747344Z",
     "shell.execute_reply.started": "2022-01-27T05:55:05.699118Z"
    },
    "tags": []
   },
   "outputs": [],
   "source": [
    "new_Name_of_Link = 'New Link Name'\n",
    "Vissim.Net.Links.ItemByKey(Link_number).SetAttValue('Name', new_Name_of_Link) # 1번 링크의 이름을 기존(Old link name)에서 새 것(New Link name)으로 변경"
   ]
  },
  {
   "cell_type": "markdown",
   "id": "f72dccaa-9fd0-41c0-ba1b-6337fad57f6d",
   "metadata": {},
   "source": [
    "## Set a signal controller program\n",
    "* 신호 프로그램 번호(Program no) 스위칭을 통한 세팅 : TOD 플랜으로 활용"
   ]
  },
  {
   "cell_type": "code",
   "execution_count": 86,
   "id": "89e6ef63-6dbd-41e3-8924-9cef313904fe",
   "metadata": {
    "execution": {
     "iopub.execute_input": "2022-01-27T06:08:36.025977Z",
     "iopub.status.busy": "2022-01-27T06:08:36.025977Z",
     "iopub.status.idle": "2022-01-27T06:08:36.061845Z",
     "shell.execute_reply": "2022-01-27T06:08:36.059843Z",
     "shell.execute_reply.started": "2022-01-27T06:08:36.025977Z"
    },
    "tags": []
   },
   "outputs": [],
   "source": [
    "SC_number = 1 # SC = SignalController\n",
    "\n",
    "SignalController = Vissim.Net.SignalControllers.ItemByKey(SC_number)\n",
    "new_signal_programm_number = 2\n",
    "\n",
    "SignalController.SetAttValue('ProgNo', new_signal_programm_number)"
   ]
  },
  {
   "cell_type": "markdown",
   "id": "6391cdc9-1314-499f-9459-60eb8c26d65f",
   "metadata": {},
   "source": [
    "## Set Vehicle Routes(Static) \n",
    "* Set relative flow of a static vehilce route of a static vehicle routing desision"
   ]
  },
  {
   "cell_type": "code",
   "execution_count": 89,
   "id": "9a974c49-2051-4103-bac3-46c03d3dfd19",
   "metadata": {
    "execution": {
     "iopub.execute_input": "2022-01-27T06:09:53.592008Z",
     "iopub.status.busy": "2022-01-27T06:09:53.592008Z",
     "iopub.status.idle": "2022-01-27T06:09:53.642834Z",
     "shell.execute_reply": "2022-01-27T06:09:53.641836Z",
     "shell.execute_reply.started": "2022-01-27T06:09:53.592008Z"
    },
    "tags": []
   },
   "outputs": [],
   "source": [
    "SVRD_number = 1 # SVRD = Static Vehicle Routing Desision\n",
    "SVR_number = 1 # SVR = Static Vehicle Route (of a specific Static Vehicle Routing Desision)\n",
    "\n",
    "new_relativ_flow = 0.6 # 1번 Vehicle Routing Decision의 1번 Route의 RelFlow를 0.6으로 변경\n",
    "Vissim.Net.VehicleRoutingDecisionsStatic.ItemByKey(SVRD_number).VehRoutSta.ItemByKey(SVR_number).SetAttValue('RelFlow(1)', new_relativ_flow)\n",
    "# 'RelFlow(1)' means the first defined time interval; to access the third defined time interval: 'RelFlow(3)'"
   ]
  },
  {
   "cell_type": "markdown",
   "id": "c0ae2d0f-68cc-41b6-beb3-5bf73aa163fd",
   "metadata": {},
   "source": [
    "## Set Vehicle Input"
   ]
  },
  {
   "cell_type": "code",
   "execution_count": 90,
   "id": "19a58b6f-0cde-4467-b287-0e25266c2a8a",
   "metadata": {
    "execution": {
     "iopub.execute_input": "2022-01-27T06:11:14.769934Z",
     "iopub.status.busy": "2022-01-27T06:11:14.769934Z",
     "iopub.status.idle": "2022-01-27T06:11:14.884212Z",
     "shell.execute_reply": "2022-01-27T06:11:14.884212Z",
     "shell.execute_reply.started": "2022-01-27T06:11:14.769934Z"
    },
    "tags": []
   },
   "outputs": [],
   "source": [
    "VI_number   = 1 # VI = Vehicle Input 번호.\n",
    "new_volume  = 1200 # vehicles per hour. 각 Vehicle Input 별 시간당 교통량(vph)\n",
    "\n",
    "Vissim.Net.VehicleInputs.ItemByKey(VI_number).SetAttValue('Volume(1)', new_volume) # Volume(0)을 1200으로 바꿈\n",
    "# 'Volume(1)' means the first defined time interval\n",
    "# Hint: The Volumes of following intervals Volume(i) i = 2...n can only be\n",
    "# edited, if continous is deactivated: (otherwise error: \"AttValue failed: Object 2: Attribute Volume (300) is no subject to changes.\")\n",
    "Vissim.Net.VehicleInputs.ItemByKey(VI_number).SetAttValue('Cont(2)', False)\n",
    "Vissim.Net.VehicleInputs.ItemByKey(VI_number).SetAttValue('Volume(2)', 400) # Volume(300을 400으로 바꿈)"
   ]
  },
  {
   "cell_type": "markdown",
   "id": "a602c458-6c04-4c5c-a5a2-6862af0a9568",
   "metadata": {},
   "source": [
    "## Set Vehicle Composition\n",
    "* 차종별 구성비율 및 상대적 비율 설정"
   ]
  },
  {
   "cell_type": "code",
   "execution_count": 94,
   "id": "dd254432-69ad-4ded-aeb8-b18f891c56ca",
   "metadata": {
    "execution": {
     "iopub.execute_input": "2022-01-27T06:14:09.131073Z",
     "iopub.status.busy": "2022-01-27T06:14:09.131073Z",
     "iopub.status.idle": "2022-01-27T06:14:09.360653Z",
     "shell.execute_reply": "2022-01-27T06:14:09.360653Z",
     "shell.execute_reply.started": "2022-01-27T06:14:09.131073Z"
    },
    "tags": []
   },
   "outputs": [],
   "source": [
    "Veh_composition_number = 1 # Vehicle Composition 번호\n",
    "\n",
    "Rel_Flows = Vissim.Net.VehicleCompositions.ItemByKey(Veh_composition_number).VehCompRelFlows.GetAll()\n",
    "\n",
    "Rel_Flows[0].SetAttValue('VehType', 100) # Vehicle type 변경 : Car\n",
    "Rel_Flows[0].SetAttValue('DesSpeedDistr', 50) # Desired speed distribution 변경\n",
    "Rel_Flows[0].SetAttValue('RelFlow', 0.76) # Relative Flow 변경\n",
    "\n",
    "Rel_Flows[1].SetAttValue('VehType', 200) # Vehicle type 변경 : HGV\n",
    "Rel_Flows[1].SetAttValue('DesSpeedDistr', 20) # Desired speed distribution 변경\n",
    "Rel_Flows[1].SetAttValue('RelFlow', 0.24) # 두 번째 Relative Flow 값 변경"
   ]
  },
  {
   "cell_type": "markdown",
   "id": "d588ccf8-3f10-4567-afba-8369d87e740c",
   "metadata": {},
   "source": [
    "# Accessing Multiple Attributes\n",
    "* 모든 링크 번호, ... 등 출력하기"
   ]
  },
  {
   "cell_type": "code",
   "execution_count": 99,
   "id": "0225eb96-44fc-4fa9-bbf6-7667e8412caf",
   "metadata": {
    "execution": {
     "iopub.execute_input": "2022-01-27T06:15:20.397133Z",
     "iopub.status.busy": "2022-01-27T06:15:20.397133Z",
     "iopub.status.idle": "2022-01-27T06:15:20.404143Z",
     "shell.execute_reply": "2022-01-27T06:15:20.404143Z",
     "shell.execute_reply.started": "2022-01-27T06:15:20.397133Z"
    },
    "tags": []
   },
   "outputs": [
    {
     "name": "stdout",
     "output_type": "stream",
     "text": [
      "((1, 'New Link Name'), (2, ''), (3, ''), (4, ''), (5, ''), (6, ''), (7, ''), (8, ''), (9, ''), (10, ''), (11, ''), (12, ''), (13, ''), (14, ''), (15, ''), (16, ''), (17, ''), (18, ''), (19, ''), (20, ''), (21, ''), (22, ''), (23, ''), (24, ''), (25, ''), (26, ''), (27, ''), (28, ''), (29, ''), (30, ''), (31, ''), (32, ''), (33, ''), (34, ''))\n"
     ]
    }
   ],
   "source": [
    "Attribute = 'Name'\n",
    "Name_of_Links = Vissim.Net.Links.GetMultiAttValues(Attribute)\n",
    "\n",
    "print(Name_of_Links) #> (No, Name)"
   ]
  },
  {
   "cell_type": "code",
   "execution_count": 100,
   "id": "d9e24972-8547-4f3a-afcc-8beff719f536",
   "metadata": {
    "execution": {
     "iopub.execute_input": "2022-01-27T06:16:10.143478Z",
     "iopub.status.busy": "2022-01-27T06:16:10.142479Z",
     "iopub.status.idle": "2022-01-27T06:16:10.189357Z",
     "shell.execute_reply": "2022-01-27T06:16:10.188360Z",
     "shell.execute_reply.started": "2022-01-27T06:16:10.143478Z"
    },
    "tags": []
   },
   "outputs": [],
   "source": [
    "# 여러 개의 링크 번호별 이름을 바꿔버리기\n",
    "Link_No_Name = ((1,'New Link Name of Link #1'), (2,'New Link Name of Link #2'), (4,'New Link Name of Link #4'))\n",
    "Vissim.Net.Links.SetMultiAttValues(Attribute, Link_No_Name) # 첫번째 인풋 : Link Number, 두번째 인풋 : Link Name"
   ]
  },
  {
   "cell_type": "code",
   "execution_count": 101,
   "id": "72b4f7a5-b7ef-4da4-892c-4b8a0aaf64cc",
   "metadata": {
    "execution": {
     "iopub.execute_input": "2022-01-27T06:16:33.745851Z",
     "iopub.status.busy": "2022-01-27T06:16:33.745851Z",
     "iopub.status.idle": "2022-01-27T06:16:33.756821Z",
     "shell.execute_reply": "2022-01-27T06:16:33.755851Z",
     "shell.execute_reply.started": "2022-01-27T06:16:33.745851Z"
    },
    "tags": []
   },
   "outputs": [
    {
     "name": "stdout",
     "output_type": "stream",
     "text": [
      "(('New Link Name of Link #1', 212.71412762894357), ('New Link Name of Link #2', 0.22526954990853798), ('', 87.25493989396102), ('New Link Name of Link #4', 130.1980000198394), ('', 134.81005811404532), ('', 145.1817212848653), ('', 0.2241267962917452), ('', 37.99400982268606), ('', 29.377800191581805), ('', 89.74227725127139), ('', 277.1599235798854), ('', 25.177075733999498), ('', 86.07025618690855), ('', 226.73309630607264), ('', 155.50347827220185), ('', 0.2831440171361438), ('', 75.88557665747814), ('', 0.05919101903225138), ('', 16.063020055979578), ('', 0.9602704952603105), ('', 0.43749833794632664), ('', 1.0014991059854919), ('', 32.39003279386003), ('', 1.267190512901081), ('', 1.0949961085259967), ('', 7.4626479318846), ('', 1.2111178756603231), ('', 1.2107872602557428), ('', 6.214491069118261), ('', 1.3030533261579984), ('', 0.21033523366157536), ('', 21.420127269325732), ('', 22.385191649444575), ('', 10.23519797037521))\n"
     ]
    }
   ],
   "source": [
    "# 링크와 링크별 길이를 출력하기\n",
    "Attributes1 = (\"Name\", \"Length2D\")\n",
    "Name_Length_of_Links = Vissim.Net.Links.GetMultipleAttributes(Attributes1)\n",
    "\n",
    "print(Name_Length_of_Links)"
   ]
  },
  {
   "cell_type": "code",
   "execution_count": 102,
   "id": "5c31261f-f577-47ae-a227-94b80046f47b",
   "metadata": {
    "execution": {
     "iopub.execute_input": "2022-01-27T06:17:03.233722Z",
     "iopub.status.busy": "2022-01-27T06:17:03.233722Z",
     "iopub.status.idle": "2022-01-27T06:17:03.300300Z",
     "shell.execute_reply": "2022-01-27T06:17:03.299298Z",
     "shell.execute_reply.started": "2022-01-27T06:17:03.233722Z"
    },
    "tags": []
   },
   "outputs": [
    {
     "name": "stdout",
     "output_type": "stream",
     "text": [
      "(('Name1', 12), ('Name2', 7), ('Name3', 5), ('Name4', 3))\n"
     ]
    }
   ],
   "source": [
    "Attributes2 = (\"Name\", \"CostPerKm\")\n",
    "Link_Name_Cost = ((\"Name1\", 12),(\"Name2\", 7),(\"Name3\", 5),(\"Name4\", 3))\n",
    "Vissim.Net.Links.SetMultipleAttributes(Attributes2, Link_Name_Cost)\n",
    "\n",
    "print(Link_Name_Cost) "
   ]
  },
  {
   "cell_type": "code",
   "execution_count": 103,
   "id": "3e8d390e-8411-481f-ad0d-bd37a747f539",
   "metadata": {
    "execution": {
     "iopub.execute_input": "2022-01-27T06:17:22.854700Z",
     "iopub.status.busy": "2022-01-27T06:17:22.854700Z",
     "iopub.status.idle": "2022-01-27T06:17:22.982280Z",
     "shell.execute_reply": "2022-01-27T06:17:22.982280Z",
     "shell.execute_reply.started": "2022-01-27T06:17:22.854700Z"
    },
    "tags": []
   },
   "outputs": [],
   "source": [
    "# SetAllAttValues           Set all attributes of one object to one value:\n",
    "Attribute = \"Name\"\n",
    "Link_Name = \"All Links have the same Name\"\n",
    "Vissim.Net.Links.SetAllAttValues(Attribute, Link_Name)\n",
    "Attribute = \"CostPerKm\"\n",
    "Cost = 5.5\n",
    "Vissim.Net.Links.SetAllAttValues(Attribute, Cost)\n",
    "# Note the method SetAllAttValues has a 3rd optional input: Optional ByVal add As Boolean = False; Use only for numbers!\n",
    "Vissim.Net.Links.SetAllAttValues(Attribute, Cost, True) # setting the 3rd input to true, will add 5.5 to all previous costs!"
   ]
  },
  {
   "cell_type": "markdown",
   "id": "181dbabe-45d9-476d-848c-a097eef41f6a",
   "metadata": {},
   "source": [
    "# Simulation"
   ]
  },
  {
   "cell_type": "markdown",
   "id": "5b8f33a0-2406-4c6b-bd0a-4c476d25c520",
   "metadata": {},
   "source": [
    "## Choose Random Seed\n",
    "* 랜덤시드 지정"
   ]
  },
  {
   "cell_type": "code",
   "execution_count": 104,
   "id": "6d0ca927-c644-4930-b969-877df0b97b2f",
   "metadata": {
    "execution": {
     "iopub.execute_input": "2022-01-27T06:17:36.557410Z",
     "iopub.status.busy": "2022-01-27T06:17:36.557410Z",
     "iopub.status.idle": "2022-01-27T06:17:36.611235Z",
     "shell.execute_reply": "2022-01-27T06:17:36.611235Z",
     "shell.execute_reply.started": "2022-01-27T06:17:36.557410Z"
    },
    "tags": []
   },
   "outputs": [],
   "source": [
    "Random_Seed = 42\n",
    "Vissim.Simulation.SetAttValue('RandSeed', Random_Seed)"
   ]
  },
  {
   "cell_type": "markdown",
   "id": "be4329b8-1af6-46c1-9e57-9f64a428ca29",
   "metadata": {},
   "source": [
    "## Simmulation Run : Single Step"
   ]
  },
  {
   "cell_type": "code",
   "execution_count": 105,
   "id": "833d1413-ac9c-4ef1-a112-dea0692de2a6",
   "metadata": {
    "execution": {
     "iopub.execute_input": "2022-01-27T06:17:40.540729Z",
     "iopub.status.busy": "2022-01-27T06:17:40.540729Z",
     "iopub.status.idle": "2022-01-27T06:17:41.488889Z",
     "shell.execute_reply": "2022-01-27T06:17:41.488889Z",
     "shell.execute_reply.started": "2022-01-27T06:17:40.540729Z"
    },
    "tags": []
   },
   "outputs": [],
   "source": [
    "# To start a simulation you can run a single step:\n",
    "Vissim.Simulation.RunSingleStep() # 싱글 스텝 시뮬레이션 진행됨. 워낙 순식간에 지나가버렸다"
   ]
  },
  {
   "cell_type": "markdown",
   "id": "cfb0532b-e278-4c77-b4ac-f08ce5999727",
   "metadata": {},
   "source": [
    "## Simulation Run : Continuous\n",
    "* it stops at breakpoint or end of simulation"
   ]
  },
  {
   "cell_type": "code",
   "execution_count": 106,
   "id": "bb0a7b6a-cd1c-4d6c-b2ca-7e78b7a4f459",
   "metadata": {
    "execution": {
     "iopub.execute_input": "2022-01-27T06:18:50.646887Z",
     "iopub.status.busy": "2022-01-27T06:18:50.646887Z",
     "iopub.status.idle": "2022-01-27T06:18:50.709998Z",
     "shell.execute_reply": "2022-01-27T06:18:50.709998Z",
     "shell.execute_reply.started": "2022-01-27T06:18:50.646887Z"
    },
    "tags": []
   },
   "outputs": [],
   "source": [
    "End_of_simulation = 600 # Simulationsecond [s]\n",
    "Vissim.Simulation.SetAttValue('SimPeriod', End_of_simulation)\n",
    "\n",
    "Sim_break_at = 200 # Simulationsecond [s]\n",
    "Vissim.Simulation.SetAttValue('SimBreakAt', Sim_break_at)"
   ]
  },
  {
   "cell_type": "markdown",
   "id": "b95f8487-f57a-4f55-b392-6074b5dbb915",
   "metadata": {},
   "source": [
    "## Set maximum Speed"
   ]
  },
  {
   "cell_type": "code",
   "execution_count": 107,
   "id": "6d300ecb-e3e4-4f77-ad8f-4f89ccfe1730",
   "metadata": {
    "execution": {
     "iopub.execute_input": "2022-01-27T06:18:58.327341Z",
     "iopub.status.busy": "2022-01-27T06:18:58.327341Z",
     "iopub.status.idle": "2022-01-27T06:18:58.386185Z",
     "shell.execute_reply": "2022-01-27T06:18:58.385187Z",
     "shell.execute_reply.started": "2022-01-27T06:18:58.327341Z"
    },
    "tags": []
   },
   "outputs": [],
   "source": [
    "Vissim.Simulation.SetAttValue('UseMaxSimSpeed', True) #> 시뮬레이션을 최속의 스피드로 진행하도록 한다.\n",
    "# Hint: to change the speed use: Vissim.Simulation.SetAttValue('SimSpeed', 10) # 10 => 10 Sim.sec. / s"
   ]
  },
  {
   "cell_type": "markdown",
   "id": "54bd30e0-4fc5-4693-b8b8-3ed1e4d0b4d9",
   "metadata": {},
   "source": [
    "## Stop the Simulation"
   ]
  },
  {
   "cell_type": "code",
   "execution_count": 109,
   "id": "e469af5a-39e7-482a-8ac1-cafab222bd21",
   "metadata": {
    "execution": {
     "iopub.execute_input": "2022-01-27T06:20:08.895614Z",
     "iopub.status.busy": "2022-01-27T06:20:08.895614Z",
     "iopub.status.idle": "2022-01-27T06:20:20.894629Z",
     "shell.execute_reply": "2022-01-27T06:20:20.894629Z",
     "shell.execute_reply.started": "2022-01-27T06:20:08.895614Z"
    },
    "tags": []
   },
   "outputs": [],
   "source": [
    "Vissim.Simulation.RunContinuous() # Break Point인 Sim_break_at(200)까지 시뮬레이션이 진행된다. 다시 실행하면, 600까지(End_of_simulation) 진행되고 시뮬레이션이 끝난다."
   ]
  },
  {
   "cell_type": "code",
   "execution_count": 110,
   "id": "fbbfa812-e18a-4b02-81bd-e6b657f7100a",
   "metadata": {
    "execution": {
     "iopub.execute_input": "2022-01-27T06:20:20.895631Z",
     "iopub.status.busy": "2022-01-27T06:20:20.895631Z",
     "iopub.status.idle": "2022-01-27T06:20:20.900645Z",
     "shell.execute_reply": "2022-01-27T06:20:20.900645Z",
     "shell.execute_reply.started": "2022-01-27T06:20:20.895631Z"
    },
    "tags": []
   },
   "outputs": [],
   "source": [
    "Vissim.Simulation.Stop() # 시뮬레이션 중지 코드. 반복문 사용시 쓰면 좋다."
   ]
  },
  {
   "cell_type": "markdown",
   "id": "23dd3770-22ea-4e3a-a07b-e0162dfbbb5a",
   "metadata": {},
   "source": [
    "## Access during simulation\n",
    "* Note: All of commands of \"Read and Set attributes (vehicles)\" can also be executed during a simulation\n",
    "* (e.g. changing signal controller program, setting relative flow of a static vehilce route, changing the vehicle input, changing the vehicle composition)."
   ]
  },
  {
   "cell_type": "markdown",
   "id": "ea29a55f-fc4a-4e70-87ee-72034ae78e04",
   "metadata": {},
   "source": [
    "### Break point 설정"
   ]
  },
  {
   "cell_type": "code",
   "execution_count": 111,
   "id": "ec102f88-0445-45f0-a51d-8c154a8b09ed",
   "metadata": {
    "execution": {
     "iopub.execute_input": "2022-01-27T06:21:41.688387Z",
     "iopub.status.busy": "2022-01-27T06:21:41.688387Z",
     "iopub.status.idle": "2022-01-27T06:21:48.198177Z",
     "shell.execute_reply": "2022-01-27T06:21:48.198177Z",
     "shell.execute_reply.started": "2022-01-27T06:21:41.688387Z"
    },
    "tags": []
   },
   "outputs": [],
   "source": [
    "Sim_break_at = 198 # Simulationsecond [s]\n",
    "\n",
    "Vissim.Simulation.SetAttValue('SimBreakAt', Sim_break_at)\n",
    "Vissim.Simulation.RunContinuous() # Start the simulation until SimBreakAt (198s)"
   ]
  },
  {
   "cell_type": "markdown",
   "id": "06729a58-5ac7-4c38-829c-8c87caa22f36",
   "metadata": {},
   "source": [
    "### Get the state of a signal head\n",
    "* 현재 Signal Head 상태 추출"
   ]
  },
  {
   "cell_type": "code",
   "execution_count": 112,
   "id": "7f6b69ae-0028-4aaf-80e6-f90c41abbc29",
   "metadata": {
    "execution": {
     "iopub.execute_input": "2022-01-27T06:21:48.198177Z",
     "iopub.status.busy": "2022-01-27T06:21:48.198177Z",
     "iopub.status.idle": "2022-01-27T06:21:48.247197Z",
     "shell.execute_reply": "2022-01-27T06:21:48.247197Z",
     "shell.execute_reply.started": "2022-01-27T06:21:48.198177Z"
    },
    "tags": []
   },
   "outputs": [
    {
     "name": "stdout",
     "output_type": "stream",
     "text": [
      "Actual state of SignalHead1 is: RED\n"
     ]
    }
   ],
   "source": [
    "SH_number = 1 # SH = SignalHead\n",
    "State_of_SH = Vissim.Net.SignalHeads.ItemByKey(SH_number).AttValue('State') # possible output: 'GREEN', 'RED', 'AMBER', 'REDAMBER'\n",
    "print(f'Actual state of SignalHead{SH_number} is: {State_of_SH}') #> 현재 해당 Signal Head가 빨간불/파란불/노란불/빨강노랑불인지 알려준다."
   ]
  },
  {
   "cell_type": "markdown",
   "id": "abce67fa-04f7-4015-9ec4-534b5a5c194b",
   "metadata": {},
   "source": [
    "### Set the state of a signal controller\n",
    "* Note: Once a state of a signal group is set, the attribute \"ContrByCOM\" is automatically set to True. Meaning the signal group will keep this state until another state is set by COM or the end of the simulation"
   ]
  },
  {
   "cell_type": "code",
   "execution_count": 113,
   "id": "829e8f5b-7e19-4bb1-b252-415c921088d3",
   "metadata": {
    "execution": {
     "iopub.execute_input": "2022-01-27T06:22:55.466198Z",
     "iopub.status.busy": "2022-01-27T06:22:55.450576Z",
     "iopub.status.idle": "2022-01-27T06:22:55.514040Z",
     "shell.execute_reply": "2022-01-27T06:22:55.513036Z",
     "shell.execute_reply.started": "2022-01-27T06:22:55.466198Z"
    },
    "tags": []
   },
   "outputs": [],
   "source": [
    "# To switch back to the defined signal controller, set the attribute signal \"ContrByCOM\" to False (example see below).\n",
    "SC_number = 1 # SC = SignalController\n",
    "SG_number = 1 # SG = SignalGroup\n",
    "\n",
    "SignalController = Vissim.Net.SignalControllers.ItemByKey(SC_number)\n",
    "SignalGroup = SignalController.SGs.ItemByKey(SG_number)\n",
    "\n",
    "new_state = 'GREEN' #possible values: \"GREEN\", \"RED\", \"AMBER\", \"REDAMBER\" \n",
    "SignalGroup.SetAttValue('State', new_state)\n",
    "\n",
    "# Note: The signal controller can only be called at whole simulation seconds, so the state will be set in Vissim at the next whole sim-second, here 199s"
   ]
  },
  {
   "cell_type": "code",
   "execution_count": 124,
   "id": "1cc91304-ae24-4d9b-94a1-01d339feaf50",
   "metadata": {
    "execution": {
     "iopub.execute_input": "2022-01-27T06:28:28.838172Z",
     "iopub.status.busy": "2022-01-27T06:28:28.838172Z",
     "iopub.status.idle": "2022-01-27T06:28:35.897089Z",
     "shell.execute_reply": "2022-01-27T06:28:35.897089Z",
     "shell.execute_reply.started": "2022-01-27T06:28:28.838172Z"
    },
    "tags": []
   },
   "outputs": [],
   "source": [
    "# Simulate so that the new state is activ in the Vissim simulation:\n",
    "Sim_break_at = 200 # Simulationsecond [s]\n",
    "\n",
    "Vissim.Simulation.SetAttValue('SimBreakAt', Sim_break_at)\n",
    "Vissim.Simulation.RunContinuous() # Start the simulation until SimBreakAt (200s)\n",
    "\n",
    "# Give the control back:\n",
    "SignalGroup.SetAttValue('ContrByCOM', False)"
   ]
  },
  {
   "cell_type": "markdown",
   "id": "7c714faa-867c-4fb2-8017-dc7b279f38c7",
   "metadata": {},
   "source": [
    "## Information about all vehicles in the network\n",
    "* in the current simulation second"
   ]
  },
  {
   "cell_type": "code",
   "execution_count": 125,
   "id": "8eccc30f-0b87-4d9b-929b-9af1c39c6f46",
   "metadata": {
    "execution": {
     "iopub.execute_input": "2022-01-27T06:28:35.897089Z",
     "iopub.status.busy": "2022-01-27T06:28:35.897089Z",
     "iopub.status.idle": "2022-01-27T06:28:35.944540Z",
     "shell.execute_reply": "2022-01-27T06:28:35.944540Z",
     "shell.execute_reply.started": "2022-01-27T06:28:35.897089Z"
    },
    "tags": []
   },
   "outputs": [
    {
     "name": "stdout",
     "output_type": "stream",
     "text": [
      "56  |  200  |  19.282344186864762  |  101.22157303565864  |  5-1\n",
      "58  |  200  |  19.798135701906705  |  73.00800951681632  |  14-1\n",
      "60  |  200  |  17.427334224180523  |  6.618025875797972  |  5-1\n",
      "62  |  100  |  18.260505460247703  |  13.536145698404802  |  9-1\n",
      "63  |  100  |  43.20300542118759  |  168.58905505549467  |  11-1\n",
      "64  |  100  |  15.554974043088716  |  129.74416880562455  |  4-1\n",
      "65  |  100  |  12.51767424421088  |  118.09167528077401  |  4-1\n",
      "69  |  100  |  10.876762668565645  |  109.11928795106095  |  4-1\n",
      "72  |  100  |  11.860293498555178  |  100.07650400786707  |  4-1\n",
      "74  |  100  |  12.529799546494704  |  89.40093462677308  |  4-1\n",
      "75  |  100  |  20.39398315853323  |  81.22580248455256  |  5-1\n",
      "76  |  100  |  13.328000044507187  |  79.29968947994729  |  4-1\n",
      "78  |  200  |  18.19434399958918  |  66.63127519834224  |  4-1\n",
      "79  |  200  |  19.403657619525127  |  50.570388346779694  |  4-1\n",
      "80  |  100  |  21.60896192480416  |  67.32172182484256  |  5-1\n",
      "82  |  200  |  20.966747401616974  |  55.93454305699516  |  11-1\n",
      "83  |  100  |  19.311542607103735  |  54.5284134308268  |  14-1\n",
      "84  |  100  |  44.302516087491455  |  259.53913601656774  |  11-1\n",
      "85  |  200  |  21.6529618089051  |  34.82932507549221  |  11-1\n",
      "86  |  100  |  0.0  |  74.43081717090006  |  3-1\n",
      "88  |  100  |  0.0  |  67.24157177067305  |  3-1\n",
      "89  |  100  |  24.119205610304732  |  52.104809008262734  |  5-1\n",
      "90  |  200  |  4.535514099524701  |  59.81330615326904  |  3-1\n",
      "91  |  100  |  24.28238340605252  |  35.65745654115713  |  5-1\n",
      "92  |  100  |  8.237596811725762  |  45.68429104571214  |  3-1\n",
      "93  |  100  |  21.33553504454472  |  19.840445935166485  |  14-1\n",
      "94  |  100  |  20.511973469353862  |  38.50367254569956  |  14-1\n",
      "95  |  100  |  22.46675730973953  |  16.92274293150439  |  10015-1\n",
      "96  |  100  |  8.689938004139549  |  29.744549564202014  |  3-1\n",
      "97  |  200  |  19.775704035739906  |  44.521364563969314  |  13-1\n",
      "98  |  200  |  24.281669336668273  |  30.201530417334112  |  3-2\n",
      "99  |  200  |  18.75516379290243  |  8.805153092962197  |  10001-2\n",
      "100  |  200  |  17.025277704887156  |  202.82119327701696  |  1-1\n",
      "101  |  200  |  18.40054706154949  |  0.43701475445392646  |  10016-1\n",
      "102  |  100  |  18.265897541056308  |  184.1673735762686  |  1-1\n",
      "103  |  100  |  41.264670279126214  |  222.5290613844502  |  11-1\n",
      "104  |  100  |  20.100821033158503  |  2.255988669764731  |  10015-1\n",
      "105  |  100  |  18.974384004702014  |  172.32172685868255  |  1-1\n",
      "106  |  100  |  20.8854378894241  |  159.37364929948538  |  1-1\n",
      "107  |  200  |  22.225217851579508  |  138.88224298440412  |  1-1\n",
      "108  |  100  |  24.125993601851754  |  118.07809910414099  |  1-1\n",
      "109  |  100  |  27.391694327689976  |  105.47647189149785  |  1-1\n",
      "110  |  200  |  18.02130708918505  |  86.92317786179157  |  1-1\n",
      "111  |  100  |  22.25112893351363  |  19.733613843174055  |  12-1\n",
      "112  |  100  |  15.892534639373528  |  67.77129032724444  |  1-1\n",
      "113  |  100  |  16.259166038931955  |  52.643242855158014  |  1-1\n",
      "114  |  100  |  39.64337593693592  |  29.255772586026826  |  10-1\n",
      "115  |  100  |  16.748845816211617  |  37.98621352564146  |  1-1\n",
      "116  |  100  |  51.706594329438886  |  19.371110138309017  |  10005-2\n",
      "117  |  100  |  10.934657374019958  |  25.49498103915663  |  1-1\n",
      "118  |  100  |  46.20544651520443  |  124.12275134419369  |  15-1\n",
      "119  |  100  |  45.89640576344  |  104.24200166033458  |  15-1\n",
      "120  |  200  |  11.017482973858831  |  12.165306233145486  |  1-1\n",
      "121  |  200  |  18.50965917416808  |  30.917393569578696  |  15-1\n",
      "122  |  100  |  20.317286706706852  |  11.635107577039257  |  15-1\n",
      "123  |  100  |  52.32903353245974  |  57.064309755290886  |  6-1\n"
     ]
    }
   ],
   "source": [
    "# Method #1: Loop over all Vehicles: --- using 'GetAll'\n",
    "All_Vehicles = Vissim.Net.Vehicles.GetAll() #\"시뮬레이션이 실행되는 동안의\" 차량들을 뽑아낸다.\n",
    "\n",
    "for cnt_Veh in range(len(All_Vehicles)):\n",
    "    veh_number = All_Vehicles[cnt_Veh].AttValue('No')\n",
    "    veh_type = All_Vehicles[cnt_Veh].AttValue('VehType')\n",
    "    veh_speed = All_Vehicles[cnt_Veh].AttValue('Speed')\n",
    "    veh_position = All_Vehicles[cnt_Veh].AttValue('Pos')\n",
    "    veh_linklane = All_Vehicles[cnt_Veh].AttValue('Lane')\n",
    "    \n",
    "    print(f'{veh_number}  |  {veh_type}  |  {veh_speed}  |  {veh_position}  |  {veh_linklane}')"
   ]
  },
  {
   "cell_type": "code",
   "execution_count": 130,
   "id": "174fb430-ab39-4f04-ad56-00d59c8b2bb8",
   "metadata": {
    "execution": {
     "iopub.execute_input": "2022-01-27T06:30:09.100484Z",
     "iopub.status.busy": "2022-01-27T06:30:09.100484Z",
     "iopub.status.idle": "2022-01-27T06:30:09.161760Z",
     "shell.execute_reply": "2022-01-27T06:30:09.161760Z",
     "shell.execute_reply.started": "2022-01-27T06:30:09.100484Z"
    },
    "tags": []
   },
   "outputs": [
    {
     "name": "stdout",
     "output_type": "stream",
     "text": [
      "56  |  200  |  19.282344186864762  |  101.22157303565864  |  5-1\n",
      "58  |  200  |  19.798135701906705  |  73.00800951681632  |  14-1\n",
      "60  |  200  |  17.427334224180523  |  6.618025875797972  |  5-1\n",
      "62  |  100  |  18.260505460247703  |  13.536145698404802  |  9-1\n",
      "63  |  100  |  43.20300542118759  |  168.58905505549467  |  11-1\n",
      "64  |  100  |  15.554974043088716  |  129.74416880562455  |  4-1\n",
      "65  |  100  |  12.51767424421088  |  118.09167528077401  |  4-1\n",
      "69  |  100  |  10.876762668565645  |  109.11928795106095  |  4-1\n",
      "72  |  100  |  11.860293498555178  |  100.07650400786707  |  4-1\n",
      "74  |  100  |  12.529799546494704  |  89.40093462677308  |  4-1\n",
      "75  |  100  |  20.39398315853323  |  81.22580248455256  |  5-1\n",
      "76  |  100  |  13.328000044507187  |  79.29968947994729  |  4-1\n",
      "78  |  200  |  18.19434399958918  |  66.63127519834224  |  4-1\n",
      "79  |  200  |  19.403657619525127  |  50.570388346779694  |  4-1\n",
      "80  |  100  |  21.60896192480416  |  67.32172182484256  |  5-1\n",
      "82  |  200  |  20.966747401616974  |  55.93454305699516  |  11-1\n",
      "83  |  100  |  19.311542607103735  |  54.5284134308268  |  14-1\n",
      "84  |  100  |  44.302516087491455  |  259.53913601656774  |  11-1\n",
      "85  |  200  |  21.6529618089051  |  34.82932507549221  |  11-1\n",
      "86  |  100  |  0.0  |  74.43081717090006  |  3-1\n",
      "88  |  100  |  0.0  |  67.24157177067305  |  3-1\n",
      "89  |  100  |  24.119205610304732  |  52.104809008262734  |  5-1\n",
      "90  |  200  |  4.535514099524701  |  59.81330615326904  |  3-1\n",
      "91  |  100  |  24.28238340605252  |  35.65745654115713  |  5-1\n",
      "92  |  100  |  8.237596811725762  |  45.68429104571214  |  3-1\n",
      "93  |  100  |  21.33553504454472  |  19.840445935166485  |  14-1\n",
      "94  |  100  |  20.511973469353862  |  38.50367254569956  |  14-1\n",
      "95  |  100  |  22.46675730973953  |  16.92274293150439  |  10015-1\n",
      "96  |  100  |  8.689938004139549  |  29.744549564202014  |  3-1\n",
      "97  |  200  |  19.775704035739906  |  44.521364563969314  |  13-1\n",
      "98  |  200  |  24.281669336668273  |  30.201530417334112  |  3-2\n",
      "99  |  200  |  18.75516379290243  |  8.805153092962197  |  10001-2\n",
      "100  |  200  |  17.025277704887156  |  202.82119327701696  |  1-1\n",
      "101  |  200  |  18.40054706154949  |  0.43701475445392646  |  10016-1\n",
      "102  |  100  |  18.265897541056308  |  184.1673735762686  |  1-1\n",
      "103  |  100  |  41.264670279126214  |  222.5290613844502  |  11-1\n",
      "104  |  100  |  20.100821033158503  |  2.255988669764731  |  10015-1\n",
      "105  |  100  |  18.974384004702014  |  172.32172685868255  |  1-1\n",
      "106  |  100  |  20.8854378894241  |  159.37364929948538  |  1-1\n",
      "107  |  200  |  22.225217851579508  |  138.88224298440412  |  1-1\n",
      "108  |  100  |  24.125993601851754  |  118.07809910414099  |  1-1\n",
      "109  |  100  |  27.391694327689976  |  105.47647189149785  |  1-1\n",
      "110  |  200  |  18.02130708918505  |  86.92317786179157  |  1-1\n",
      "111  |  100  |  22.25112893351363  |  19.733613843174055  |  12-1\n",
      "112  |  100  |  15.892534639373528  |  67.77129032724444  |  1-1\n",
      "113  |  100  |  16.259166038931955  |  52.643242855158014  |  1-1\n",
      "114  |  100  |  39.64337593693592  |  29.255772586026826  |  10-1\n",
      "115  |  100  |  16.748845816211617  |  37.98621352564146  |  1-1\n",
      "116  |  100  |  51.706594329438886  |  19.371110138309017  |  10005-2\n",
      "117  |  100  |  10.934657374019958  |  25.49498103915663  |  1-1\n",
      "118  |  100  |  46.20544651520443  |  124.12275134419369  |  15-1\n",
      "119  |  100  |  45.89640576344  |  104.24200166033458  |  15-1\n",
      "120  |  200  |  11.017482973858831  |  12.165306233145486  |  1-1\n",
      "121  |  200  |  18.50965917416808  |  30.917393569578696  |  15-1\n",
      "122  |  100  |  20.317286706706852  |  11.635107577039257  |  15-1\n",
      "123  |  100  |  52.32903353245974  |  57.064309755290886  |  6-1\n"
     ]
    }
   ],
   "source": [
    "# Method #2: Loop over all Vehicles using Object Enumeration\n",
    "for Vehicle in Vissim.Net.Vehicles:\n",
    "    \n",
    "    veh_number =    Vehicle.AttValue('No')\n",
    "    veh_type =      Vehicle.AttValue('VehType')\n",
    "    veh_speed =     Vehicle.AttValue('Speed')\n",
    "    veh_position =  Vehicle.AttValue('Pos')\n",
    "    veh_linklane =  Vehicle.AttValue('Lane')\n",
    "    \n",
    "    print(f'{veh_number}  |  {veh_type}  |  {veh_speed}  |  {veh_position}  |  {veh_linklane}')"
   ]
  },
  {
   "cell_type": "code",
   "execution_count": 131,
   "id": "7cb22022-32fb-4100-b81a-0ab1292fd93a",
   "metadata": {
    "execution": {
     "iopub.execute_input": "2022-01-27T06:30:23.398191Z",
     "iopub.status.busy": "2022-01-27T06:30:23.398191Z",
     "iopub.status.idle": "2022-01-27T06:30:23.482959Z",
     "shell.execute_reply": "2022-01-27T06:30:23.481960Z",
     "shell.execute_reply.started": "2022-01-27T06:30:23.398191Z"
    },
    "tags": []
   },
   "outputs": [
    {
     "name": "stdout",
     "output_type": "stream",
     "text": [
      "56  |  200  |  19.282344186864762  |  101.22157303565864  |  5-1\n",
      "58  |  200  |  19.798135701906705  |  73.00800951681632  |  14-1\n",
      "60  |  200  |  17.427334224180523  |  6.618025875797972  |  5-1\n",
      "62  |  100  |  18.260505460247703  |  13.536145698404802  |  9-1\n",
      "63  |  100  |  43.20300542118759  |  168.58905505549467  |  11-1\n",
      "64  |  100  |  15.554974043088716  |  129.74416880562455  |  4-1\n",
      "65  |  100  |  12.51767424421088  |  118.09167528077401  |  4-1\n",
      "69  |  100  |  10.876762668565645  |  109.11928795106095  |  4-1\n",
      "72  |  100  |  11.860293498555178  |  100.07650400786707  |  4-1\n",
      "74  |  100  |  12.529799546494704  |  89.40093462677308  |  4-1\n",
      "75  |  100  |  20.39398315853323  |  81.22580248455256  |  5-1\n",
      "76  |  100  |  13.328000044507187  |  79.29968947994729  |  4-1\n",
      "78  |  200  |  18.19434399958918  |  66.63127519834224  |  4-1\n",
      "79  |  200  |  19.403657619525127  |  50.570388346779694  |  4-1\n",
      "80  |  100  |  21.60896192480416  |  67.32172182484256  |  5-1\n",
      "82  |  200  |  20.966747401616974  |  55.93454305699516  |  11-1\n",
      "83  |  100  |  19.311542607103735  |  54.5284134308268  |  14-1\n",
      "84  |  100  |  44.302516087491455  |  259.53913601656774  |  11-1\n",
      "85  |  200  |  21.6529618089051  |  34.82932507549221  |  11-1\n",
      "86  |  100  |  0.0  |  74.43081717090006  |  3-1\n",
      "88  |  100  |  0.0  |  67.24157177067305  |  3-1\n",
      "89  |  100  |  24.119205610304732  |  52.104809008262734  |  5-1\n",
      "90  |  200  |  4.535514099524701  |  59.81330615326904  |  3-1\n",
      "91  |  100  |  24.28238340605252  |  35.65745654115713  |  5-1\n",
      "92  |  100  |  8.237596811725762  |  45.68429104571214  |  3-1\n",
      "93  |  100  |  21.33553504454472  |  19.840445935166485  |  14-1\n",
      "94  |  100  |  20.511973469353862  |  38.50367254569956  |  14-1\n",
      "95  |  100  |  22.46675730973953  |  16.92274293150439  |  10015-1\n",
      "96  |  100  |  8.689938004139549  |  29.744549564202014  |  3-1\n",
      "97  |  200  |  19.775704035739906  |  44.521364563969314  |  13-1\n",
      "98  |  200  |  24.281669336668273  |  30.201530417334112  |  3-2\n",
      "99  |  200  |  18.75516379290243  |  8.805153092962197  |  10001-2\n",
      "100  |  200  |  17.025277704887156  |  202.82119327701696  |  1-1\n",
      "101  |  200  |  18.40054706154949  |  0.43701475445392646  |  10016-1\n",
      "102  |  100  |  18.265897541056308  |  184.1673735762686  |  1-1\n",
      "103  |  100  |  41.264670279126214  |  222.5290613844502  |  11-1\n",
      "104  |  100  |  20.100821033158503  |  2.255988669764731  |  10015-1\n",
      "105  |  100  |  18.974384004702014  |  172.32172685868255  |  1-1\n",
      "106  |  100  |  20.8854378894241  |  159.37364929948538  |  1-1\n",
      "107  |  200  |  22.225217851579508  |  138.88224298440412  |  1-1\n",
      "108  |  100  |  24.125993601851754  |  118.07809910414099  |  1-1\n",
      "109  |  100  |  27.391694327689976  |  105.47647189149785  |  1-1\n",
      "110  |  200  |  18.02130708918505  |  86.92317786179157  |  1-1\n",
      "111  |  100  |  22.25112893351363  |  19.733613843174055  |  12-1\n",
      "112  |  100  |  15.892534639373528  |  67.77129032724444  |  1-1\n",
      "113  |  100  |  16.259166038931955  |  52.643242855158014  |  1-1\n",
      "114  |  100  |  39.64337593693592  |  29.255772586026826  |  10-1\n",
      "115  |  100  |  16.748845816211617  |  37.98621352564146  |  1-1\n",
      "116  |  100  |  51.706594329438886  |  19.371110138309017  |  10005-2\n",
      "117  |  100  |  10.934657374019958  |  25.49498103915663  |  1-1\n",
      "118  |  100  |  46.20544651520443  |  124.12275134419369  |  15-1\n",
      "119  |  100  |  45.89640576344  |  104.24200166033458  |  15-1\n",
      "120  |  200  |  11.017482973858831  |  12.165306233145486  |  1-1\n",
      "121  |  200  |  18.50965917416808  |  30.917393569578696  |  15-1\n",
      "122  |  100  |  20.317286706706852  |  11.635107577039257  |  15-1\n",
      "123  |  100  |  52.32903353245974  |  57.064309755290886  |  6-1\n"
     ]
    }
   ],
   "source": [
    "# Method #3: Using the Iterator\n",
    "Vehicles_Iterator = Vissim.Net.Vehicles.Iterator\n",
    "\n",
    "while Vehicles_Iterator.Valid:\n",
    "    Vehicle = Vehicles_Iterator.Item\n",
    "    veh_number =    Vehicle.AttValue('No')\n",
    "    veh_type =      Vehicle.AttValue('VehType')\n",
    "    veh_speed =     Vehicle.AttValue('Speed')\n",
    "    veh_position =  Vehicle.AttValue('Pos')\n",
    "    veh_linklane =  Vehicle.AttValue('Lane')\n",
    "    \n",
    "    print(f'{veh_number}  |  {veh_type}  |  {veh_speed}  |  {veh_position}  |  {veh_linklane}')\n",
    "    \n",
    "    Vehicles_Iterator.Next()"
   ]
  },
  {
   "cell_type": "code",
   "execution_count": 132,
   "id": "ee9225fd-6c4a-4ec7-a6a9-53c4fe33b90a",
   "metadata": {
    "execution": {
     "iopub.execute_input": "2022-01-27T06:33:26.482640Z",
     "iopub.status.busy": "2022-01-27T06:33:26.482640Z",
     "iopub.status.idle": "2022-01-27T06:33:26.496601Z",
     "shell.execute_reply": "2022-01-27T06:33:26.496601Z",
     "shell.execute_reply.started": "2022-01-27T06:33:26.482640Z"
    },
    "tags": []
   },
   "outputs": [
    {
     "name": "stdout",
     "output_type": "stream",
     "text": [
      "56  |  200  |  19.282344186864762  |  101.22157303565864  |  5-1\n",
      "58  |  200  |  19.798135701906705  |  73.00800951681632  |  14-1\n",
      "60  |  200  |  17.427334224180523  |  6.618025875797972  |  5-1\n",
      "62  |  100  |  18.260505460247703  |  13.536145698404802  |  9-1\n",
      "63  |  100  |  43.20300542118759  |  168.58905505549467  |  11-1\n",
      "64  |  100  |  15.554974043088716  |  129.74416880562455  |  4-1\n",
      "65  |  100  |  12.51767424421088  |  118.09167528077401  |  4-1\n",
      "69  |  100  |  10.876762668565645  |  109.11928795106095  |  4-1\n",
      "72  |  100  |  11.860293498555178  |  100.07650400786707  |  4-1\n",
      "74  |  100  |  12.529799546494704  |  89.40093462677308  |  4-1\n",
      "75  |  100  |  20.39398315853323  |  81.22580248455256  |  5-1\n",
      "76  |  100  |  13.328000044507187  |  79.29968947994729  |  4-1\n",
      "78  |  200  |  18.19434399958918  |  66.63127519834224  |  4-1\n",
      "79  |  200  |  19.403657619525127  |  50.570388346779694  |  4-1\n",
      "80  |  100  |  21.60896192480416  |  67.32172182484256  |  5-1\n",
      "82  |  200  |  20.966747401616974  |  55.93454305699516  |  11-1\n",
      "83  |  100  |  19.311542607103735  |  54.5284134308268  |  14-1\n",
      "84  |  100  |  44.302516087491455  |  259.53913601656774  |  11-1\n",
      "85  |  200  |  21.6529618089051  |  34.82932507549221  |  11-1\n",
      "86  |  100  |  0.0  |  74.43081717090006  |  3-1\n",
      "88  |  100  |  0.0  |  67.24157177067305  |  3-1\n",
      "89  |  100  |  24.119205610304732  |  52.104809008262734  |  5-1\n",
      "90  |  200  |  4.535514099524701  |  59.81330615326904  |  3-1\n",
      "91  |  100  |  24.28238340605252  |  35.65745654115713  |  5-1\n",
      "92  |  100  |  8.237596811725762  |  45.68429104571214  |  3-1\n",
      "93  |  100  |  21.33553504454472  |  19.840445935166485  |  14-1\n",
      "94  |  100  |  20.511973469353862  |  38.50367254569956  |  14-1\n",
      "95  |  100  |  22.46675730973953  |  16.92274293150439  |  10015-1\n",
      "96  |  100  |  8.689938004139549  |  29.744549564202014  |  3-1\n",
      "97  |  200  |  19.775704035739906  |  44.521364563969314  |  13-1\n",
      "98  |  200  |  24.281669336668273  |  30.201530417334112  |  3-2\n",
      "99  |  200  |  18.75516379290243  |  8.805153092962197  |  10001-2\n",
      "100  |  200  |  17.025277704887156  |  202.82119327701696  |  1-1\n",
      "101  |  200  |  18.40054706154949  |  0.43701475445392646  |  10016-1\n",
      "102  |  100  |  18.265897541056308  |  184.1673735762686  |  1-1\n",
      "103  |  100  |  41.264670279126214  |  222.5290613844502  |  11-1\n",
      "104  |  100  |  20.100821033158503  |  2.255988669764731  |  10015-1\n",
      "105  |  100  |  18.974384004702014  |  172.32172685868255  |  1-1\n",
      "106  |  100  |  20.8854378894241  |  159.37364929948538  |  1-1\n",
      "107  |  200  |  22.225217851579508  |  138.88224298440412  |  1-1\n",
      "108  |  100  |  24.125993601851754  |  118.07809910414099  |  1-1\n",
      "109  |  100  |  27.391694327689976  |  105.47647189149785  |  1-1\n",
      "110  |  200  |  18.02130708918505  |  86.92317786179157  |  1-1\n",
      "111  |  100  |  22.25112893351363  |  19.733613843174055  |  12-1\n",
      "112  |  100  |  15.892534639373528  |  67.77129032724444  |  1-1\n",
      "113  |  100  |  16.259166038931955  |  52.643242855158014  |  1-1\n",
      "114  |  100  |  39.64337593693592  |  29.255772586026826  |  10-1\n",
      "115  |  100  |  16.748845816211617  |  37.98621352564146  |  1-1\n",
      "116  |  100  |  51.706594329438886  |  19.371110138309017  |  10005-2\n",
      "117  |  100  |  10.934657374019958  |  25.49498103915663  |  1-1\n",
      "118  |  100  |  46.20544651520443  |  124.12275134419369  |  15-1\n",
      "119  |  100  |  45.89640576344  |  104.24200166033458  |  15-1\n",
      "120  |  200  |  11.017482973858831  |  12.165306233145486  |  1-1\n",
      "121  |  200  |  18.50965917416808  |  30.917393569578696  |  15-1\n",
      "122  |  100  |  20.317286706706852  |  11.635107577039257  |  15-1\n",
      "123  |  100  |  52.32903353245974  |  57.064309755290886  |  6-1\n"
     ]
    }
   ],
   "source": [
    "# Method #4: Accessing all Attributes directly using \"GetMultiAttValues\" (fastest way)\n",
    "\n",
    "veh_numbers     = Vissim.Net.Vehicles.GetMultiAttValues('No')      # Output 1. column:consecutive number; 2. column: AttValue\n",
    "veh_types       = Vissim.Net.Vehicles.GetMultiAttValues('VehType') # Output 1. column:consecutive number; 2. column: AttValue\n",
    "veh_speeds      = Vissim.Net.Vehicles.GetMultiAttValues('Speed')   # Output 1. column:consecutive number; 2. column: AttValue\n",
    "veh_positions   = Vissim.Net.Vehicles.GetMultiAttValues('Pos')     # Output 1. column:consecutive number; 2. column: AttValue\n",
    "veh_linklanes   = Vissim.Net.Vehicles.GetMultiAttValues('Lane')    # Output 1. column:consecutive number; 2. column: AttValue\n",
    "\n",
    "for cnt in range(len(veh_numbers)):\n",
    "    print(f'{veh_numbers[cnt][1]}  |  {veh_types[cnt][1]}  |  {veh_speeds[cnt][1]}  |  {veh_positions[cnt][1]}  |  {veh_linklanes[cnt][1]}')\n",
    "    # only display the 2nd column"
   ]
  },
  {
   "cell_type": "code",
   "execution_count": null,
   "id": "57a0697e-30d1-448e-8f86-6d4cbd8777c9",
   "metadata": {},
   "outputs": [],
   "source": [
    "# Method #5: Accessing all attributes directly using \"GetMultipleAttributes\" (even more faster)\n",
    "all_veh_attributes = Vissim.Net.Vehicles.GetMultipleAttributes(('No', 'VehType', 'Speed', 'Pos', 'Lane'))\n",
    "for cnt in range(len(all_veh_attributes)):\n",
    "    print '%s  |  %s  |  %.2f  |  %.2f  |  %s' % (all_veh_attributes[cnt][0], all_veh_attributes[cnt][1], all_veh_attributes[cnt][2], all_veh_attributes[cnt][3], all_veh_attributes[cnt][4]) # only display the 2nd column"
   ]
  },
  {
   "cell_type": "code",
   "execution_count": 134,
   "id": "e9b1a3ba-4b42-4f87-9d64-26c306fda937",
   "metadata": {
    "execution": {
     "iopub.execute_input": "2022-01-27T06:33:56.667407Z",
     "iopub.status.busy": "2022-01-27T06:33:56.667407Z",
     "iopub.status.idle": "2022-01-27T06:33:56.701865Z",
     "shell.execute_reply": "2022-01-27T06:33:56.700814Z",
     "shell.execute_reply.started": "2022-01-27T06:33:56.667407Z"
    },
    "tags": []
   },
   "outputs": [
    {
     "name": "stdout",
     "output_type": "stream",
     "text": [
      "<win32com.gen_py.Vissim Object Library 7.0 64 Bit.IVehicle instance at 0x2697185783920>\n"
     ]
    }
   ],
   "source": [
    "## 특정한 차량 1대만 \n",
    "All_Vehicles    = Vissim.Net.Vehicles.GetAll() # get all vehicles in the network at the actual simulation second\n",
    "Vehicle         = All_Vehicles[0]\n",
    "# alternativly with ItemByKey:\n",
    "# veh_number = 66 # the same as: All_Vehicles[0].AttValue('No')\n",
    "# Vehicle = Vissim.Net.Vehicles.ItemByKey(veh_number)"
   ]
  },
  {
   "cell_type": "markdown",
   "id": "b403a0ec-786c-4c79-85fc-8de046f6fb57",
   "metadata": {},
   "source": [
    "## Set Desired Speed"
   ]
  },
  {
   "cell_type": "code",
   "execution_count": 135,
   "id": "02214cf0-ef76-4673-856b-167f050a493d",
   "metadata": {
    "execution": {
     "iopub.execute_input": "2022-01-27T06:35:24.483737Z",
     "iopub.status.busy": "2022-01-27T06:35:24.483737Z",
     "iopub.status.idle": "2022-01-27T06:35:24.499388Z",
     "shell.execute_reply": "2022-01-27T06:35:24.499388Z",
     "shell.execute_reply.started": "2022-01-27T06:35:24.483737Z"
    },
    "tags": []
   },
   "outputs": [],
   "source": [
    "new_desspeed = 30\n",
    "Vehicle.SetAttValue('DesSpeed', new_desspeed) # 모든 차량에 Desired Speed로 30 적용"
   ]
  },
  {
   "cell_type": "markdown",
   "id": "b5706a1f-a620-41d1-bf7d-7f011445c1e0",
   "metadata": {},
   "source": [
    "## Move/Remove Vehicle"
   ]
  },
  {
   "cell_type": "code",
   "execution_count": null,
   "id": "625ca1ee-159f-417e-873b-b18c2301cd90",
   "metadata": {},
   "outputs": [],
   "source": [
    "# Move a vehicle:\n",
    "link_number     = 1\n",
    "lane_number     = 1\n",
    "link_coordinate = 70\n",
    "Vehicle.MoveToLinkPosition(link_number, lane_number, link_coordinate) # This function will operate during the next simulation step\n",
    "# Hint: In earlier Vissim releases, the name of the function was: MoveToLinkCoordinate\n",
    "\n",
    "Vissim.Simulation.RunSingleStep() # Next Step, so that the vehicle gets moved."
   ]
  },
  {
   "cell_type": "code",
   "execution_count": null,
   "id": "744a26ef-db90-4721-acfe-6c2267e7f20f",
   "metadata": {},
   "outputs": [],
   "source": [
    "# Remove a vehicle:\n",
    "veh_number      = Vehicle.AttValue('No')\n",
    "Vissim.Net.Vehicles.RemoveVehicle(veh_number)\n"
   ]
  },
  {
   "cell_type": "code",
   "execution_count": null,
   "id": "d5146d4a-b083-4b7b-941b-a8cf145b8c35",
   "metadata": {},
   "outputs": [],
   "source": [
    "# Putting a new vehicle to the network:\n",
    "vehicle_type = 100\n",
    "desired_speed = 53 # unit according to the user setting in Vissim [km/h or mph]\n",
    "link = 1\n",
    "lane = 1\n",
    "xcoordinate = 15 # unit according to the user setting in Vissim [m or ft]\n",
    "interaction = True # optional boolean\n",
    "new_Vehicle = Vissim.Net.Vehicles.AddVehicleAtLinkPosition( vehicle_type, link, lane, xcoordinate, desired_speed, interaction)\n",
    "# Note: In earlier Vissim releases, the name of the function was: AddVehicleAtLinkCoordinate"
   ]
  },
  {
   "cell_type": "markdown",
   "id": "663b95af-d68c-4478-ba09-cf8dd4cf329e",
   "metadata": {},
   "source": [
    "# Make Screenshot"
   ]
  },
  {
   "cell_type": "markdown",
   "id": "863e20b0-91c8-44d7-99b4-35367461ff8b",
   "metadata": {},
   "source": [
    "## Zoom to\n",
    "* Zooms the view to the rectangle defined by the two points  (x1, y1) and (x2,y2),  which  are  given  in  world coordinates.  If  the  rectangle  proportions  differ from  the  proportions  of  the  network  window,  the  specified  rectangle  will  be centered in the network editor window."
   ]
  },
  {
   "cell_type": "code",
   "execution_count": 136,
   "id": "fec11ab1-8cae-42cb-a1ed-c6ae2e945c03",
   "metadata": {
    "execution": {
     "iopub.execute_input": "2022-01-27T06:39:08.439380Z",
     "iopub.status.busy": "2022-01-27T06:39:08.439380Z",
     "iopub.status.idle": "2022-01-27T06:39:08.516540Z",
     "shell.execute_reply": "2022-01-27T06:39:08.516540Z",
     "shell.execute_reply.started": "2022-01-27T06:39:08.439380Z"
    },
    "tags": []
   },
   "outputs": [],
   "source": [
    "X1 = 250\n",
    "Y1 = 30\n",
    "X2 = 350\n",
    "Y2 = 135\n",
    "\n",
    "Vissim.Graphics.CurrentNetworkWindow.ZoomTo(X1, Y1, X2, Y2)"
   ]
  },
  {
   "cell_type": "markdown",
   "id": "481aec6d-df98-4fc6-a1ba-c07fda26ef1b",
   "metadata": {},
   "source": [
    "## Make a 2D Screenshot\n",
    "* It  creates  a  graphic  file  of  the  VISSIM  main  window  formatted  according  to its extension: PNG, TIFF, GIF, JPG, JPEG or BMP. A BMP file will be written if the extension can not be recognized."
   ]
  },
  {
   "cell_type": "code",
   "execution_count": 137,
   "id": "7a3ab10c-fdb2-4bd6-87bf-d033015af4ab",
   "metadata": {
    "execution": {
     "iopub.execute_input": "2022-01-27T06:40:28.883200Z",
     "iopub.status.busy": "2022-01-27T06:40:28.882204Z",
     "iopub.status.idle": "2022-01-27T06:40:29.182803Z",
     "shell.execute_reply": "2022-01-27T06:40:29.182803Z",
     "shell.execute_reply.started": "2022-01-27T06:40:28.883200Z"
    },
    "tags": []
   },
   "outputs": [],
   "source": [
    "screenshot_2D_name = 'screenshot2D.jpg' # to set to a specific path: \"C:\\\\Screenshots\\\\screenshot2D.jpg\"\n",
    "screenshot_2D_path = os.path.join(network_folder_path, screenshot_2D_name)\n",
    "sizeFactor = 1 # 1: orginal Size, 2: doubles size\n",
    "\n",
    "Vissim.Graphics.CurrentNetworkWindow.Screenshot(screenshot_2D_path, sizeFactor)"
   ]
  },
  {
   "cell_type": "markdown",
   "id": "d4080de9-f9af-40ff-8766-5e22f825f5c9",
   "metadata": {},
   "source": [
    "## Make a 3D Screenshot"
   ]
  },
  {
   "cell_type": "code",
   "execution_count": null,
   "id": "2e653624-53d1-4a9d-9541-9ab1d68142d6",
   "metadata": {},
   "outputs": [],
   "source": [
    "# Set 3D Mode:\n",
    "Vissim.Graphics.CurrentNetworkWindow.SetAttValue('3D', 1)"
   ]
  },
  {
   "cell_type": "code",
   "execution_count": null,
   "id": "b933cc31-ca67-4003-b935-1213d10d291e",
   "metadata": {},
   "outputs": [],
   "source": [
    "# Set the camera position (viewing angle):\n",
    "xPos = 270\n",
    "yPos = 30\n",
    "zPos = 15\n",
    "yawAngle = 45\n",
    "pitchAngle = 10\n",
    "Vissim.Graphics.CurrentNetworkWindow.SetCameraPositionAndAngle(xPos, yPos, zPos, yawAngle, pitchAngle)"
   ]
  },
  {
   "cell_type": "code",
   "execution_count": null,
   "id": "fd9abbd4-ee58-4617-8641-802b38e9336d",
   "metadata": {},
   "outputs": [],
   "source": [
    "Filename_screenshot = 'screenshot3D.jpg'"
   ]
  },
  {
   "cell_type": "code",
   "execution_count": null,
   "id": "db1d4b31-3e4f-4992-a248-9c656a4ae752",
   "metadata": {},
   "outputs": [],
   "source": [
    "Vissim.Graphics.CurrentNetworkWindow.Screenshot(Filename_screenshot, sizeFactor)"
   ]
  },
  {
   "cell_type": "markdown",
   "id": "805c6f88-0de7-4616-80ec-f9a7fd737983",
   "metadata": {},
   "source": [
    "## Set 2D Mode and old Network position:"
   ]
  },
  {
   "cell_type": "code",
   "execution_count": null,
   "id": "8ccd107a-9919-4e77-9dec-cccec21f6a3a",
   "metadata": {},
   "outputs": [],
   "source": [
    "Vissim.Graphics.CurrentNetworkWindow.SetAttValue('3D', 0)"
   ]
  },
  {
   "cell_type": "code",
   "execution_count": null,
   "id": "e31c4b70-2d82-4288-bfd1-f45a605bd709",
   "metadata": {},
   "outputs": [],
   "source": [
    "X1 = -10\n",
    "Y1 = -10\n",
    "X2 = 600\n",
    "Y2 = 300\n",
    "\n",
    "Vissim.Graphics.CurrentNetworkWindow.ZoomTo(X1, Y1, X2, Y2)"
   ]
  },
  {
   "cell_type": "markdown",
   "id": "51356403-b4cf-4670-9f69-2681330bf01a",
   "metadata": {},
   "source": [
    "## Continue the simulation until end of simulation\n",
    "* Continue the simulation until end of simulation (get(Vissim.Simulation, 'AttValue', 'SimPeriod'))"
   ]
  },
  {
   "cell_type": "code",
   "execution_count": null,
   "id": "903c13e7-4ecd-47ac-bfcd-06104e3f018d",
   "metadata": {},
   "outputs": [],
   "source": [
    "Vissim.Simulation.RunContinuous()"
   ]
  },
  {
   "cell_type": "markdown",
   "id": "78f3d601-347b-4abe-9a9e-8c0be58bd0a2",
   "metadata": {},
   "source": [
    "# Results of Simulations"
   ]
  },
  {
   "cell_type": "markdown",
   "id": "cb97e72b-c5a5-4133-b5af-1149309cea80",
   "metadata": {},
   "source": [
    "## Run 3 Simulations at maximum speed"
   ]
  },
  {
   "cell_type": "code",
   "execution_count": null,
   "id": "ec657cce-d89c-44f0-89be-3dada49269db",
   "metadata": {},
   "outputs": [],
   "source": [
    "Vissim.Graphics.CurrentNetworkWindow.SetAttValue('QuickMode', 1) # 퀵 모드 활성화\n",
    "Vissim.SuspendUpdateGUI(); # VISSIM 워크스페이스 업데이트 잠금 - 편집 불가(network editor, list, chart and signal time table windows)\n",
    "\n",
    "End_of_simulation = 600\n",
    "Vissim.Simulation.SetAttValue('SimPeriod', End_of_simulation)\n",
    "Sim_break_at = 0 # Simulationsecond [s] => 0 means no break!\n",
    "Vissim.Simulation.SetAttValue('SimBreakAt', Sim_break_at)\n",
    "\n",
    "# Set maximum speed:\n",
    "Vissim.Simulation.SetAttValue('UseMaxSimSpeed', True)\n",
    "\n",
    "for cnt_Sim in range(3): # 시뮬레이션을 3번 돌린다\n",
    "    Vissim.Simulation.SetAttValue('RandSeed', cnt_Sim + 1) # RandSeed 0 is not allowed\n",
    "    Vissim.Simulation.RunContinuous()\n",
    "\n",
    "Vissim.ResumeUpdateGUI(); # VISSIM 워크스페이스 업데이트 허용(network editor, list, chart and signal time table windows)\n",
    "Vissim.Graphics.CurrentNetworkWindow.SetAttValue('QuickMode', 0) # 퀵 모드 비활성화"
   ]
  },
  {
   "cell_type": "markdown",
   "id": "328780b9-e404-4c74-a63d-3c12aa150cdd",
   "metadata": {},
   "source": [
    "## List of all Simulation runs\n",
    "* 모든 시뮬레이션 시행 보기"
   ]
  },
  {
   "cell_type": "code",
   "execution_count": null,
   "id": "e7772672-90a5-4b56-a16b-3d10a80fba3c",
   "metadata": {},
   "outputs": [],
   "source": [
    "# List of all Simulation runs:\n",
    "Attributes      = ['Timestamp', 'RandSeed', 'SimEnd']\n",
    "number_of_runs  = Vissim.Net.SimulationRuns.Count\n",
    "List_Sim_Runs   = Vissim.Net.SimulationRuns.GetMultipleAttributes(Attributes)\n",
    "\n",
    "for cnt_S in range(number_of_runs):\n",
    "    print(f'{List_Sim_Runs[cnt_S][0]} | {List_Sim_Runs[cnt_S][1]} | {List_Sim_Runs[cnt_S][2]}')"
   ]
  },
  {
   "cell_type": "markdown",
   "id": "13fa2952-9ca5-43f3-b5e7-cc8e68e0e308",
   "metadata": {},
   "source": [
    "## Get the results of Vehicle Travel Time Measurements\n",
    "* Syntax to get the travel times:\n",
    "    * `Veh_TT_measurement.AttValue('TravTm(sub_attribut_1, sub_attribut_2, sub_attribut_3)')`\n",
    "* `sub_attribut_1`: SimulationRun\n",
    "    * 1, 2, 3, ... Current:     the value of one sepcific simulation (number according to the atribute \"No\" of Simulation Runs (see List of Simulation Runs))\n",
    "    * Avg, StdDev, Min, Max:    aggregated value of all simulations runs: Avg, StdDev, Min, Max\n",
    "* `sub_attribut_2`: TimeInterval\n",
    "    * 1, 2, 3, ... Last:        the value of one sepcific time intervall (number of time interval always starts at 1 (first time interval), 2 (2nd TI), 3 (3rd TI), ...)\n",
    "    * Avg, StdDev, Min, Max:    aggregated value of all time interval of one simulation: Avg, StdDev, Min, Max\n",
    "    * Total:                    sum of all time interval of one simulation\n",
    "* `sub_attribut_3`: VehicleClass\n",
    "    * 10, 20 or All             values only from vehicles of the defined vehicle class number (accoring to the attribute \"No\" of Vehicle Classes)\n",
    "    * Note: You can only access the results of specific vehicle classes if you configurated it in Evaluation > Configuration > Result Attributes\n",
    "* The value of on time intervall is the arithmetic mean of all single travel times of the vehicles."
   ]
  },
  {
   "cell_type": "code",
   "execution_count": null,
   "id": "10df15c6-f2e7-488e-8a73-b0c25d8121fe",
   "metadata": {},
   "outputs": [],
   "source": [
    "Veh_TT_measurement_number = 2\n",
    "Veh_TT_measurement = Vissim.Net.VehicleTravelTimeMeasurements.ItemByKey(Veh_TT_measurement_number)"
   ]
  },
  {
   "cell_type": "code",
   "execution_count": null,
   "id": "e5f4a596-6d1e-4c69-aa4d-6efaad7e3e05",
   "metadata": {},
   "outputs": [],
   "source": [
    "# Example #1:\n",
    "# Average of all simulations (1. input = Avg)\n",
    "# \tof the average of all time intervalls  (2. input = Avg)\n",
    "#   of all vehicle classes (3. input = All)\n",
    "TT      = Veh_TT_measurement.AttValue('TravTm(Avg,Avg,All)')\n",
    "No_Veh  = Veh_TT_measurement.AttValue('Vehs  (Avg,Avg,All)')\n",
    "print 'Average travel time all time intervalls of all simulation of all vehicle classes: %.2f (number of vehicles: %s)' % (TT, No_Veh)"
   ]
  },
  {
   "cell_type": "code",
   "execution_count": null,
   "id": "777219c4-b58a-4c7f-937a-c3b9a0afdba2",
   "metadata": {},
   "outputs": [],
   "source": [
    "# Example #2:\n",
    "# Value of the Current simulation (1. input = Current)\n",
    "# \tof the maximum of all time intervalls (2. input = Max)\n",
    "#   of vehicle class HGV (3. input = 20)\n",
    "TT      = Veh_TT_measurement.AttValue('TravTm(Current,Max,20)')\n",
    "No_Veh  = Veh_TT_measurement.AttValue('Vehs  (Current,Max,20)')\n",
    "print 'Maximum travel time of all time intervalls of the current simulation of vehicle class HGV: %.2f (number of vehicles: %s)' % (TT, No_Veh)"
   ]
  },
  {
   "cell_type": "code",
   "execution_count": null,
   "id": "655e26bc-951b-4925-9ea5-ab27e89520a6",
   "metadata": {},
   "outputs": [],
   "source": [
    "# Example #3: Note: A Travel times from 2nd simulation run must be availible\n",
    "# Value of the 2nd simulation (1. input = 2)\n",
    "# \tof the 1st time interval (2. input = 1)\n",
    "#   of all vehicle classes (3. input = All)\n",
    "# TT      = Veh_TT_measurement.AttValue('TravTm(2,1,All)')\n",
    "# No_Veh  = Veh_TT_measurement.AttValue('Vehs  (2,1,All)')\n",
    "# print 'Travel time of the 1st time interval of the 2nd simulation of all vehicle classes: %.2f (number of vehicles: %s)' % (TT, No_Veh)"
   ]
  },
  {
   "cell_type": "markdown",
   "id": "c036a8b3-72d2-49d3-8be8-c0a3abea6412",
   "metadata": {},
   "source": [
    "## Data Collection\n",
    "* Syntax to get the data: : `DC_measurement.AttValue('Vehs(sub_attribut_1, sub_attribut_2, sub_attribut_3)')`\n",
    "    * `sub_attribut_1`: SimulationRun (same as described at Vehicle Travel Time Measurements)\n",
    "    * `sub_attribut_2`: TimeInterval  (same as described at Vehicle Travel Time Measurements)\n",
    "    * `sub_attribut_3`: VehicleClass  (same as described at Vehicle Travel Time Measurements)\n",
    "* The value of on time intervall is the arithmetic mean of all single values of the vehicles."
   ]
  },
  {
   "cell_type": "code",
   "execution_count": null,
   "id": "06e422df-3183-4c1e-8a70-0498af59112d",
   "metadata": {},
   "outputs": [],
   "source": [
    "DC_measurement_number = 1\n",
    "DC_measurement = Vissim.Net.DataCollectionMeasurements.ItemByKey(DC_measurement_number)\n"
   ]
  },
  {
   "cell_type": "code",
   "execution_count": null,
   "id": "ece8e492-73e4-41cb-a83e-03b89edc72c3",
   "metadata": {},
   "outputs": [],
   "source": [
    "# Example #1:\n",
    "# Average value of all simulations (1. input = Avg)\n",
    "# \tof the 1st time interval (2. input = 1)\n",
    "#   of all vehicle classes (3. input = All)\n",
    "No_Veh          = DC_measurement.AttValue('Vehs        (Avg,1,All)') # number of vehicles\n",
    "Speed           = DC_measurement.AttValue('Speed       (Avg,1,All)') # Speed of vehicles\n",
    "Acceleration    = DC_measurement.AttValue('Acceleration(Avg,1,All)') # Acceleration of vehicles\n",
    "Length          = DC_measurement.AttValue('Length      (Avg,1,All)') # Length of vehicles\n",
    "\n",
    "print(f'Data Collection #{DC_measurement_number} : Average values of all Simulations runs of 1st time intervall of all vehicle classes.')\n",
    "print(f'#vehicles: {No_Veh}; Speed: {Speed}; Acceleration: {Acceleration}; Length: {Length}')"
   ]
  },
  {
   "cell_type": "markdown",
   "id": "80a6cac7-2c81-4da2-aed2-0bc0fa31efd1",
   "metadata": {},
   "source": [
    "## Queue Length\n",
    "* Syntax to get the data : `QueueCounter.AttValue('QLen(sub_attribut_1, sub_attribut_2)')`\n",
    "    * `sub_attribut_1`: SimulationRun (same as described at Vehicle Travel Time Measurements)\n",
    "    * `sub_attribut_2`: TimeInterval  (same as described at Vehicle Travel Time Measurements)"
   ]
  },
  {
   "cell_type": "code",
   "execution_count": null,
   "id": "a39b4115-0df0-402b-951d-ab734f32f378",
   "metadata": {},
   "outputs": [],
   "source": [
    "# Example #1:\n",
    "# Average value of all simulations (1. input = Avg)\n",
    "# \tof the average of all time intervals (2. input = Avg)\n",
    "QC_number = 1\n",
    "\n",
    "maxQ = Vissim.Net.QueueCounters.ItemByKey(QC_number).AttValue('QLenMax(Avg, Avg)')\n",
    "print(f'Average maximum Queue length of all simulations and time intervals of Queue Counter #{QC_number}: {maxQ}')"
   ]
  },
  {
   "cell_type": "markdown",
   "id": "6fe2fac0-db8c-47bb-bd19-e9ffc241f213",
   "metadata": {},
   "source": [
    "# Saving"
   ]
  },
  {
   "cell_type": "code",
   "execution_count": null,
   "id": "cbfb5149-c4ae-4a85-8f0e-5fb9057c48e7",
   "metadata": {},
   "outputs": [],
   "source": [
    "save_inpx_name = 'COM_example_saved.inpx'\n",
    "save_inpx_path = os.path.join(network_folder_path, save_inpx_name)\n",
    "Vissim.SaveNetAs(save_inpx_path)"
   ]
  },
  {
   "cell_type": "code",
   "execution_count": null,
   "id": "8e1f43f0-9e4b-4181-8a25-d2768d7c4005",
   "metadata": {},
   "outputs": [],
   "source": [
    "save_layx_name = 'COM_example_saved.layx'\n",
    "save_layx_path = os.path.join(network_folder_path, save_layx_name)\n",
    "Vissim.SaveLayout(save_layx_path)"
   ]
  },
  {
   "cell_type": "markdown",
   "id": "d8f03734-f136-42fc-acc3-194656ddbc57",
   "metadata": {},
   "source": [
    "# End Vissim"
   ]
  },
  {
   "cell_type": "code",
   "execution_count": null,
   "id": "150f7dc6-93e5-4c24-a19c-46e077c6fc92",
   "metadata": {},
   "outputs": [],
   "source": [
    "Vissim = None"
   ]
  }
 ],
 "metadata": {
  "kernelspec": {
   "display_name": "Python 3",
   "language": "python",
   "name": "python3"
  },
  "language_info": {
   "codemirror_mode": {
    "name": "ipython",
    "version": 3
   },
   "file_extension": ".py",
   "mimetype": "text/x-python",
   "name": "python",
   "nbconvert_exporter": "python",
   "pygments_lexer": "ipython3",
   "version": "3.8.8"
  }
 },
 "nbformat": 4,
 "nbformat_minor": 5
}
