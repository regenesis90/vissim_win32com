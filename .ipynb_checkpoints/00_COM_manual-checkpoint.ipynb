{
 "cells": [
  {
   "cell_type": "markdown",
   "id": "322c9fd1-2812-40e2-aa51-956ad5e042ec",
   "metadata": {},
   "source": [
    "# Python-Script for Vissim 7\n",
    "```\n",
    "Copyright (C) PTV AG. All rights reserved.\n",
    "# Jochen Lohmiller 2015\n",
    "```\n",
    "* 본 코드는 VISSIM 7 - 64bit 설치 시 첨부되어 있는 Python 코드를 국문 해석·주석 추가·개인의 사용목적에 맞도록 개량한 것입니다."
   ]
  },
  {
   "cell_type": "markdown",
   "id": "6f69fad5-2b15-4314-90c1-2c2d9dd23583",
   "metadata": {},
   "source": [
    "# Imports"
   ]
  },
  {
   "cell_type": "code",
   "execution_count": 11,
   "id": "eead053f-5c21-4a0c-bdf2-0e24676e5e42",
   "metadata": {
    "execution": {
     "iopub.execute_input": "2022-01-27T05:39:35.367742Z",
     "iopub.status.busy": "2022-01-27T05:39:35.367742Z",
     "iopub.status.idle": "2022-01-27T05:39:35.381705Z",
     "shell.execute_reply": "2022-01-27T05:39:35.381705Z",
     "shell.execute_reply.started": "2022-01-27T05:39:35.367742Z"
    },
    "tags": []
   },
   "outputs": [],
   "source": [
    "import win32com.client as com\n",
    "import os"
   ]
  },
  {
   "cell_type": "markdown",
   "id": "789129f7-79af-4b85-9e14-fec7b7ec4fa3",
   "metadata": {},
   "source": [
    "# Load VISSIM file"
   ]
  },
  {
   "cell_type": "markdown",
   "id": "8e3e9c4d-5d25-4997-a5c3-7e42cead84d4",
   "metadata": {},
   "source": [
    "## Open a new Vissim Window\n",
    "* COM Server 연결 => 새로운 VISSIM 창 열기(VISSIM이 실행됨)"
   ]
  },
  {
   "cell_type": "code",
   "execution_count": 12,
   "id": "51d2ba47-f004-4b2a-b4ec-81d5e87d765f",
   "metadata": {
    "execution": {
     "iopub.execute_input": "2022-01-27T05:39:37.504334Z",
     "iopub.status.busy": "2022-01-27T05:39:37.503333Z",
     "iopub.status.idle": "2022-01-27T05:39:44.711399Z",
     "shell.execute_reply": "2022-01-27T05:39:44.709403Z",
     "shell.execute_reply.started": "2022-01-27T05:39:37.504334Z"
    },
    "tags": []
   },
   "outputs": [],
   "source": [
    "Vissim = com.Dispatch('Vissim.Vissim-64.700') # Vissim = com.Dispatch() # Vissim 7 - 64 bit - VISSIM을 연다"
   ]
  },
  {
   "cell_type": "markdown",
   "id": "c92ff12d-083d-47fe-a8d9-4ffe96366181",
   "metadata": {},
   "source": [
    "## Load a Vissim Network & Layout"
   ]
  },
  {
   "cell_type": "code",
   "execution_count": 39,
   "id": "25505e5c-7639-460e-9921-a682e8919d1f",
   "metadata": {
    "execution": {
     "iopub.execute_input": "2022-01-27T05:48:15.267294Z",
     "iopub.status.busy": "2022-01-27T05:48:15.267294Z",
     "iopub.status.idle": "2022-01-27T05:48:15.282884Z",
     "shell.execute_reply": "2022-01-27T05:48:15.282884Z",
     "shell.execute_reply.started": "2022-01-27T05:48:15.267294Z"
    },
    "tags": []
   },
   "outputs": [],
   "source": [
    "network_folder_path = 'D:/OneDrive - 연세대학교 (Yonsei University)/Projects/Personal/03_VISSIM_win32com/network_example'"
   ]
  },
  {
   "cell_type": "code",
   "execution_count": 40,
   "id": "d68b926b-c34a-41d0-909b-ad6ea9ad87d2",
   "metadata": {
    "execution": {
     "iopub.execute_input": "2022-01-27T05:48:15.825558Z",
     "iopub.status.busy": "2022-01-27T05:48:15.824566Z",
     "iopub.status.idle": "2022-01-27T05:48:15.838520Z",
     "shell.execute_reply": "2022-01-27T05:48:15.838520Z",
     "shell.execute_reply.started": "2022-01-27T05:48:15.824566Z"
    },
    "tags": []
   },
   "outputs": [
    {
     "name": "stdout",
     "output_type": "stream",
     "text": [
      "D:\\OneDrive - 연세대학교 (Yonsei University)\\Projects\\Personal\\03_VISSIM_win32com\\network_example\\COM_example.inpx\n"
     ]
    }
   ],
   "source": [
    "read_inpx_name = 'COM_example.inpx'\n",
    "read_inpx_path = os.path.abspath(os.path.join(network_folder_path, read_inpx_name)) # 네트워크 파일인 .inpx 로드\n",
    "\n",
    "print(read_inpx_path)\n",
    "\n",
    "flag_read_additionally = False # you can read network(elements) additionally, in this case set \"flag_read_additionally\" to true\n",
    "Vissim.LoadNet(read_inpx_path, flag_read_additionally) # 해당 파일을 오픈"
   ]
  },
  {
   "cell_type": "code",
   "execution_count": 43,
   "id": "38edeb82-ea43-4640-af76-2d748ae0f2c4",
   "metadata": {
    "execution": {
     "iopub.execute_input": "2022-01-27T05:49:39.357530Z",
     "iopub.status.busy": "2022-01-27T05:49:39.357530Z",
     "iopub.status.idle": "2022-01-27T05:49:40.276962Z",
     "shell.execute_reply": "2022-01-27T05:49:40.276962Z",
     "shell.execute_reply.started": "2022-01-27T05:49:39.357530Z"
    },
    "tags": []
   },
   "outputs": [
    {
     "name": "stdout",
     "output_type": "stream",
     "text": [
      "D:/OneDrive - 연세대학교 (Yonsei University)/Projects/Personal/03_VISSIM_win32com/network_example\\COM_example.layx\n"
     ]
    }
   ],
   "source": [
    "read_layx_name = 'COM_example.layx'\n",
    "read_layx_path = os.path.join(network_folder_path, read_layx_name) # 레이아웃 .layx 로드\n",
    "\n",
    "print(read_layx_path)\n",
    "\n",
    "Vissim.LoadLayout(read_layx_path)"
   ]
  },
  {
   "cell_type": "markdown",
   "id": "3d7db510-a0e8-48c6-a4fa-2f69a824f7a7",
   "metadata": {},
   "source": [
    "# Read and Set attributes\n",
    "* Note: All of the following commands can also be executed during a simulation."
   ]
  },
  {
   "cell_type": "markdown",
   "id": "caa7b5e5-4878-4432-91ed-81d63200cfd8",
   "metadata": {},
   "source": [
    "## Read Link Name\n",
    "* Links List의 값을 불러옴"
   ]
  },
  {
   "cell_type": "code",
   "execution_count": 47,
   "id": "ecce20d2-a169-4ba9-8d66-e17c32d57a9f",
   "metadata": {
    "execution": {
     "iopub.execute_input": "2022-01-27T05:54:42.900834Z",
     "iopub.status.busy": "2022-01-27T05:54:42.900834Z",
     "iopub.status.idle": "2022-01-27T05:54:42.916781Z",
     "shell.execute_reply": "2022-01-27T05:54:42.916428Z",
     "shell.execute_reply.started": "2022-01-27T05:54:42.900834Z"
    },
    "tags": []
   },
   "outputs": [
    {
     "name": "stdout",
     "output_type": "stream",
     "text": [
      "Name of Link : 1, Link Behavior Type : 1, Lane Number : 1, Link Length : 212.71(m)\n"
     ]
    }
   ],
   "source": [
    "Link_number = 1 # 링크 번호(No)를 넣음\n",
    "\n",
    "Name_of_Link = Vissim.Net.Links.ItemByKey(Link_number).AttValue('Name')\n",
    "Link_behavior_type = Vissim.Net.Links.ItemByKey(Link_number).AttValue('LinkBehavType')\n",
    "Lane_num = Vissim.Net.Links.ItemByKey(Link_number).AttValue('NumLanes') # 차로번호\n",
    "Link_length = Vissim.Net.Links.ItemByKey(Link_number).AttValue('Length2D') # 링크 길이\n",
    "\n",
    "print(f'Name of Link : {Name_of_Link}, Link Behavior Type : {Link_behavior_type}, Lane Number : {Lane_num}, Link Length : {round(Link_length, 2)}(m)')"
   ]
  },
  {
   "cell_type": "markdown",
   "id": "a3a4b178-3a01-4c6e-a157-2917f21901a8",
   "metadata": {},
   "source": [
    "## Set Link Name"
   ]
  },
  {
   "cell_type": "code",
   "execution_count": 48,
   "id": "e7ba5981-14ed-4d08-871c-490a321a0301",
   "metadata": {
    "execution": {
     "iopub.execute_input": "2022-01-27T05:55:05.699118Z",
     "iopub.status.busy": "2022-01-27T05:55:05.699118Z",
     "iopub.status.idle": "2022-01-27T05:55:05.747344Z",
     "shell.execute_reply": "2022-01-27T05:55:05.747344Z",
     "shell.execute_reply.started": "2022-01-27T05:55:05.699118Z"
    },
    "tags": []
   },
   "outputs": [],
   "source": [
    "new_Name_of_Link = 'New Link Name'\n",
    "Vissim.Net.Links.ItemByKey(Link_number).SetAttValue('Name', new_Name_of_Link) # 1번 링크의 이름을 기존(Old link name)에서 새 것(New Link name)으로 변경"
   ]
  },
  {
   "cell_type": "markdown",
   "id": "f72dccaa-9fd0-41c0-ba1b-6337fad57f6d",
   "metadata": {},
   "source": [
    "## Set a signal controller program"
   ]
  },
  {
   "cell_type": "code",
   "execution_count": 8,
   "id": "89e6ef63-6dbd-41e3-8924-9cef313904fe",
   "metadata": {
    "execution": {
     "iopub.execute_input": "2022-01-27T03:10:08.623388Z",
     "iopub.status.busy": "2022-01-27T03:10:08.622393Z",
     "iopub.status.idle": "2022-01-27T03:10:08.677248Z",
     "shell.execute_reply": "2022-01-27T03:10:08.677248Z",
     "shell.execute_reply.started": "2022-01-27T03:10:08.622393Z"
    },
    "tags": []
   },
   "outputs": [],
   "source": [
    "SC_number = 1 # SC = SignalController\n",
    "SignalController = Vissim.Net.SignalControllers.ItemByKey(SC_number)\n",
    "new_signal_programm_number = 2\n",
    "\n",
    "SignalController.SetAttValue('ProgNo', new_signal_programm_number)"
   ]
  },
  {
   "cell_type": "markdown",
   "id": "6391cdc9-1314-499f-9459-60eb8c26d65f",
   "metadata": {},
   "source": [
    "## Set relative flow of a static vehilce route of a static vehicle routing desision"
   ]
  },
  {
   "cell_type": "code",
   "execution_count": 9,
   "id": "9a974c49-2051-4103-bac3-46c03d3dfd19",
   "metadata": {
    "execution": {
     "iopub.execute_input": "2022-01-27T03:10:13.299837Z",
     "iopub.status.busy": "2022-01-27T03:10:13.299837Z",
     "iopub.status.idle": "2022-01-27T03:10:13.391152Z",
     "shell.execute_reply": "2022-01-27T03:10:13.391152Z",
     "shell.execute_reply.started": "2022-01-27T03:10:13.299837Z"
    },
    "tags": []
   },
   "outputs": [],
   "source": [
    "SVRD_number         = 1 # SVRD = Static Vehicle Routing Desision\n",
    "SVR_number          = 1 # SVR = Static Vehicle Route (of a specific Static Vehicle Routing Desision)\n",
    "new_relativ_flow    = 0.6\n",
    "Vissim.Net.VehicleRoutingDecisionsStatic.ItemByKey(SVRD_number).VehRoutSta.ItemByKey(SVR_number).SetAttValue('RelFlow(1)', new_relativ_flow)\n",
    "# 'RelFlow(1)' means the first defined time interval; to access the third defined time interval: 'RelFlow(3)'"
   ]
  },
  {
   "cell_type": "markdown",
   "id": "c0ae2d0f-68cc-41b6-beb3-5bf73aa163fd",
   "metadata": {},
   "source": [
    "## Set vehicle input"
   ]
  },
  {
   "cell_type": "code",
   "execution_count": 10,
   "id": "19a58b6f-0cde-4467-b287-0e25266c2a8a",
   "metadata": {
    "execution": {
     "iopub.execute_input": "2022-01-27T03:10:22.200063Z",
     "iopub.status.busy": "2022-01-27T03:10:22.200063Z",
     "iopub.status.idle": "2022-01-27T03:10:22.337580Z",
     "shell.execute_reply": "2022-01-27T03:10:22.337580Z",
     "shell.execute_reply.started": "2022-01-27T03:10:22.200063Z"
    },
    "tags": []
   },
   "outputs": [],
   "source": [
    "VI_number   = 1 # VI = Vehicle Input\n",
    "new_volume  = 600 # vehicles per hour(vph). 시간당 교통량\n",
    "\n",
    "Vissim.Net.VehicleInputs.ItemByKey(VI_number).SetAttValue('Volume(1)', new_volume)\n",
    "# 'Volume(1)' means the first defined time interval\n",
    "# Hint: The Volumes of following intervals Volume(i) i = 2...n can only be\n",
    "# edited, if continous is deactivated: (otherwise error: \"AttValue failed: Object 2: Attribute Volume (300) is no subject to changes.\")\n",
    "Vissim.Net.VehicleInputs.ItemByKey(VI_number).SetAttValue('Cont(2)', False)\n",
    "Vissim.Net.VehicleInputs.ItemByKey(VI_number).SetAttValue('Volume(2)', 400)"
   ]
  },
  {
   "cell_type": "markdown",
   "id": "a602c458-6c04-4c5c-a5a2-6862af0a9568",
   "metadata": {},
   "source": [
    "## Set vehicle composition"
   ]
  },
  {
   "cell_type": "code",
   "execution_count": null,
   "id": "dd254432-69ad-4ded-aeb8-b18f891c56ca",
   "metadata": {},
   "outputs": [],
   "source": [
    "Veh_composition_number = 1\n",
    "Rel_Flows = Vissim.Net.VehicleCompositions.ItemByKey(Veh_composition_number).VehCompRelFlows.GetAll()\n",
    "Rel_Flows[0].SetAttValue('VehType', 100) # Vehicle type 변경\n",
    "Rel_Flows[0].SetAttValue('DesSpeedDistr', 50) # Desired speed distribution 변경\n",
    "Rel_Flows[0].SetAttValue('RelFlow', 0.9) # Relative Flow 변경\n",
    "Rel_Flows[1].SetAttValue('RelFlow', 0.1) # 두 번째 Relative Flow 값 변경"
   ]
  },
  {
   "cell_type": "markdown",
   "id": "d588ccf8-3f10-4567-afba-8369d87e740c",
   "metadata": {},
   "source": [
    "# Accessing Multiple Attributes"
   ]
  },
  {
   "cell_type": "code",
   "execution_count": null,
   "id": "0225eb96-44fc-4fa9-bbf6-7667e8412caf",
   "metadata": {},
   "outputs": [],
   "source": [
    "# GetMultiAttValues         Read one attribut of all objects:\n",
    "Attribute = 'Name'\n",
    "Name_of_Links = Vissim.Net.Links.GetMultiAttValues(Attribute)"
   ]
  },
  {
   "cell_type": "code",
   "execution_count": null,
   "id": "d9e24972-8547-4f3a-afcc-8beff719f536",
   "metadata": {},
   "outputs": [],
   "source": [
    "# SetMultiAttValues         Set one attribute of multiple (not necessarily all) objects\n",
    "Link_No_Name = ((1,'New Link Name of Link #1'), (2,'New Link Name of Link #2'), (4,'New Link Name of Link #4'))\n",
    "Vissim.Net.Links.SetMultiAttValues(Attribute, Link_No_Name) # 첫번째 인풋 : Link Number, 두번째 인풋 : Link Name"
   ]
  },
  {
   "cell_type": "code",
   "execution_count": null,
   "id": "72b4f7a5-b7ef-4da4-892c-4b8a0aaf64cc",
   "metadata": {},
   "outputs": [],
   "source": [
    "# GetMultipleAttributes     Read multiple attributes of all objects:\n",
    "Attributes1 = (\"Name\", \"Length2D\")\n",
    "Name_Length_of_Links = Vissim.Net.Links.GetMultipleAttributes(Attributes1)"
   ]
  },
  {
   "cell_type": "code",
   "execution_count": null,
   "id": "5c31261f-f577-47ae-a227-94b80046f47b",
   "metadata": {},
   "outputs": [],
   "source": [
    "# SetMultipleAttributes     Set multiple attribute of multiple (always the first x) objects:\n",
    "Attributes2 = (\"Name\", \"CostPerKm\")\n",
    "Link_Name_Cost = ((\"Name1\", 12),(\"Name2\", 7),(\"Name3\", 5),(\"Name4\", 3))\n",
    "Vissim.Net.Links.SetMultipleAttributes(Attributes2, Link_Name_Cost)"
   ]
  },
  {
   "cell_type": "code",
   "execution_count": null,
   "id": "3e8d390e-8411-481f-ad0d-bd37a747f539",
   "metadata": {},
   "outputs": [],
   "source": [
    "# SetAllAttValues           Set all attributes of one object to one value:\n",
    "Attribute = \"Name\"\n",
    "Link_Name = \"All Links have the same Name\"\n",
    "Vissim.Net.Links.SetAllAttValues(Attribute, Link_Name)\n",
    "Attribute = \"CostPerKm\"\n",
    "Cost = 5.5\n",
    "Vissim.Net.Links.SetAllAttValues(Attribute, Cost)\n",
    "# Note the method SetAllAttValues has a 3rd optional input: Optional ByVal add As Boolean = False; Use only for numbers!\n",
    "Vissim.Net.Links.SetAllAttValues(Attribute, Cost, True) # setting the 3rd input to true, will add 5.5 to all previous costs!"
   ]
  },
  {
   "cell_type": "markdown",
   "id": "181dbabe-45d9-476d-848c-a097eef41f6a",
   "metadata": {},
   "source": [
    "# Simulation"
   ]
  },
  {
   "cell_type": "markdown",
   "id": "5b8f33a0-2406-4c6b-bd0a-4c476d25c520",
   "metadata": {},
   "source": [
    "## Choose Random Seed"
   ]
  },
  {
   "cell_type": "code",
   "execution_count": null,
   "id": "6d0ca927-c644-4930-b969-877df0b97b2f",
   "metadata": {},
   "outputs": [],
   "source": [
    "Random_Seed = 42\n",
    "Vissim.Simulation.SetAttValue('RandSeed', Random_Seed)"
   ]
  },
  {
   "cell_type": "markdown",
   "id": "be4329b8-1af6-46c1-9e57-9f64a428ca29",
   "metadata": {},
   "source": [
    "## Simmulation Run : Single Step"
   ]
  },
  {
   "cell_type": "code",
   "execution_count": null,
   "id": "833d1413-ac9c-4ef1-a112-dea0692de2a6",
   "metadata": {},
   "outputs": [],
   "source": [
    "# To start a simulation you can run a single step:\n",
    "Vissim.Simulation.RunSingleStep()"
   ]
  },
  {
   "cell_type": "markdown",
   "id": "cfb0532b-e278-4c77-b4ac-f08ce5999727",
   "metadata": {},
   "source": [
    "## Simulation Run : Continuous\n",
    "* it stops at breakpoint or end of simulation"
   ]
  },
  {
   "cell_type": "code",
   "execution_count": null,
   "id": "bb0a7b6a-cd1c-4d6c-b2ca-7e78b7a4f459",
   "metadata": {},
   "outputs": [],
   "source": [
    "End_of_simulation = 600 # Simulationsecond [s]\n",
    "Vissim.Simulation.SetAttValue('SimPeriod', End_of_simulation)\n",
    "Sim_break_at = 200 # Simulationsecond [s]\n",
    "Vissim.Simulation.SetAttValue('SimBreakAt', Sim_break_at)"
   ]
  },
  {
   "cell_type": "markdown",
   "id": "b95f8487-f57a-4f55-b392-6074b5dbb915",
   "metadata": {},
   "source": [
    "## Set maximum Speed"
   ]
  },
  {
   "cell_type": "code",
   "execution_count": null,
   "id": "6d300ecb-e3e4-4f77-ad8f-4f89ccfe1730",
   "metadata": {},
   "outputs": [],
   "source": [
    "Vissim.Simulation.SetAttValue('UseMaxSimSpeed', True)\n",
    "# Hint: to change the speed use: Vissim.Simulation.SetAttValue('SimSpeed', 10) # 10 => 10 Sim.sec. / s"
   ]
  },
  {
   "cell_type": "markdown",
   "id": "54bd30e0-4fc5-4693-b8b8-3ed1e4d0b4d9",
   "metadata": {},
   "source": [
    "## Stop the Simulation"
   ]
  },
  {
   "cell_type": "code",
   "execution_count": null,
   "id": "e469af5a-39e7-482a-8ac1-cafab222bd21",
   "metadata": {},
   "outputs": [],
   "source": [
    "Vissim.Simulation.RunContinuous()\n",
    "\n",
    "# To stop the simulation:\n",
    "Vissim.Simulation.Stop()"
   ]
  },
  {
   "cell_type": "markdown",
   "id": "23dd3770-22ea-4e3a-a07b-e0162dfbbb5a",
   "metadata": {},
   "source": [
    "## Access during simulation\n",
    "* Note: All of commands of \"Read and Set attributes (vehicles)\" can also be executed during a simulation\n",
    "* (e.g. changing signal controller program, setting relative flow of a static vehilce route, changing the vehicle input, changing the vehicle composition)."
   ]
  },
  {
   "cell_type": "code",
   "execution_count": null,
   "id": "ec102f88-0445-45f0-a51d-8c154a8b09ed",
   "metadata": {},
   "outputs": [],
   "source": [
    "Sim_break_at = 198 # Simulationsecond [s]\n",
    "\n",
    "Vissim.Simulation.SetAttValue('SimBreakAt', Sim_break_at)\n",
    "Vissim.Simulation.RunContinuous() # Start the simulation until SimBreakAt (198s)"
   ]
  },
  {
   "cell_type": "code",
   "execution_count": null,
   "id": "7f6b69ae-0028-4aaf-80e6-f90c41abbc29",
   "metadata": {},
   "outputs": [],
   "source": [
    "# Get the state of a signal head:\n",
    "SH_number = 1 # SH = SignalHead\n",
    "State_of_SH = Vissim.Net.SignalHeads.ItemByKey(SH_number).AttValue('State') # possible output: 'GREEN', 'RED', 'AMBER', 'REDAMBER'\n",
    "print(f'Actual state of SignalHead{SH_number} is: {State_of_SH}')"
   ]
  },
  {
   "cell_type": "code",
   "execution_count": null,
   "id": "829e8f5b-7e19-4bb1-b252-415c921088d3",
   "metadata": {
    "tags": []
   },
   "outputs": [],
   "source": [
    "# Set the state of a signal controller:\n",
    "# Note: Once a state of a signal group is set, the attribute \"ContrByCOM\" is automatically set to True. Meaning the signal group will keep this state until another state is set by COM or the end of the simulation\n",
    "# To switch back to the defined signal controller, set the attribute signal \"ContrByCOM\" to False (example see below).\n",
    "SC_number = 1 # SC = SignalController\n",
    "SG_number = 1 # SG = SignalGroup\n",
    "SignalController = Vissim.Net.SignalControllers.ItemByKey(SC_number)\n",
    "SignalGroup = SignalController.SGs.ItemByKey(SG_number)\n",
    "new_state = 'GREEN' #possible values: \"GREEN\", \"RED\", \"AMBER\", \"REDAMBER\"\n",
    "SignalGroup.SetAttValue('State', new_state)\n",
    "# Note: The signal controller can only be called at whole simulation seconds, so the state will be set in Vissim at the next whole sim-second, here 199s"
   ]
  },
  {
   "cell_type": "code",
   "execution_count": null,
   "id": "1cc91304-ae24-4d9b-94a1-01d339feaf50",
   "metadata": {},
   "outputs": [],
   "source": [
    "# Simulate so that the new state is activ in the Vissim simulation:\n",
    "Sim_break_at = 200 # Simulationsecond [s]\n",
    "Vissim.Simulation.SetAttValue('SimBreakAt', Sim_break_at)\n",
    "Vissim.Simulation.RunContinuous() # Start the simulation until SimBreakAt (200s)\n",
    "# Give the control back:\n",
    "SignalGroup.SetAttValue('ContrByCOM', False)"
   ]
  },
  {
   "cell_type": "markdown",
   "id": "7c714faa-867c-4fb2-8017-dc7b279f38c7",
   "metadata": {},
   "source": [
    "## Information about all vehicles in the network\n",
    "* in the current simulation second"
   ]
  },
  {
   "cell_type": "code",
   "execution_count": null,
   "id": "8eccc30f-0b87-4d9b-929b-9af1c39c6f46",
   "metadata": {},
   "outputs": [],
   "source": [
    "# Method #1: Loop over all Vehicles: --- using 'GetAll'\n",
    "All_Vehicles = Vissim.Net.Vehicles.GetAll() # get all vehicles in the network at the actual simulation second\n",
    "for cnt_Veh in range(len(All_Vehicles)):\n",
    "    veh_number      = All_Vehicles[cnt_Veh].AttValue('No')\n",
    "    veh_type        = All_Vehicles[cnt_Veh].AttValue('VehType')\n",
    "    veh_speed       = All_Vehicles[cnt_Veh].AttValue('Speed')\n",
    "    veh_position    = All_Vehicles[cnt_Veh].AttValue('Pos')\n",
    "    veh_linklane    = All_Vehicles[cnt_Veh].AttValue('Lane')\n",
    "    print '%s  |  %s  |  %.2f  |  %.2f  |  %s' % (veh_number, veh_type, veh_speed, veh_position, veh_linklane)"
   ]
  },
  {
   "cell_type": "code",
   "execution_count": null,
   "id": "174fb430-ab39-4f04-ad56-00d59c8b2bb8",
   "metadata": {},
   "outputs": [],
   "source": [
    "# Method #2: Loop over all Vehicles using Object Enumeration\n",
    "for Vehicle in Vissim.Net.Vehicles:\n",
    "    veh_number =    Vehicle.AttValue('No')\n",
    "    veh_type =      Vehicle.AttValue('VehType')\n",
    "    veh_speed =     Vehicle.AttValue('Speed')\n",
    "    veh_position =  Vehicle.AttValue('Pos')\n",
    "    veh_linklane =  Vehicle.AttValue('Lane')\n",
    "    print '%s  |  %s  |  %.2f  |  %.2f  |  %s' % (veh_number, veh_type, veh_speed, veh_position, veh_linklane)"
   ]
  },
  {
   "cell_type": "code",
   "execution_count": null,
   "id": "7cb22022-32fb-4100-b81a-0ab1292fd93a",
   "metadata": {},
   "outputs": [],
   "source": [
    "# Method #3: Using the Iterator\n",
    "Vehicles_Iterator = Vissim.Net.Vehicles.Iterator\n",
    "while Vehicles_Iterator.Valid:\n",
    "    Vehicle = Vehicles_Iterator.Item\n",
    "    veh_number =    Vehicle.AttValue('No')\n",
    "    veh_type =      Vehicle.AttValue('VehType')\n",
    "    veh_speed =     Vehicle.AttValue('Speed')\n",
    "    veh_position =  Vehicle.AttValue('Pos')\n",
    "    veh_linklane =  Vehicle.AttValue('Lane')\n",
    "    print '%s  |  %s  |  %.2f  |  %.2f  |  %s' % (veh_number, veh_type, veh_speed, veh_position, veh_linklane)\n",
    "    Vehicles_Iterator.Next()"
   ]
  },
  {
   "cell_type": "code",
   "execution_count": null,
   "id": "ee9225fd-6c4a-4ec7-a6a9-53c4fe33b90a",
   "metadata": {},
   "outputs": [],
   "source": [
    "# Method #4: Accessing all Attributes directly using \"GetMultiAttValues\" (fastest way)\n",
    "veh_numbers     = Vissim.Net.Vehicles.GetMultiAttValues('No')      # Output 1. column:consecutive number; 2. column: AttValue\n",
    "veh_types       = Vissim.Net.Vehicles.GetMultiAttValues('VehType') # Output 1. column:consecutive number; 2. column: AttValue\n",
    "veh_speeds      = Vissim.Net.Vehicles.GetMultiAttValues('Speed')   # Output 1. column:consecutive number; 2. column: AttValue\n",
    "veh_positions   = Vissim.Net.Vehicles.GetMultiAttValues('Pos')     # Output 1. column:consecutive number; 2. column: AttValue\n",
    "veh_linklanes   = Vissim.Net.Vehicles.GetMultiAttValues('Lane')    # Output 1. column:consecutive number; 2. column: AttValue\n",
    "for cnt in range(len(veh_numbers)):\n",
    "    print '%s  |  %s  |  %.2f  |  %.2f  |  %s' % (veh_numbers[cnt][1], veh_types[cnt][1], veh_speeds[cnt][1], veh_positions[cnt][1], veh_linklanes[cnt][1]) # only display the 2nd column"
   ]
  },
  {
   "cell_type": "code",
   "execution_count": null,
   "id": "57a0697e-30d1-448e-8f86-6d4cbd8777c9",
   "metadata": {},
   "outputs": [],
   "source": [
    "# Method #5: Accessing all attributes directly using \"GetMultipleAttributes\" (even more faster)\n",
    "all_veh_attributes = Vissim.Net.Vehicles.GetMultipleAttributes(('No', 'VehType', 'Speed', 'Pos', 'Lane'))\n",
    "for cnt in range(len(all_veh_attributes)):\n",
    "    print '%s  |  %s  |  %.2f  |  %.2f  |  %s' % (all_veh_attributes[cnt][0], all_veh_attributes[cnt][1], all_veh_attributes[cnt][2], all_veh_attributes[cnt][3], all_veh_attributes[cnt][4]) # only display the 2nd column"
   ]
  },
  {
   "cell_type": "code",
   "execution_count": null,
   "id": "e9b1a3ba-4b42-4f87-9d64-26c306fda937",
   "metadata": {},
   "outputs": [],
   "source": [
    "## Operations at one spezific vehicle:\n",
    "All_Vehicles    = Vissim.Net.Vehicles.GetAll() # get all vehicles in the network at the actual simulation second\n",
    "Vehicle         = All_Vehicles[0]\n",
    "# alternativly with ItemByKey:\n",
    "# veh_number = 66 # the same as: All_Vehicles[0].AttValue('No')\n",
    "# Vehicle = Vissim.Net.Vehicles.ItemByKey(veh_number)"
   ]
  },
  {
   "cell_type": "code",
   "execution_count": null,
   "id": "02214cf0-ef76-4673-856b-167f050a493d",
   "metadata": {},
   "outputs": [],
   "source": [
    "# Set desired speed to a vehicle:\n",
    "new_desspeed = 30\n",
    "Vehicle.SetAttValue('DesSpeed', new_desspeed)"
   ]
  },
  {
   "cell_type": "code",
   "execution_count": null,
   "id": "625ca1ee-159f-417e-873b-b18c2301cd90",
   "metadata": {},
   "outputs": [],
   "source": [
    "# Move a vehicle:\n",
    "link_number     = 1\n",
    "lane_number     = 1\n",
    "link_coordinate = 70\n",
    "Vehicle.MoveToLinkPosition(link_number, lane_number, link_coordinate) # This function will operate during the next simulation step\n",
    "# Hint: In earlier Vissim releases, the name of the function was: MoveToLinkCoordinate\n",
    "\n",
    "Vissim.Simulation.RunSingleStep() # Next Step, so that the vehicle gets moved."
   ]
  },
  {
   "cell_type": "code",
   "execution_count": null,
   "id": "744a26ef-db90-4721-acfe-6c2267e7f20f",
   "metadata": {},
   "outputs": [],
   "source": [
    "# Remove a vehicle:\n",
    "veh_number      = Vehicle.AttValue('No')\n",
    "Vissim.Net.Vehicles.RemoveVehicle(veh_number)\n"
   ]
  },
  {
   "cell_type": "code",
   "execution_count": null,
   "id": "d5146d4a-b083-4b7b-941b-a8cf145b8c35",
   "metadata": {},
   "outputs": [],
   "source": [
    "# Putting a new vehicle to the network:\n",
    "vehicle_type = 100\n",
    "desired_speed = 53 # unit according to the user setting in Vissim [km/h or mph]\n",
    "link = 1\n",
    "lane = 1\n",
    "xcoordinate = 15 # unit according to the user setting in Vissim [m or ft]\n",
    "interaction = True # optional boolean\n",
    "new_Vehicle = Vissim.Net.Vehicles.AddVehicleAtLinkPosition( vehicle_type, link, lane, xcoordinate, desired_speed, interaction)\n",
    "# Note: In earlier Vissim releases, the name of the function was: AddVehicleAtLinkCoordinate"
   ]
  },
  {
   "cell_type": "code",
   "execution_count": null,
   "id": "fec11ab1-8cae-42cb-a1ed-c6ae2e945c03",
   "metadata": {},
   "outputs": [],
   "source": [
    "# Make Screenshots of the intersection 2D and 3D:\n",
    "# ZoomTo:\n",
    "# Zooms the view to the rectangle defined by the two points  (x1, y1) and (x2,y2),  which  are  given  in  world coordinates.  If  the  rectangle  proportions  differ\n",
    "# from  the  proportions  of  the  network  window,  the  specified  rectangle  will  be centered in the network editor window.\n",
    "X1 = 250\n",
    "Y1 = 30\n",
    "X2 = 350\n",
    "Y2 = 135\n",
    "Vissim.Graphics.CurrentNetworkWindow.ZoomTo(X1, Y1, X2, Y2)"
   ]
  },
  {
   "cell_type": "code",
   "execution_count": null,
   "id": "7a3ab10c-fdb2-4bd6-87bf-d033015af4ab",
   "metadata": {},
   "outputs": [],
   "source": [
    "# Make a Screenshot in 2D:\n",
    "# It  creates  a  graphic  file  of  the  VISSIM  main  window  formatted  according  to its extension: PNG, TIFF, GIF, JPG, JPEG or BMP. A BMP file will be written if the extension can not be recognized.\n",
    "Filename_screenshot = \"screenshot2D.jpg\" # to set to a specific path: \"C:\\\\Screenshots\\\\screenshot2D.jpg\"\n",
    "sizeFactor = 1 # 1: orginal Size, 2: doubles size\n",
    "Vissim.Graphics.CurrentNetworkWindow.Screenshot(Filename_screenshot, sizeFactor)"
   ]
  },
  {
   "cell_type": "markdown",
   "id": "d4080de9-f9af-40ff-8766-5e22f825f5c9",
   "metadata": {},
   "source": [
    "## Make a Screenshot in 3D"
   ]
  },
  {
   "cell_type": "code",
   "execution_count": null,
   "id": "2e653624-53d1-4a9d-9541-9ab1d68142d6",
   "metadata": {},
   "outputs": [],
   "source": [
    "# Set 3D Mode:\n",
    "Vissim.Graphics.CurrentNetworkWindow.SetAttValue(\"3D\", 1)"
   ]
  },
  {
   "cell_type": "code",
   "execution_count": null,
   "id": "b933cc31-ca67-4003-b935-1213d10d291e",
   "metadata": {},
   "outputs": [],
   "source": [
    "# Set the camera position (viewing angle):\n",
    "xPos = 270\n",
    "yPos = 30\n",
    "zPos = 15\n",
    "yawAngle = 45\n",
    "pitchAngle = 10\n",
    "Vissim.Graphics.CurrentNetworkWindow.SetCameraPositionAndAngle(xPos, yPos, zPos, yawAngle, pitchAngle)"
   ]
  },
  {
   "cell_type": "code",
   "execution_count": null,
   "id": "fd9abbd4-ee58-4617-8641-802b38e9336d",
   "metadata": {},
   "outputs": [],
   "source": [
    "Filename_screenshot = 'screenshot3D.jpg'"
   ]
  },
  {
   "cell_type": "code",
   "execution_count": null,
   "id": "db1d4b31-3e4f-4992-a248-9c656a4ae752",
   "metadata": {},
   "outputs": [],
   "source": [
    "Vissim.Graphics.CurrentNetworkWindow.Screenshot(Filename_screenshot, sizeFactor)"
   ]
  },
  {
   "cell_type": "markdown",
   "id": "805c6f88-0de7-4616-80ec-f9a7fd737983",
   "metadata": {},
   "source": [
    "## Set 2D Mode and old Network position:"
   ]
  },
  {
   "cell_type": "code",
   "execution_count": null,
   "id": "8ccd107a-9919-4e77-9dec-cccec21f6a3a",
   "metadata": {},
   "outputs": [],
   "source": [
    "Vissim.Graphics.CurrentNetworkWindow.SetAttValue('3D', 0)"
   ]
  },
  {
   "cell_type": "code",
   "execution_count": null,
   "id": "e31c4b70-2d82-4288-bfd1-f45a605bd709",
   "metadata": {},
   "outputs": [],
   "source": [
    "X1 = -10\n",
    "Y1 = -10\n",
    "X2 = 600\n",
    "Y2 = 300\n",
    "\n",
    "Vissim.Graphics.CurrentNetworkWindow.ZoomTo(X1, Y1, X2, Y2)"
   ]
  },
  {
   "cell_type": "markdown",
   "id": "51356403-b4cf-4670-9f69-2681330bf01a",
   "metadata": {},
   "source": [
    "## Continue the simulation until end of simulation\n",
    "* Continue the simulation until end of simulation (get(Vissim.Simulation, 'AttValue', 'SimPeriod'))"
   ]
  },
  {
   "cell_type": "code",
   "execution_count": null,
   "id": "903c13e7-4ecd-47ac-bfcd-06104e3f018d",
   "metadata": {},
   "outputs": [],
   "source": [
    "Vissim.Simulation.RunContinuous()"
   ]
  },
  {
   "cell_type": "markdown",
   "id": "78f3d601-347b-4abe-9a9e-8c0be58bd0a2",
   "metadata": {},
   "source": [
    "# Results of Simulations"
   ]
  },
  {
   "cell_type": "markdown",
   "id": "cb97e72b-c5a5-4133-b5af-1149309cea80",
   "metadata": {},
   "source": [
    "## Run 3 Simulations at maximum speed"
   ]
  },
  {
   "cell_type": "code",
   "execution_count": null,
   "id": "ec657cce-d89c-44f0-89be-3dada49269db",
   "metadata": {},
   "outputs": [],
   "source": [
    "Vissim.Graphics.CurrentNetworkWindow.SetAttValue('QuickMode', 1) # 퀵 모드 활성화\n",
    "Vissim.SuspendUpdateGUI(); # VISSIM 워크스페이스 업데이트 잠금 - 편집 불가(network editor, list, chart and signal time table windows)\n",
    "\n",
    "End_of_simulation = 600\n",
    "Vissim.Simulation.SetAttValue('SimPeriod', End_of_simulation)\n",
    "Sim_break_at = 0 # Simulationsecond [s] => 0 means no break!\n",
    "Vissim.Simulation.SetAttValue('SimBreakAt', Sim_break_at)\n",
    "\n",
    "# Set maximum speed:\n",
    "Vissim.Simulation.SetAttValue('UseMaxSimSpeed', True)\n",
    "\n",
    "for cnt_Sim in range(3): # 시뮬레이션을 3번 돌린다\n",
    "    Vissim.Simulation.SetAttValue('RandSeed', cnt_Sim + 1) # RandSeed 0 is not allowed\n",
    "    Vissim.Simulation.RunContinuous()\n",
    "\n",
    "Vissim.ResumeUpdateGUI(); # VISSIM 워크스페이스 업데이트 허용(network editor, list, chart and signal time table windows)\n",
    "Vissim.Graphics.CurrentNetworkWindow.SetAttValue('QuickMode', 0) # 퀵 모드 비활성화"
   ]
  },
  {
   "cell_type": "markdown",
   "id": "328780b9-e404-4c74-a63d-3c12aa150cdd",
   "metadata": {},
   "source": [
    "## List of all Simulation runs\n",
    "* 모든 시뮬레이션 시행 보기"
   ]
  },
  {
   "cell_type": "code",
   "execution_count": null,
   "id": "e7772672-90a5-4b56-a16b-3d10a80fba3c",
   "metadata": {},
   "outputs": [],
   "source": [
    "# List of all Simulation runs:\n",
    "Attributes      = ['Timestamp', 'RandSeed', 'SimEnd']\n",
    "number_of_runs  = Vissim.Net.SimulationRuns.Count\n",
    "List_Sim_Runs   = Vissim.Net.SimulationRuns.GetMultipleAttributes(Attributes)\n",
    "\n",
    "for cnt_S in range(number_of_runs):\n",
    "    print(f'{List_Sim_Runs[cnt_S][0]} | {List_Sim_Runs[cnt_S][1]} | {List_Sim_Runs[cnt_S][2]}')"
   ]
  },
  {
   "cell_type": "markdown",
   "id": "13fa2952-9ca5-43f3-b5e7-cc8e68e0e308",
   "metadata": {},
   "source": [
    "## Get the results of Vehicle Travel Time Measurements\n",
    "* Syntax to get the travel times:\n",
    "    * `Veh_TT_measurement.AttValue('TravTm(sub_attribut_1, sub_attribut_2, sub_attribut_3)')`\n",
    "* `sub_attribut_1`: SimulationRun\n",
    "    * 1, 2, 3, ... Current:     the value of one sepcific simulation (number according to the atribute \"No\" of Simulation Runs (see List of Simulation Runs))\n",
    "    * Avg, StdDev, Min, Max:    aggregated value of all simulations runs: Avg, StdDev, Min, Max\n",
    "* `sub_attribut_2`: TimeInterval\n",
    "    * 1, 2, 3, ... Last:        the value of one sepcific time intervall (number of time interval always starts at 1 (first time interval), 2 (2nd TI), 3 (3rd TI), ...)\n",
    "    * Avg, StdDev, Min, Max:    aggregated value of all time interval of one simulation: Avg, StdDev, Min, Max\n",
    "    * Total:                    sum of all time interval of one simulation\n",
    "* `sub_attribut_3`: VehicleClass\n",
    "    * 10, 20 or All             values only from vehicles of the defined vehicle class number (accoring to the attribute \"No\" of Vehicle Classes)\n",
    "    * Note: You can only access the results of specific vehicle classes if you configurated it in Evaluation > Configuration > Result Attributes\n",
    "* The value of on time intervall is the arithmetic mean of all single travel times of the vehicles."
   ]
  },
  {
   "cell_type": "code",
   "execution_count": null,
   "id": "10df15c6-f2e7-488e-8a73-b0c25d8121fe",
   "metadata": {},
   "outputs": [],
   "source": [
    "Veh_TT_measurement_number = 2\n",
    "Veh_TT_measurement = Vissim.Net.VehicleTravelTimeMeasurements.ItemByKey(Veh_TT_measurement_number)"
   ]
  },
  {
   "cell_type": "code",
   "execution_count": null,
   "id": "e5f4a596-6d1e-4c69-aa4d-6efaad7e3e05",
   "metadata": {},
   "outputs": [],
   "source": [
    "# Example #1:\n",
    "# Average of all simulations (1. input = Avg)\n",
    "# \tof the average of all time intervalls  (2. input = Avg)\n",
    "#   of all vehicle classes (3. input = All)\n",
    "TT      = Veh_TT_measurement.AttValue('TravTm(Avg,Avg,All)')\n",
    "No_Veh  = Veh_TT_measurement.AttValue('Vehs  (Avg,Avg,All)')\n",
    "print 'Average travel time all time intervalls of all simulation of all vehicle classes: %.2f (number of vehicles: %s)' % (TT, No_Veh)"
   ]
  },
  {
   "cell_type": "code",
   "execution_count": null,
   "id": "777219c4-b58a-4c7f-937a-c3b9a0afdba2",
   "metadata": {},
   "outputs": [],
   "source": [
    "# Example #2:\n",
    "# Value of the Current simulation (1. input = Current)\n",
    "# \tof the maximum of all time intervalls (2. input = Max)\n",
    "#   of vehicle class HGV (3. input = 20)\n",
    "TT      = Veh_TT_measurement.AttValue('TravTm(Current,Max,20)')\n",
    "No_Veh  = Veh_TT_measurement.AttValue('Vehs  (Current,Max,20)')\n",
    "print 'Maximum travel time of all time intervalls of the current simulation of vehicle class HGV: %.2f (number of vehicles: %s)' % (TT, No_Veh)"
   ]
  },
  {
   "cell_type": "code",
   "execution_count": null,
   "id": "655e26bc-951b-4925-9ea5-ab27e89520a6",
   "metadata": {},
   "outputs": [],
   "source": [
    "# Example #3: Note: A Travel times from 2nd simulation run must be availible\n",
    "# Value of the 2nd simulation (1. input = 2)\n",
    "# \tof the 1st time interval (2. input = 1)\n",
    "#   of all vehicle classes (3. input = All)\n",
    "# TT      = Veh_TT_measurement.AttValue('TravTm(2,1,All)')\n",
    "# No_Veh  = Veh_TT_measurement.AttValue('Vehs  (2,1,All)')\n",
    "# print 'Travel time of the 1st time interval of the 2nd simulation of all vehicle classes: %.2f (number of vehicles: %s)' % (TT, No_Veh)"
   ]
  },
  {
   "cell_type": "markdown",
   "id": "c036a8b3-72d2-49d3-8be8-c0a3abea6412",
   "metadata": {},
   "source": [
    "## Data Collection\n",
    "* Syntax to get the data: : `DC_measurement.AttValue('Vehs(sub_attribut_1, sub_attribut_2, sub_attribut_3)')`\n",
    "    * `sub_attribut_1`: SimulationRun (same as described at Vehicle Travel Time Measurements)\n",
    "    * `sub_attribut_2`: TimeInterval  (same as described at Vehicle Travel Time Measurements)\n",
    "    * `sub_attribut_3`: VehicleClass  (same as described at Vehicle Travel Time Measurements)\n",
    "* The value of on time intervall is the arithmetic mean of all single values of the vehicles."
   ]
  },
  {
   "cell_type": "code",
   "execution_count": null,
   "id": "06e422df-3183-4c1e-8a70-0498af59112d",
   "metadata": {},
   "outputs": [],
   "source": [
    "DC_measurement_number = 1\n",
    "DC_measurement = Vissim.Net.DataCollectionMeasurements.ItemByKey(DC_measurement_number)\n"
   ]
  },
  {
   "cell_type": "code",
   "execution_count": null,
   "id": "ece8e492-73e4-41cb-a83e-03b89edc72c3",
   "metadata": {},
   "outputs": [],
   "source": [
    "# Example #1:\n",
    "# Average value of all simulations (1. input = Avg)\n",
    "# \tof the 1st time interval (2. input = 1)\n",
    "#   of all vehicle classes (3. input = All)\n",
    "No_Veh          = DC_measurement.AttValue('Vehs        (Avg,1,All)') # number of vehicles\n",
    "Speed           = DC_measurement.AttValue('Speed       (Avg,1,All)') # Speed of vehicles\n",
    "Acceleration    = DC_measurement.AttValue('Acceleration(Avg,1,All)') # Acceleration of vehicles\n",
    "Length          = DC_measurement.AttValue('Length      (Avg,1,All)') # Length of vehicles\n",
    "\n",
    "print(f'Data Collection #{DC_measurement_number} : Average values of all Simulations runs of 1st time intervall of all vehicle classes.')\n",
    "print(f'#vehicles: {No_Veh}; Speed: {Speed}; Acceleration: {Acceleration}; Length: {Length}')"
   ]
  },
  {
   "cell_type": "markdown",
   "id": "80a6cac7-2c81-4da2-aed2-0bc0fa31efd1",
   "metadata": {},
   "source": [
    "## Queue Length\n",
    "* Syntax to get the data : `QueueCounter.AttValue('QLen(sub_attribut_1, sub_attribut_2)')`\n",
    "    * `sub_attribut_1`: SimulationRun (same as described at Vehicle Travel Time Measurements)\n",
    "    * `sub_attribut_2`: TimeInterval  (same as described at Vehicle Travel Time Measurements)"
   ]
  },
  {
   "cell_type": "code",
   "execution_count": null,
   "id": "a39b4115-0df0-402b-951d-ab734f32f378",
   "metadata": {},
   "outputs": [],
   "source": [
    "# Example #1:\n",
    "# Average value of all simulations (1. input = Avg)\n",
    "# \tof the average of all time intervals (2. input = Avg)\n",
    "QC_number = 1\n",
    "\n",
    "maxQ = Vissim.Net.QueueCounters.ItemByKey(QC_number).AttValue('QLenMax(Avg, Avg)')\n",
    "print(f'Average maximum Queue length of all simulations and time intervals of Queue Counter #{QC_number}: {maxQ}')"
   ]
  },
  {
   "cell_type": "markdown",
   "id": "6fe2fac0-db8c-47bb-bd19-e9ffc241f213",
   "metadata": {},
   "source": [
    "# Saving"
   ]
  },
  {
   "cell_type": "code",
   "execution_count": null,
   "id": "cbfb5149-c4ae-4a85-8f0e-5fb9057c48e7",
   "metadata": {},
   "outputs": [],
   "source": [
    "save_inpx_name = 'COM_example_saved.inpx'\n",
    "save_inpx_path = os.path.join(network_folder_path, save_inpx_name)\n",
    "Vissim.SaveNetAs(save_inpx_path)"
   ]
  },
  {
   "cell_type": "code",
   "execution_count": null,
   "id": "8e1f43f0-9e4b-4181-8a25-d2768d7c4005",
   "metadata": {},
   "outputs": [],
   "source": [
    "save_layx_name = 'COM_example_saved.layx'\n",
    "save_layx_path = os.path.join(network_folder_path, save_layx_name)\n",
    "Vissim.SaveLayout(save_layx_path)"
   ]
  },
  {
   "cell_type": "markdown",
   "id": "d8f03734-f136-42fc-acc3-194656ddbc57",
   "metadata": {},
   "source": [
    "# End Vissim"
   ]
  },
  {
   "cell_type": "code",
   "execution_count": null,
   "id": "150f7dc6-93e5-4c24-a19c-46e077c6fc92",
   "metadata": {},
   "outputs": [],
   "source": [
    "Vissim = None"
   ]
  }
 ],
 "metadata": {
  "kernelspec": {
   "display_name": "Python 3",
   "language": "python",
   "name": "python3"
  },
  "language_info": {
   "codemirror_mode": {
    "name": "ipython",
    "version": 3
   },
   "file_extension": ".py",
   "mimetype": "text/x-python",
   "name": "python",
   "nbconvert_exporter": "python",
   "pygments_lexer": "ipython3",
   "version": "3.8.8"
  }
 },
 "nbformat": 4,
 "nbformat_minor": 5
}
