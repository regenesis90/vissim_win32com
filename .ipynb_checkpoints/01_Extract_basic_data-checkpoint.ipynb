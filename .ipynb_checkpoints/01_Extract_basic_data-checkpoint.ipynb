{
 "cells": [
  {
   "cell_type": "markdown",
   "id": "07376ee2-e259-456e-9826-190dc13a0530",
   "metadata": {},
   "source": [
    "# Basic Data Extraction from Vissim 7 Simulation\n",
    "* 본 코드의 기능\n",
    "    * 특정 네트워크를 바탕으로 VISSIM 7에서 시뮬레이션 실행\n",
    "    * 네트워크로부터 각종 필수 데이터를 추출하여 .csv 파일로 저장"
   ]
  },
  {
   "cell_type": "markdown",
   "id": "a034bd85-f91e-4b6f-946c-0ac722d2a630",
   "metadata": {},
   "source": [
    "# Imports"
   ]
  },
  {
   "cell_type": "code",
   "execution_count": 1,
   "id": "c32e7acc-3e2b-40d4-a3e3-4374b02c5a6a",
   "metadata": {
    "execution": {
     "iopub.execute_input": "2022-02-23T04:12:22.724642Z",
     "iopub.status.busy": "2022-02-23T04:12:22.723645Z",
     "iopub.status.idle": "2022-02-23T04:12:24.536511Z",
     "shell.execute_reply": "2022-02-23T04:12:24.532231Z",
     "shell.execute_reply.started": "2022-02-23T04:12:22.724642Z"
    },
    "tags": []
   },
   "outputs": [],
   "source": [
    "import win32com.client as com\n",
    "\n",
    "from tqdm import tqdm\n",
    "import os\n",
    "\n",
    "import numpy as np\n",
    "import pandas as pd"
   ]
  },
  {
   "cell_type": "markdown",
   "id": "8aa3bad4-9129-4fe6-a1f2-ceaec962d916",
   "metadata": {},
   "source": [
    "# Load VISSIM file"
   ]
  },
  {
   "cell_type": "markdown",
   "id": "b35ae27f-e70f-4b96-871c-b421352b0cb0",
   "metadata": {},
   "source": [
    "## Open a new Vissim Window\n",
    "* COM Server 연결 => 새로운 VISSIM 창 열기(VISSIM이 실행됨)"
   ]
  },
  {
   "cell_type": "code",
   "execution_count": 2,
   "id": "7eeb504e-fc55-414c-8858-762d294776af",
   "metadata": {
    "execution": {
     "iopub.execute_input": "2022-02-23T04:12:24.539532Z",
     "iopub.status.busy": "2022-02-23T04:12:24.539532Z",
     "iopub.status.idle": "2022-02-23T04:12:34.448928Z",
     "shell.execute_reply": "2022-02-23T04:12:34.447930Z",
     "shell.execute_reply.started": "2022-02-23T04:12:24.539532Z"
    },
    "tags": []
   },
   "outputs": [],
   "source": [
    "Vissim = com.Dispatch('Vissim.Vissim-64.700') # Vissim = com.Dispatch() # Vissim 7 - 64 bit - VISSIM을 연다"
   ]
  },
  {
   "cell_type": "markdown",
   "id": "428f26e3-3405-4a5b-8427-e7ee14b9cc81",
   "metadata": {},
   "source": [
    "## Load a Vissim Network & Layout"
   ]
  },
  {
   "cell_type": "code",
   "execution_count": 3,
   "id": "99de1f63-0a54-477b-8d12-4a31609e6ff1",
   "metadata": {
    "execution": {
     "iopub.execute_input": "2022-02-23T04:12:34.451922Z",
     "iopub.status.busy": "2022-02-23T04:12:34.451922Z",
     "iopub.status.idle": "2022-02-23T04:12:34.465886Z",
     "shell.execute_reply": "2022-02-23T04:12:34.462892Z",
     "shell.execute_reply.started": "2022-02-23T04:12:34.451922Z"
    },
    "tags": []
   },
   "outputs": [],
   "source": [
    "network_folder_path = 'D:/OneDrive - 연세대학교 (Yonsei University)/Projects/Personal/03_VISSIM_win32com/network_example'"
   ]
  },
  {
   "cell_type": "code",
   "execution_count": 4,
   "id": "ca89d84c-4a74-49d4-b624-104f0aac681c",
   "metadata": {
    "execution": {
     "iopub.execute_input": "2022-02-23T04:12:34.469874Z",
     "iopub.status.busy": "2022-02-23T04:12:34.468883Z",
     "iopub.status.idle": "2022-02-23T04:12:38.831936Z",
     "shell.execute_reply": "2022-02-23T04:12:38.830907Z",
     "shell.execute_reply.started": "2022-02-23T04:12:34.469874Z"
    },
    "tags": []
   },
   "outputs": [
    {
     "name": "stdout",
     "output_type": "stream",
     "text": [
      "D:\\OneDrive - 연세대학교 (Yonsei University)\\Projects\\Personal\\03_VISSIM_win32com\\network_example\\COM_example.inpx\n"
     ]
    }
   ],
   "source": [
    "read_inpx_name = 'COM_example.inpx'\n",
    "read_inpx_path = os.path.abspath(os.path.join(network_folder_path, read_inpx_name)) # 네트워크 파일인 .inpx 로드\n",
    "\n",
    "print(read_inpx_path)\n",
    "\n",
    "flag_read_additionally = False # you can read network(elements) additionally, in this case set \"flag_read_additionally\" to true\n",
    "Vissim.LoadNet(read_inpx_path, flag_read_additionally) # 해당 파일을 오픈"
   ]
  },
  {
   "cell_type": "code",
   "execution_count": 5,
   "id": "9313c622-e15d-4dad-9f43-5248c546ab15",
   "metadata": {
    "execution": {
     "iopub.execute_input": "2022-02-23T04:12:42.845540Z",
     "iopub.status.busy": "2022-02-23T04:12:42.845540Z",
     "iopub.status.idle": "2022-02-23T04:12:43.818035Z",
     "shell.execute_reply": "2022-02-23T04:12:43.818035Z",
     "shell.execute_reply.started": "2022-02-23T04:12:42.845540Z"
    },
    "tags": []
   },
   "outputs": [
    {
     "name": "stdout",
     "output_type": "stream",
     "text": [
      "D:/OneDrive - 연세대학교 (Yonsei University)/Projects/Personal/03_VISSIM_win32com/network_example\\COM_example.layx\n"
     ]
    }
   ],
   "source": [
    "read_layx_name = 'COM_example.layx'\n",
    "read_layx_path = os.path.join(network_folder_path, read_layx_name) # 레이아웃 .layx 로드\n",
    "\n",
    "print(read_layx_path)\n",
    "\n",
    "Vissim.LoadLayout(read_layx_path)"
   ]
  },
  {
   "cell_type": "markdown",
   "id": "b7f5cc02-36dd-4c47-8894-50cb37e284ba",
   "metadata": {},
   "source": [
    "# Extract Data\n",
    "* Note: All of the following commands can also be executed during a simulation."
   ]
  },
  {
   "cell_type": "code",
   "execution_count": 6,
   "id": "36e5c0f6-2ef8-48eb-97ff-7410d177d1bb",
   "metadata": {
    "execution": {
     "iopub.execute_input": "2022-02-23T04:12:48.577547Z",
     "iopub.status.busy": "2022-02-23T04:12:48.577547Z",
     "iopub.status.idle": "2022-02-23T04:12:48.591785Z",
     "shell.execute_reply": "2022-02-23T04:12:48.590788Z",
     "shell.execute_reply.started": "2022-02-23T04:12:48.577547Z"
    },
    "tags": []
   },
   "outputs": [],
   "source": [
    "data_folder_path = 'D:/OneDrive - 연세대학교 (Yonsei University)/Projects/Personal/03_VISSIM_win32com/network_example/data'\n",
    "\n",
    "os.makedirs(data_folder_path, exist_ok = True)"
   ]
  },
  {
   "cell_type": "markdown",
   "id": "c5af5a49-35c4-4f7a-8096-abb9fc199170",
   "metadata": {},
   "source": [
    "## Links list"
   ]
  },
  {
   "cell_type": "code",
   "execution_count": 82,
   "id": "2e464a53-ce42-433a-be80-ce0bcd7bf20b",
   "metadata": {
    "execution": {
     "iopub.execute_input": "2022-01-28T04:39:51.664744Z",
     "iopub.status.busy": "2022-01-28T04:39:51.664744Z",
     "iopub.status.idle": "2022-01-28T04:39:51.700067Z",
     "shell.execute_reply": "2022-01-28T04:39:51.699066Z",
     "shell.execute_reply.started": "2022-01-28T04:39:51.664744Z"
    },
    "tags": []
   },
   "outputs": [],
   "source": [
    "link_att_list = ['No', 'Name', 'LinkBehavType', 'Level', 'NumLanes', 'Length2D']\n",
    "\n",
    "for i in range(len(link_att_list)):\n",
    "    globals()[f'link_tup_{i}'] = Vissim.Net.Links.GetMultiAttValues(link_att_list[i])\n",
    "    \n",
    "    link_local_df = pd.DataFrame.from_records(globals()[f'link_tup_{i}'], columns = ['Count', link_att_list[i]])\n",
    "    \n",
    "    if i == 0:\n",
    "        link_list_df = link_local_df\n",
    "    \n",
    "    else :\n",
    "        link_list_df = pd.merge(link_list_df, link_local_df, how = 'left', on = 'Count')\n",
    "\n",
    "save_link_name = 'links_list.csv'\n",
    "save_link_path = os.path.join(data_folder_path, save_link_name)\n",
    "\n",
    "link_list_df.to_csv(save_link_path, encoding = 'cp949')"
   ]
  },
  {
   "cell_type": "markdown",
   "id": "ea14a5e0-bebe-453e-ba72-18ac6c7ec401",
   "metadata": {},
   "source": [
    "## Veicle Inputs"
   ]
  },
  {
   "cell_type": "code",
   "execution_count": 83,
   "id": "ad0e6159-52b6-4104-b8d4-01fc150e5c5e",
   "metadata": {
    "execution": {
     "iopub.execute_input": "2022-01-28T04:39:53.972901Z",
     "iopub.status.busy": "2022-01-28T04:39:53.972901Z",
     "iopub.status.idle": "2022-01-28T04:39:54.011798Z",
     "shell.execute_reply": "2022-01-28T04:39:54.010799Z",
     "shell.execute_reply.started": "2022-01-28T04:39:53.972901Z"
    },
    "tags": []
   },
   "outputs": [],
   "source": [
    "VI_att_list = ['No', 'Name', 'Link', 'Volume(1)', 'Volume(2)', 'VehComp(1)', 'VehComp(2)']\n",
    "\n",
    "for i in range(len(VI_att_list)):\n",
    "    globals()[f'VI_tup_{i}'] = Vissim.Net.VehicleInputs.GetMultiAttValues(VI_att_list[i])\n",
    "    \n",
    "    VI_local_df = pd.DataFrame.from_records(globals()[f'VI_tup_{i}'], columns = ['Count', VI_att_list[i]])\n",
    "    \n",
    "    if i == 0:\n",
    "        VI_list_df = VI_local_df\n",
    "    \n",
    "    else :\n",
    "        VI_list_df = pd.merge(VI_list_df, VI_local_df, how = 'left', on = 'Count')\n",
    "\n",
    "save_VI_name = 'VI_list.csv'\n",
    "save_VI_path = os.path.join(data_folder_path, save_VI_name)\n",
    "\n",
    "VI_list_df.to_csv(save_VI_path, encoding = 'cp949')"
   ]
  },
  {
   "cell_type": "markdown",
   "id": "4f2f7f36-aca8-498e-a95a-44331772712a",
   "metadata": {},
   "source": [
    "## Vehicle Routes(Static)\n",
    "* SVRD : 각 Vehicle Route 시작위치 정보\n",
    "* SVR : 각 Vehicle Route에서 방향별 종료위치, Relative Flow 정보 기록"
   ]
  },
  {
   "cell_type": "code",
   "execution_count": 11,
   "id": "ecffc1c3-6809-4058-8b9f-29b120c489de",
   "metadata": {
    "execution": {
     "iopub.execute_input": "2022-02-23T04:17:31.545655Z",
     "iopub.status.busy": "2022-02-23T04:17:31.545655Z",
     "iopub.status.idle": "2022-02-23T04:17:31.610482Z",
     "shell.execute_reply": "2022-02-23T04:17:31.609509Z",
     "shell.execute_reply.started": "2022-02-23T04:17:31.545655Z"
    },
    "tags": []
   },
   "outputs": [],
   "source": [
    "SVRD_att_list = ['No', 'Name', 'Link', 'Pos']\n",
    "\n",
    "# SVRD 리스트 뽑기\n",
    "for i in range(len(SVRD_att_list)):\n",
    "    globals()[f'SVRD_tup_{i}'] = Vissim.Net.VehicleRoutingDecisionsStatic.GetMultiAttValues(SVRD_att_list[i])\n",
    "    \n",
    "    SVRD_local_df = pd.DataFrame.from_records(globals()[f'SVRD_tup_{i}'], columns = ['Count', SVRD_att_list[i]])\n",
    "    \n",
    "    if i == 0:\n",
    "        SVRD_list_df = SVRD_local_df\n",
    "    \n",
    "    else :\n",
    "        SVRD_list_df = pd.merge(SVRD_list_df, SVRD_local_df, how = 'left', on = 'Count')\n",
    "\n",
    "save_SVRD_name = 'SVRD_list.csv'\n",
    "save_SVRD_path = os.path.join(data_folder_path, save_SVRD_name)\n",
    "SVRD_list_df.to_csv(save_SVRD_path, encoding = 'cp949')"
   ]
  },
  {
   "cell_type": "code",
   "execution_count": 83,
   "id": "c9aa17ed-4f71-43b6-a1b4-07730c8f7c91",
   "metadata": {
    "execution": {
     "iopub.execute_input": "2022-02-23T05:03:24.125584Z",
     "iopub.status.busy": "2022-02-23T05:03:24.125584Z",
     "iopub.status.idle": "2022-02-23T05:03:24.326648Z",
     "shell.execute_reply": "2022-02-23T05:03:24.326648Z",
     "shell.execute_reply.started": "2022-02-23T05:03:24.125584Z"
    },
    "tags": []
   },
   "outputs": [],
   "source": [
    "SVR_att_list = ['No', 'Name', 'DestLink', 'DestPos', 'RelFlow(1)']\n",
    "SVRD_num_list = SVRD_list_df['No']\n",
    "\n",
    "# 각 SVRD 별 SVR 리스트 뽑기\n",
    "SVR_local_df = []\n",
    "SVR_num_df = []\n",
    "SVR_total_df = pd.DataFrame()\n",
    "\n",
    "for num in SVRD_num_list:\n",
    "    \n",
    "    for i in range(len(SVR_att_list)):\n",
    "        globals()[f'SVR_{num}_{i}'] = Vissim.Net.VehicleRoutingDecisionsStatic.ItemByKey(num).VehRoutSta.GetMultiAttValues(SVR_att_list[i])\n",
    "    \n",
    "        SVR_local_df = pd.DataFrame.from_records(globals()[f'SVR_{num}_{i}'], columns = ['Count', SVR_att_list[i]])\n",
    "        SVR_local_df.insert(1, 'SVDR', num, allow_duplicates = False)\n",
    "    \n",
    "        if i == 0:\n",
    "            SVR_num_df = SVR_local_df\n",
    "    \n",
    "        else :\n",
    "            SVR_num_df = pd.merge(SVR_num_df, SVR_local_df, how = 'left', on = ['Count', 'SVDR'])\n",
    "            \n",
    "    SVR_total_df = pd.concat([SVR_total_df, SVR_num_df], axis = 0)\n",
    "    \n",
    "save_SVR_name = 'SVR_list.csv'\n",
    "save_SVR_path = os.path.join(data_folder_path, save_SVR_name)\n",
    "SVR_total_df.to_csv(save_SVR_path, encoding = 'cp949')"
   ]
  },
  {
   "cell_type": "markdown",
   "id": "ca0f1ec3-aa40-4b34-8b61-582c93c9334a",
   "metadata": {},
   "source": [
    "## Signal Heads"
   ]
  },
  {
   "cell_type": "code",
   "execution_count": 87,
   "id": "da1a2794-1dde-4007-9ebe-97fd45fe592e",
   "metadata": {
    "execution": {
     "iopub.execute_input": "2022-02-23T05:08:33.995861Z",
     "iopub.status.busy": "2022-02-23T05:08:33.995861Z",
     "iopub.status.idle": "2022-02-23T05:08:34.020796Z",
     "shell.execute_reply": "2022-02-23T05:08:34.018802Z",
     "shell.execute_reply.started": "2022-02-23T05:08:33.995861Z"
    },
    "tags": []
   },
   "outputs": [
    {
     "data": {
      "text/plain": [
       "((1, '1-1'), (2, '1-2'), (3, '1-3'), (4, '1-4'), (5, '1-6'))"
      ]
     },
     "execution_count": 87,
     "metadata": {},
     "output_type": "execute_result"
    }
   ],
   "source": [
    "Vissim.Net.SignalHeads.GetMultiAttValues(SignalHeads_att_list[i])"
   ]
  },
  {
   "cell_type": "code",
   "execution_count": 100,
   "id": "e2ecf4da-f02e-49f0-8477-17d7a23232e2",
   "metadata": {
    "execution": {
     "iopub.execute_input": "2022-02-23T05:17:11.398808Z",
     "iopub.status.busy": "2022-02-23T05:17:11.398808Z",
     "iopub.status.idle": "2022-02-23T05:17:11.492391Z",
     "shell.execute_reply": "2022-02-23T05:17:11.491393Z",
     "shell.execute_reply.started": "2022-02-23T05:17:11.398808Z"
    },
    "tags": []
   },
   "outputs": [],
   "source": [
    "SH_att_list = ['No', 'Name', 'Lane', 'Pos', 'SG', 'Type']\n",
    "\n",
    "for i in range(len(SH_att_list)):\n",
    "    globals()[f'SH_tup_{i}'] = Vissim.Net.SignalHeads.GetMultiAttValues(SH_att_list[i])\n",
    "    \n",
    "    SH_local_df = pd.DataFrame.from_records(globals()[f'SH_tup_{i}'], columns = ['Count', SH_att_list[i]])\n",
    "    \n",
    "    if i == 0:\n",
    "        SH_list_df = SH_local_df\n",
    "    \n",
    "    else :\n",
    "        SH_list_df = pd.merge(SH_list_df, SH_local_df, how = 'left', on = 'Count')\n",
    "        \n",
    "SH_list_df['Link'] = SH_list_df['Lane'].str.rsplit(pat = '-').str[0]\n",
    "SH_list_df['Lane'] = SH_list_df['Lane'].str.rsplit(pat = '-').str[1]\n",
    "SH_list_df['SC'] = SH_list_df['SG'].str.rsplit(pat = '-').str[0]\n",
    "SH_list_df['Signal Group'] = SH_list_df['SG'].str.rsplit(pat = '-').str[1]\n",
    "\n",
    "SH_list_df = SH_list_df[['Count', 'No', 'Link', 'Lane', 'Pos', 'SG', 'SC', 'Signal Group', 'Type']]\n",
    "        \n",
    "save_SH_name = 'SignalHeads_list.csv'\n",
    "save_SH_path = os.path.join(data_folder_path, save_SH_name)\n",
    "SH_list_df.to_csv(save_SH_path, encoding = 'cp949')"
   ]
  },
  {
   "cell_type": "markdown",
   "id": "4fc1b2b2-bc1d-4888-8502-a2ee3420aab8",
   "metadata": {},
   "source": [
    "## Vehicle Travel Times"
   ]
  },
  {
   "cell_type": "code",
   "execution_count": 103,
   "id": "d38a6629-20dc-4a58-95ca-72f8ee2d079a",
   "metadata": {
    "execution": {
     "iopub.execute_input": "2022-02-23T05:21:51.542620Z",
     "iopub.status.busy": "2022-02-23T05:21:51.541623Z",
     "iopub.status.idle": "2022-02-23T05:21:51.625767Z",
     "shell.execute_reply": "2022-02-23T05:21:51.624738Z",
     "shell.execute_reply.started": "2022-02-23T05:21:51.542620Z"
    },
    "tags": []
   },
   "outputs": [],
   "source": [
    "VTT_att_list = ['No', 'Name', 'StartLink', 'StartPos', 'EndLink', 'EndPos', 'Dist']\n",
    "\n",
    "# VTT 리스트 뽑기\n",
    "for i in range(len(VTT_att_list)):\n",
    "    globals()[f'VTT_tup_{i}'] = Vissim.Net.VehicleTravelTimeMeasurements.GetMultiAttValues(VTT_att_list[i])\n",
    "    \n",
    "    VTT_local_df = pd.DataFrame.from_records(globals()[f'VTT_tup_{i}'], columns = ['Count', VTT_att_list[i]])\n",
    "    \n",
    "    if i == 0:\n",
    "        VTT_list_df = VTT_local_df\n",
    "    \n",
    "    else :\n",
    "        VTT_list_df = pd.merge(VTT_list_df, VTT_local_df, how = 'left', on = 'Count')\n",
    "\n",
    "save_VTT_name = 'Vehicle Travel Times_list.csv'\n",
    "save_VTT_path = os.path.join(data_folder_path, save_VTT_name)\n",
    "VTT_list_df.to_csv(save_VTT_path, encoding = 'cp949')"
   ]
  },
  {
   "cell_type": "markdown",
   "id": "ecffa901-4bc9-4876-afdf-d010f48560e0",
   "metadata": {},
   "source": [
    "## Vehicle Composition\n"
   ]
  },
  {
   "cell_type": "code",
   "execution_count": 106,
   "id": "71c7bed0-bde8-4915-8507-cc60742e013e",
   "metadata": {
    "execution": {
     "iopub.execute_input": "2022-02-23T05:31:43.709345Z",
     "iopub.status.busy": "2022-02-23T05:31:43.708348Z",
     "iopub.status.idle": "2022-02-23T05:31:43.747555Z",
     "shell.execute_reply": "2022-02-23T05:31:43.746557Z",
     "shell.execute_reply.started": "2022-02-23T05:31:43.709345Z"
    },
    "tags": []
   },
   "outputs": [],
   "source": [
    "VC_att_list = ['No', 'Name']\n",
    "\n",
    "# 리스트 뽑기\n",
    "for i in range(len(VC_att_list)):\n",
    "    globals()[f'VC_tup_{i}'] = Vissim.Net.VehicleCompositions.GetMultiAttValues(VC_att_list[i])\n",
    "    \n",
    "    VC_local_df = pd.DataFrame.from_records(globals()[f'VC_tup_{i}'], columns = ['Count', VC_att_list[i]])\n",
    "    \n",
    "    if i == 0:\n",
    "        VC_list_df = VC_local_df\n",
    "    \n",
    "    else :\n",
    "        VC_list_df = pd.merge(VC_list_df, VC_local_df, how = 'left', on = 'Count')\n",
    "\n",
    "save_VC_name = 'Vehicle Compositions_list.csv'\n",
    "save_VC_path = os.path.join(data_folder_path, save_VC_name)\n",
    "VC_list_df.to_csv(save_VC_path, encoding = 'cp949')"
   ]
  },
  {
   "cell_type": "code",
   "execution_count": 110,
   "id": "2256b25c-e4d9-46cf-953a-1d1cd50cfc73",
   "metadata": {
    "execution": {
     "iopub.execute_input": "2022-02-23T05:36:05.974351Z",
     "iopub.status.busy": "2022-02-23T05:36:05.974351Z",
     "iopub.status.idle": "2022-02-23T05:36:06.047593Z",
     "shell.execute_reply": "2022-02-23T05:36:06.046595Z",
     "shell.execute_reply.started": "2022-02-23T05:36:05.974351Z"
    },
    "tags": []
   },
   "outputs": [],
   "source": [
    "VCR_att_list = ['VehType', 'DesSpeedDistr', 'RelFlow']\n",
    "VC_num_list = VC_list_df['No']\n",
    "\n",
    "# 각 Vehicle Composition 별 Ratio 리스트 뽑기\n",
    "VCR_local_df = []\n",
    "VCR_num_df = []\n",
    "VCR_total_df = pd.DataFrame()\n",
    "\n",
    "for num in VC_num_list:\n",
    "    \n",
    "    for i in range(len(VCR_att_list)):\n",
    "        globals()[f'VCR_{num}_{i}'] = Vissim.Net.VehicleCompositions.ItemByKey(num).VehCompRelFlows.GetMultiAttValues(VCR_att_list[i])\n",
    "    \n",
    "        VCR_local_df = pd.DataFrame.from_records(globals()[f'VCR_{num}_{i}'], columns = ['Count', VCR_att_list[i]])\n",
    "        VCR_local_df.insert(1, 'VCR', num, allow_duplicates = False)\n",
    "    \n",
    "        if i == 0:\n",
    "            VCR_num_df = VCR_local_df\n",
    "    \n",
    "        else :\n",
    "            VCR_num_df = pd.merge(VCR_num_df, VCR_local_df, how = 'left', on = ['Count', 'VCR'])\n",
    "            \n",
    "    VCR_total_df = pd.concat([VCR_total_df, VCR_num_df], axis = 0)\n",
    "    \n",
    "save_VCR_name = 'Vehicle Composition Ratio_list.csv'\n",
    "save_VCR_path = os.path.join(data_folder_path, save_VCR_name)\n",
    "VCR_total_df.to_csv(save_VCR_path, encoding = 'cp949')"
   ]
  },
  {
   "cell_type": "markdown",
   "id": "5c3cc368-d35d-45fa-a964-23b599ed9bf2",
   "metadata": {},
   "source": [
    "# Accessing Multiple Attributes\n",
    "* 모든 링크 번호, ... 등 출력하기"
   ]
  },
  {
   "cell_type": "code",
   "execution_count": 103,
   "id": "e06dc464-bd86-4ae5-8944-37712df78c2a",
   "metadata": {
    "execution": {
     "iopub.execute_input": "2022-01-27T06:17:22.854700Z",
     "iopub.status.busy": "2022-01-27T06:17:22.854700Z",
     "iopub.status.idle": "2022-01-27T06:17:22.982280Z",
     "shell.execute_reply": "2022-01-27T06:17:22.982280Z",
     "shell.execute_reply.started": "2022-01-27T06:17:22.854700Z"
    },
    "tags": []
   },
   "outputs": [],
   "source": [
    "# SetAllAttValues           Set all attributes of one object to one value:\n",
    "Attribute = \"Name\"\n",
    "Link_Name = \"All Links have the same Name\"\n",
    "Vissim.Net.Links.SetAllAttValues(Attribute, Link_Name)\n",
    "Attribute = \"CostPerKm\"\n",
    "Cost = 5.5\n",
    "Vissim.Net.Links.SetAllAttValues(Attribute, Cost)\n",
    "# Note the method SetAllAttValues has a 3rd optional input: Optional ByVal add As Boolean = False; Use only for numbers!\n",
    "Vissim.Net.Links.SetAllAttValues(Attribute, Cost, True) # setting the 3rd input to true, will add 5.5 to all previous costs!"
   ]
  }
 ],
 "metadata": {
  "kernelspec": {
   "display_name": "Python 3",
   "language": "python",
   "name": "python3"
  },
  "language_info": {
   "codemirror_mode": {
    "name": "ipython",
    "version": 3
   },
   "file_extension": ".py",
   "mimetype": "text/x-python",
   "name": "python",
   "nbconvert_exporter": "python",
   "pygments_lexer": "ipython3",
   "version": "3.8.8"
  }
 },
 "nbformat": 4,
 "nbformat_minor": 5
}
